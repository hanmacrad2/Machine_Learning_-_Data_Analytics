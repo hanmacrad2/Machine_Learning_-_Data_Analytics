{
 "cells": [
  {
   "cell_type": "markdown",
   "metadata": {},
   "source": [
    "## Title: Evaluation Solution"
   ]
  },
  {
   "cell_type": "markdown",
   "metadata": {},
   "source": [
    "Notebook created to;\n",
    "- Predict the status of the water pumps using data from Taarifa and the Tanzanian to create a predictive model"
   ]
  },
  {
   "cell_type": "markdown",
   "metadata": {},
   "source": [
    "## Solution Framework: CRISP-DM Framework"
   ]
  },
  {
   "cell_type": "markdown",
   "metadata": {},
   "source": [
    "### Contents \n",
    "    \n",
    "[1. Business Understanding](#0_bus_undr): \n",
    "- Understand what you want to accomplish from a business perspective\n",
    "\n",
    "__1.1__    Set objectives \n",
    "    \n",
    "[2. Data Understanding](#data_exp): \n",
    "\n",
    "__2.1__    __Load data__ \n",
    "\n",
    "__2.2__    __Describe Data__: Gross/Surface properties/summary stats\n",
    "\n",
    "__2.3__    __Data Quality (Task 3)__\n",
    "- Verify data quality in terms of Correct data types, Errors, Duplicates, Missing values. \n",
    "- Clean Accordingly \n",
    "\n",
    "__2.4__   __Merge Data (Task 2)__ \n",
    "- Merge features and labels data on id\n",
    "\n",
    "__2.5__    __Explore Data__:  \n",
    "\n",
    "__2.5.1__ Data Visulations + Distributions \n",
    "- Features\n",
    "- Target variable\n",
    "- Features + Target variable \n",
    "\n",
    "__2.5.2__ Data Correlations (Task 4)\n",
    "\n",
    "[Section 3: Data Preparation](#data_prep)\n",
    "\n",
    "__3.1__    __Format Data for model__\n",
    "- Construct Categorical Variables (Task 5)\n",
    "\n",
    "__3.2__    __Feature Selection__: Based on relevance, correlation, quality, technical constraints\n",
    "\n",
    "__3.3__    __Final Dataset__ (Task 6)\n",
    "\n",
    "[Section 4: Model Building (Task 7)](#model_build)\n",
    "\n",
    "__4.1__    Generate Test design: Separate into train & test sets \n",
    "\n",
    "__4.2__    Select Modelling Technique: Random Forest/GBM/XGBoost\n",
    "\n",
    "__4.3__    Hyper-parameter tuning on selected model\n",
    "\n",
    "__4.4__    Test final model on test set \n",
    "\n",
    "[Section 5: Evaluation/Conclusion](#eval)\n",
    "\n",
    "__5.1__    Conclusions"
   ]
  },
  {
   "cell_type": "markdown",
   "metadata": {},
   "source": [
    "### Task Directory\n",
    "[Task 1 : 2.5.1 Data Visulation](#data_visualisations)\n",
    "\n",
    "[Task 2 : 2.4 Merge Data](#merge)\n",
    "\n",
    "[Task 3 : 2.3 Data Quality](#qual)\n",
    "\n",
    "[Task 4 : 2.4 Data Correlations](#corr)\n",
    "\n",
    "[Task 5 : 2.4 Handing Categorical variables](#construct_categorical)\n",
    "\n",
    "[Task 6 : 3.3.1 Final Dataset](#final_dataset) \n",
    "\n",
    "[Task 7 : Section 4: Model Building ](#model_build)"
   ]
  },
  {
   "cell_type": "markdown",
   "metadata": {},
   "source": [
    "#### Imports"
   ]
  },
  {
   "cell_type": "code",
   "execution_count": 2,
   "metadata": {
    "collapsed": true
   },
   "outputs": [],
   "source": [
    "#Imports\n",
    "import pandas as pd\n",
    "import numpy as np\n",
    "import matplotlib.pyplot as plt\n",
    "import seaborn as sns\n",
    "\n",
    "from sklearn.model_selection import train_test_split\n",
    "from sklearn.ensemble import RandomForestClassifier\n",
    "from sklearn.ensemble import GradientBoostingClassifier\n",
    "from sklearn.model_selection import GridSearchCV\n",
    "from sklearn.model_selection import cross_val_score\n",
    "from sklearn import metrics\n",
    "from xgboost import XGBClassifier"
   ]
  },
  {
   "cell_type": "code",
   "execution_count": 3,
   "metadata": {
    "collapsed": true
   },
   "outputs": [],
   "source": [
    "from sklearn import preprocessing"
   ]
  },
  {
   "cell_type": "markdown",
   "metadata": {},
   "source": [
    "<a id='bus_undr'></a> \n",
    " \n",
    "## 1. Business Understanding\n",
    "The main business objective was;\n",
    "- Predict the status of the water pumps using data from Taarifa and the Tanzanian to create a predictive model\n",
    "    - Achieve this using the CRISP-DM framework"
   ]
  },
  {
   "cell_type": "markdown",
   "metadata": {},
   "source": [
    "<a id='data_exp'></a>\n",
    "## 2. Data Understanding (& Exploration)"
   ]
  },
  {
   "cell_type": "markdown",
   "metadata": {},
   "source": [
    "### 2.1 Load Data"
   ]
  },
  {
   "cell_type": "code",
   "execution_count": 4,
   "metadata": {},
   "outputs": [
    {
     "name": "stderr",
     "output_type": "stream",
     "text": [
      "/app/anaconda3/envs/python352/lib/python3.5/site-packages/IPython/core/interactiveshell.py:2698: DtypeWarning: Columns (1) have mixed types. Specify dtype option on import or set low_memory=False.\n",
      "  interactivity=interactivity, compiler=compiler, result=result)\n"
     ]
    }
   ],
   "source": [
    "#Feature set\n",
    "file = 'data.csv'\n",
    "features = pd.read_csv(file, sep=\",\") "
   ]
  },
  {
   "cell_type": "code",
   "execution_count": 5,
   "metadata": {
    "collapsed": true
   },
   "outputs": [],
   "source": [
    "#Labels\n",
    "file = 'labels.csv'\n",
    "labels = pd.read_csv(file, sep=\",\")"
   ]
  },
  {
   "cell_type": "markdown",
   "metadata": {},
   "source": [
    "### 2.2 Describe data \n",
    "Examine the “gross” or “surface” properties of the acquired data and report on the results."
   ]
  },
  {
   "cell_type": "markdown",
   "metadata": {},
   "source": [
    "#### 2.2.1 View data"
   ]
  },
  {
   "cell_type": "code",
   "execution_count": 7,
   "metadata": {},
   "outputs": [
    {
     "data": {
      "text/html": [
       "<div>\n",
       "<style scoped>\n",
       "    .dataframe tbody tr th:only-of-type {\n",
       "        vertical-align: middle;\n",
       "    }\n",
       "\n",
       "    .dataframe tbody tr th {\n",
       "        vertical-align: top;\n",
       "    }\n",
       "\n",
       "    .dataframe thead th {\n",
       "        text-align: right;\n",
       "    }\n",
       "</style>\n",
       "<table border=\"1\" class=\"dataframe\">\n",
       "  <thead>\n",
       "    <tr style=\"text-align: right;\">\n",
       "      <th></th>\n",
       "      <th>id</th>\n",
       "      <th>amount_tsh</th>\n",
       "      <th>date_recorded</th>\n",
       "      <th>funder</th>\n",
       "      <th>gps_height</th>\n",
       "      <th>installer</th>\n",
       "      <th>longitude</th>\n",
       "      <th>latitude</th>\n",
       "      <th>wpt_name</th>\n",
       "      <th>num_private</th>\n",
       "      <th>...</th>\n",
       "      <th>payment_type</th>\n",
       "      <th>water_quality</th>\n",
       "      <th>quality_group</th>\n",
       "      <th>quantity</th>\n",
       "      <th>quantity_group</th>\n",
       "      <th>source</th>\n",
       "      <th>source_type</th>\n",
       "      <th>source_class</th>\n",
       "      <th>waterpoint_type</th>\n",
       "      <th>waterpoint_type_group</th>\n",
       "    </tr>\n",
       "  </thead>\n",
       "  <tbody>\n",
       "    <tr>\n",
       "      <th>0</th>\n",
       "      <td>69572</td>\n",
       "      <td>6000</td>\n",
       "      <td>3/14/11</td>\n",
       "      <td>Roman</td>\n",
       "      <td>1390.0</td>\n",
       "      <td>Roman</td>\n",
       "      <td>34.938093</td>\n",
       "      <td>-9.856322</td>\n",
       "      <td>none</td>\n",
       "      <td>0</td>\n",
       "      <td>...</td>\n",
       "      <td>annually</td>\n",
       "      <td>soft</td>\n",
       "      <td>good</td>\n",
       "      <td>enough</td>\n",
       "      <td>enough</td>\n",
       "      <td>spring</td>\n",
       "      <td>spring</td>\n",
       "      <td>groundwater</td>\n",
       "      <td>communal standpipe</td>\n",
       "      <td>communal standpipe</td>\n",
       "    </tr>\n",
       "    <tr>\n",
       "      <th>1</th>\n",
       "      <td>8776</td>\n",
       "      <td>0</td>\n",
       "      <td>3/6/13</td>\n",
       "      <td>Grumeti</td>\n",
       "      <td>1399.0</td>\n",
       "      <td>GRUMETI</td>\n",
       "      <td>34.698766</td>\n",
       "      <td>-2.147466</td>\n",
       "      <td>Zahanati</td>\n",
       "      <td>0</td>\n",
       "      <td>...</td>\n",
       "      <td>never pay</td>\n",
       "      <td>soft</td>\n",
       "      <td>good</td>\n",
       "      <td>insufficient</td>\n",
       "      <td>insufficient</td>\n",
       "      <td>rainwater harvesting</td>\n",
       "      <td>rainwater harvesting</td>\n",
       "      <td>surface</td>\n",
       "      <td>communal standpipe</td>\n",
       "      <td>communal standpipe</td>\n",
       "    </tr>\n",
       "    <tr>\n",
       "      <th>2</th>\n",
       "      <td>34310</td>\n",
       "      <td>25</td>\n",
       "      <td>2/25/13</td>\n",
       "      <td>Lottery Club</td>\n",
       "      <td>686.0</td>\n",
       "      <td>World vision</td>\n",
       "      <td>37.460664</td>\n",
       "      <td>-3.821329</td>\n",
       "      <td>Kwa Mahundi</td>\n",
       "      <td>0</td>\n",
       "      <td>...</td>\n",
       "      <td>per bucket</td>\n",
       "      <td>soft</td>\n",
       "      <td>good</td>\n",
       "      <td>enough</td>\n",
       "      <td>enough</td>\n",
       "      <td>dam</td>\n",
       "      <td>dam</td>\n",
       "      <td>surface</td>\n",
       "      <td>communal standpipe multiple</td>\n",
       "      <td>communal standpipe</td>\n",
       "    </tr>\n",
       "    <tr>\n",
       "      <th>3</th>\n",
       "      <td>67743</td>\n",
       "      <td>0</td>\n",
       "      <td>1/28/13</td>\n",
       "      <td>Unicef</td>\n",
       "      <td>263.0</td>\n",
       "      <td>UNICEF</td>\n",
       "      <td>38.486161</td>\n",
       "      <td>-11.155298</td>\n",
       "      <td>Zahanati Ya Nanyumbu</td>\n",
       "      <td>0</td>\n",
       "      <td>...</td>\n",
       "      <td>never pay</td>\n",
       "      <td>soft</td>\n",
       "      <td>good</td>\n",
       "      <td>dry</td>\n",
       "      <td>dry</td>\n",
       "      <td>machine dbh</td>\n",
       "      <td>borehole</td>\n",
       "      <td>groundwater</td>\n",
       "      <td>communal standpipe multiple</td>\n",
       "      <td>communal standpipe</td>\n",
       "    </tr>\n",
       "    <tr>\n",
       "      <th>4</th>\n",
       "      <td>19728</td>\n",
       "      <td>0</td>\n",
       "      <td>7/13/11</td>\n",
       "      <td>Action In A</td>\n",
       "      <td>0.0</td>\n",
       "      <td>Artisan</td>\n",
       "      <td>31.130847</td>\n",
       "      <td>-1.825359</td>\n",
       "      <td>Shuleni</td>\n",
       "      <td>0</td>\n",
       "      <td>...</td>\n",
       "      <td>never pay</td>\n",
       "      <td>soft</td>\n",
       "      <td>good</td>\n",
       "      <td>seasonal</td>\n",
       "      <td>seasonal</td>\n",
       "      <td>rainwater harvesting</td>\n",
       "      <td>rainwater harvesting</td>\n",
       "      <td>surface</td>\n",
       "      <td>communal standpipe</td>\n",
       "      <td>communal standpipe</td>\n",
       "    </tr>\n",
       "  </tbody>\n",
       "</table>\n",
       "<p>5 rows × 40 columns</p>\n",
       "</div>"
      ],
      "text/plain": [
       "      id amount_tsh date_recorded        funder  gps_height     installer  \\\n",
       "0  69572       6000       3/14/11         Roman      1390.0         Roman   \n",
       "1   8776          0        3/6/13       Grumeti      1399.0       GRUMETI   \n",
       "2  34310         25       2/25/13  Lottery Club       686.0  World vision   \n",
       "3  67743          0       1/28/13        Unicef       263.0        UNICEF   \n",
       "4  19728          0       7/13/11   Action In A         0.0       Artisan   \n",
       "\n",
       "   longitude   latitude              wpt_name  num_private  \\\n",
       "0  34.938093  -9.856322                  none            0   \n",
       "1  34.698766  -2.147466              Zahanati            0   \n",
       "2  37.460664  -3.821329           Kwa Mahundi            0   \n",
       "3  38.486161 -11.155298  Zahanati Ya Nanyumbu            0   \n",
       "4  31.130847  -1.825359               Shuleni            0   \n",
       "\n",
       "           ...          payment_type water_quality quality_group  \\\n",
       "0          ...              annually          soft          good   \n",
       "1          ...             never pay          soft          good   \n",
       "2          ...            per bucket          soft          good   \n",
       "3          ...             never pay          soft          good   \n",
       "4          ...             never pay          soft          good   \n",
       "\n",
       "       quantity  quantity_group                source           source_type  \\\n",
       "0        enough          enough                spring                spring   \n",
       "1  insufficient    insufficient  rainwater harvesting  rainwater harvesting   \n",
       "2        enough          enough                   dam                   dam   \n",
       "3           dry             dry           machine dbh              borehole   \n",
       "4      seasonal        seasonal  rainwater harvesting  rainwater harvesting   \n",
       "\n",
       "   source_class              waterpoint_type waterpoint_type_group  \n",
       "0   groundwater           communal standpipe    communal standpipe  \n",
       "1       surface           communal standpipe    communal standpipe  \n",
       "2       surface  communal standpipe multiple    communal standpipe  \n",
       "3   groundwater  communal standpipe multiple    communal standpipe  \n",
       "4       surface           communal standpipe    communal standpipe  \n",
       "\n",
       "[5 rows x 40 columns]"
      ]
     },
     "execution_count": 7,
     "metadata": {},
     "output_type": "execute_result"
    }
   ],
   "source": [
    "features.head(5)"
   ]
  },
  {
   "cell_type": "code",
   "execution_count": 8,
   "metadata": {},
   "outputs": [
    {
     "data": {
      "text/html": [
       "<div>\n",
       "<style scoped>\n",
       "    .dataframe tbody tr th:only-of-type {\n",
       "        vertical-align: middle;\n",
       "    }\n",
       "\n",
       "    .dataframe tbody tr th {\n",
       "        vertical-align: top;\n",
       "    }\n",
       "\n",
       "    .dataframe thead th {\n",
       "        text-align: right;\n",
       "    }\n",
       "</style>\n",
       "<table border=\"1\" class=\"dataframe\">\n",
       "  <thead>\n",
       "    <tr style=\"text-align: right;\">\n",
       "      <th></th>\n",
       "      <th>id</th>\n",
       "      <th>status_group</th>\n",
       "    </tr>\n",
       "  </thead>\n",
       "  <tbody>\n",
       "    <tr>\n",
       "      <th>0</th>\n",
       "      <td>69572</td>\n",
       "      <td>functional</td>\n",
       "    </tr>\n",
       "    <tr>\n",
       "      <th>1</th>\n",
       "      <td>8776</td>\n",
       "      <td>functional</td>\n",
       "    </tr>\n",
       "    <tr>\n",
       "      <th>2</th>\n",
       "      <td>34310</td>\n",
       "      <td>functional</td>\n",
       "    </tr>\n",
       "    <tr>\n",
       "      <th>3</th>\n",
       "      <td>67743</td>\n",
       "      <td>non functional</td>\n",
       "    </tr>\n",
       "    <tr>\n",
       "      <th>4</th>\n",
       "      <td>19728</td>\n",
       "      <td>functional</td>\n",
       "    </tr>\n",
       "  </tbody>\n",
       "</table>\n",
       "</div>"
      ],
      "text/plain": [
       "      id    status_group\n",
       "0  69572      functional\n",
       "1   8776      functional\n",
       "2  34310      functional\n",
       "3  67743  non functional\n",
       "4  19728      functional"
      ]
     },
     "execution_count": 8,
     "metadata": {},
     "output_type": "execute_result"
    }
   ],
   "source": [
    "labels.head(5)"
   ]
  },
  {
   "cell_type": "markdown",
   "metadata": {},
   "source": [
    "#### 2.2.2 Size of data\n",
    "- The size matters in as far as;\n",
    "- Do the number of records for the feature set match that of the labels\n",
    "- Is the data sample large enough for a machine learning algorithm to learn on**\n",
    "- ** maybe notIf we were considering deep learning is there enough data for that?"
   ]
  },
  {
   "cell_type": "code",
   "execution_count": 9,
   "metadata": {},
   "outputs": [
    {
     "data": {
      "text/plain": [
       "(59401, 40)"
      ]
     },
     "execution_count": 9,
     "metadata": {},
     "output_type": "execute_result"
    }
   ],
   "source": [
    "features.shape"
   ]
  },
  {
   "cell_type": "code",
   "execution_count": 10,
   "metadata": {},
   "outputs": [
    {
     "data": {
      "text/plain": [
       "(59400, 2)"
      ]
     },
     "execution_count": 10,
     "metadata": {},
     "output_type": "execute_result"
    }
   ],
   "source": [
    "labels.shape"
   ]
  },
  {
   "cell_type": "markdown",
   "metadata": {
    "collapsed": true
   },
   "source": [
    "#### 2.2.4 Summary statistics of data"
   ]
  },
  {
   "cell_type": "code",
   "execution_count": 11,
   "metadata": {},
   "outputs": [
    {
     "data": {
      "text/html": [
       "<div>\n",
       "<style scoped>\n",
       "    .dataframe tbody tr th:only-of-type {\n",
       "        vertical-align: middle;\n",
       "    }\n",
       "\n",
       "    .dataframe tbody tr th {\n",
       "        vertical-align: top;\n",
       "    }\n",
       "\n",
       "    .dataframe thead th {\n",
       "        text-align: right;\n",
       "    }\n",
       "</style>\n",
       "<table border=\"1\" class=\"dataframe\">\n",
       "  <thead>\n",
       "    <tr style=\"text-align: right;\">\n",
       "      <th></th>\n",
       "      <th>id</th>\n",
       "      <th>gps_height</th>\n",
       "      <th>longitude</th>\n",
       "      <th>latitude</th>\n",
       "      <th>num_private</th>\n",
       "      <th>region_code</th>\n",
       "      <th>district_code</th>\n",
       "      <th>population</th>\n",
       "      <th>construction_year</th>\n",
       "    </tr>\n",
       "  </thead>\n",
       "  <tbody>\n",
       "    <tr>\n",
       "      <th>count</th>\n",
       "      <td>59401.000000</td>\n",
       "      <td>59400.000000</td>\n",
       "      <td>59401.000000</td>\n",
       "      <td>5.940100e+04</td>\n",
       "      <td>59401.000000</td>\n",
       "      <td>59401.000000</td>\n",
       "      <td>59401.000000</td>\n",
       "      <td>59401.000000</td>\n",
       "      <td>59401.00000</td>\n",
       "    </tr>\n",
       "    <tr>\n",
       "      <th>mean</th>\n",
       "      <td>37115.697379</td>\n",
       "      <td>668.304949</td>\n",
       "      <td>34.077438</td>\n",
       "      <td>-5.706125e+00</td>\n",
       "      <td>0.474133</td>\n",
       "      <td>15.296914</td>\n",
       "      <td>5.629703</td>\n",
       "      <td>179.901668</td>\n",
       "      <td>1300.66408</td>\n",
       "    </tr>\n",
       "    <tr>\n",
       "      <th>std</th>\n",
       "      <td>21453.390691</td>\n",
       "      <td>693.111463</td>\n",
       "      <td>6.567377</td>\n",
       "      <td>2.946079e+00</td>\n",
       "      <td>12.236127</td>\n",
       "      <td>17.587272</td>\n",
       "      <td>9.633574</td>\n",
       "      <td>471.480934</td>\n",
       "      <td>951.61674</td>\n",
       "    </tr>\n",
       "    <tr>\n",
       "      <th>min</th>\n",
       "      <td>0.000000</td>\n",
       "      <td>-90.000000</td>\n",
       "      <td>0.000000</td>\n",
       "      <td>-1.164944e+01</td>\n",
       "      <td>0.000000</td>\n",
       "      <td>1.000000</td>\n",
       "      <td>0.000000</td>\n",
       "      <td>-200.000000</td>\n",
       "      <td>0.00000</td>\n",
       "    </tr>\n",
       "    <tr>\n",
       "      <th>25%</th>\n",
       "      <td>18520.000000</td>\n",
       "      <td>0.000000</td>\n",
       "      <td>33.090347</td>\n",
       "      <td>-8.541109e+00</td>\n",
       "      <td>0.000000</td>\n",
       "      <td>5.000000</td>\n",
       "      <td>2.000000</td>\n",
       "      <td>0.000000</td>\n",
       "      <td>0.00000</td>\n",
       "    </tr>\n",
       "    <tr>\n",
       "      <th>50%</th>\n",
       "      <td>37062.000000</td>\n",
       "      <td>369.000000</td>\n",
       "      <td>34.908668</td>\n",
       "      <td>-5.021698e+00</td>\n",
       "      <td>0.000000</td>\n",
       "      <td>12.000000</td>\n",
       "      <td>3.000000</td>\n",
       "      <td>25.000000</td>\n",
       "      <td>1986.00000</td>\n",
       "    </tr>\n",
       "    <tr>\n",
       "      <th>75%</th>\n",
       "      <td>55658.000000</td>\n",
       "      <td>1319.250000</td>\n",
       "      <td>37.178350</td>\n",
       "      <td>-3.326164e+00</td>\n",
       "      <td>0.000000</td>\n",
       "      <td>17.000000</td>\n",
       "      <td>5.000000</td>\n",
       "      <td>215.000000</td>\n",
       "      <td>2004.00000</td>\n",
       "    </tr>\n",
       "    <tr>\n",
       "      <th>max</th>\n",
       "      <td>74247.000000</td>\n",
       "      <td>2770.000000</td>\n",
       "      <td>40.345193</td>\n",
       "      <td>-2.000000e-08</td>\n",
       "      <td>1776.000000</td>\n",
       "      <td>99.000000</td>\n",
       "      <td>80.000000</td>\n",
       "      <td>30500.000000</td>\n",
       "      <td>2013.00000</td>\n",
       "    </tr>\n",
       "  </tbody>\n",
       "</table>\n",
       "</div>"
      ],
      "text/plain": [
       "                 id    gps_height     longitude      latitude   num_private  \\\n",
       "count  59401.000000  59400.000000  59401.000000  5.940100e+04  59401.000000   \n",
       "mean   37115.697379    668.304949     34.077438 -5.706125e+00      0.474133   \n",
       "std    21453.390691    693.111463      6.567377  2.946079e+00     12.236127   \n",
       "min        0.000000    -90.000000      0.000000 -1.164944e+01      0.000000   \n",
       "25%    18520.000000      0.000000     33.090347 -8.541109e+00      0.000000   \n",
       "50%    37062.000000    369.000000     34.908668 -5.021698e+00      0.000000   \n",
       "75%    55658.000000   1319.250000     37.178350 -3.326164e+00      0.000000   \n",
       "max    74247.000000   2770.000000     40.345193 -2.000000e-08   1776.000000   \n",
       "\n",
       "        region_code  district_code    population  construction_year  \n",
       "count  59401.000000   59401.000000  59401.000000        59401.00000  \n",
       "mean      15.296914       5.629703    179.901668         1300.66408  \n",
       "std       17.587272       9.633574    471.480934          951.61674  \n",
       "min        1.000000       0.000000   -200.000000            0.00000  \n",
       "25%        5.000000       2.000000      0.000000            0.00000  \n",
       "50%       12.000000       3.000000     25.000000         1986.00000  \n",
       "75%       17.000000       5.000000    215.000000         2004.00000  \n",
       "max       99.000000      80.000000  30500.000000         2013.00000  "
      ]
     },
     "metadata": {},
     "output_type": "display_data"
    }
   ],
   "source": [
    "#Features - Numeric data types\n",
    "display(features.select_dtypes(include=[np.number]).describe())"
   ]
  },
  {
   "cell_type": "code",
   "execution_count": 12,
   "metadata": {},
   "outputs": [
    {
     "data": {
      "text/html": [
       "<div>\n",
       "<style scoped>\n",
       "    .dataframe tbody tr th:only-of-type {\n",
       "        vertical-align: middle;\n",
       "    }\n",
       "\n",
       "    .dataframe tbody tr th {\n",
       "        vertical-align: top;\n",
       "    }\n",
       "\n",
       "    .dataframe thead th {\n",
       "        text-align: right;\n",
       "    }\n",
       "</style>\n",
       "<table border=\"1\" class=\"dataframe\">\n",
       "  <thead>\n",
       "    <tr style=\"text-align: right;\">\n",
       "      <th></th>\n",
       "      <th>amount_tsh</th>\n",
       "      <th>date_recorded</th>\n",
       "      <th>funder</th>\n",
       "      <th>installer</th>\n",
       "      <th>wpt_name</th>\n",
       "      <th>basin</th>\n",
       "      <th>subvillage</th>\n",
       "      <th>region</th>\n",
       "      <th>lga</th>\n",
       "      <th>ward</th>\n",
       "      <th>...</th>\n",
       "      <th>payment_type</th>\n",
       "      <th>water_quality</th>\n",
       "      <th>quality_group</th>\n",
       "      <th>quantity</th>\n",
       "      <th>quantity_group</th>\n",
       "      <th>source</th>\n",
       "      <th>source_type</th>\n",
       "      <th>source_class</th>\n",
       "      <th>waterpoint_type</th>\n",
       "      <th>waterpoint_type_group</th>\n",
       "    </tr>\n",
       "  </thead>\n",
       "  <tbody>\n",
       "    <tr>\n",
       "      <th>count</th>\n",
       "      <td>59401.0</td>\n",
       "      <td>59401</td>\n",
       "      <td>55766</td>\n",
       "      <td>55746</td>\n",
       "      <td>59401</td>\n",
       "      <td>59401</td>\n",
       "      <td>59030</td>\n",
       "      <td>59401</td>\n",
       "      <td>59401</td>\n",
       "      <td>59401</td>\n",
       "      <td>...</td>\n",
       "      <td>59401</td>\n",
       "      <td>59401</td>\n",
       "      <td>59401</td>\n",
       "      <td>59401</td>\n",
       "      <td>59401</td>\n",
       "      <td>59401</td>\n",
       "      <td>59401</td>\n",
       "      <td>59401</td>\n",
       "      <td>59401</td>\n",
       "      <td>59401</td>\n",
       "    </tr>\n",
       "    <tr>\n",
       "      <th>unique</th>\n",
       "      <td>164.0</td>\n",
       "      <td>356</td>\n",
       "      <td>1897</td>\n",
       "      <td>2145</td>\n",
       "      <td>37400</td>\n",
       "      <td>10</td>\n",
       "      <td>19287</td>\n",
       "      <td>21</td>\n",
       "      <td>125</td>\n",
       "      <td>2092</td>\n",
       "      <td>...</td>\n",
       "      <td>8</td>\n",
       "      <td>8</td>\n",
       "      <td>6</td>\n",
       "      <td>5</td>\n",
       "      <td>5</td>\n",
       "      <td>10</td>\n",
       "      <td>8</td>\n",
       "      <td>3</td>\n",
       "      <td>7</td>\n",
       "      <td>6</td>\n",
       "    </tr>\n",
       "    <tr>\n",
       "      <th>top</th>\n",
       "      <td>0.0</td>\n",
       "      <td>3/15/11</td>\n",
       "      <td>Government Of Tanzania</td>\n",
       "      <td>DWE</td>\n",
       "      <td>none</td>\n",
       "      <td>Lake Victoria</td>\n",
       "      <td>Madukani</td>\n",
       "      <td>Iringa</td>\n",
       "      <td>Njombe</td>\n",
       "      <td>Igosi</td>\n",
       "      <td>...</td>\n",
       "      <td>never pay</td>\n",
       "      <td>soft</td>\n",
       "      <td>good</td>\n",
       "      <td>enough</td>\n",
       "      <td>enough</td>\n",
       "      <td>spring</td>\n",
       "      <td>spring</td>\n",
       "      <td>groundwater</td>\n",
       "      <td>communal standpipe</td>\n",
       "      <td>communal standpipe</td>\n",
       "    </tr>\n",
       "    <tr>\n",
       "      <th>freq</th>\n",
       "      <td>30177.0</td>\n",
       "      <td>572</td>\n",
       "      <td>9084</td>\n",
       "      <td>17402</td>\n",
       "      <td>3563</td>\n",
       "      <td>10247</td>\n",
       "      <td>508</td>\n",
       "      <td>5294</td>\n",
       "      <td>2503</td>\n",
       "      <td>307</td>\n",
       "      <td>...</td>\n",
       "      <td>25347</td>\n",
       "      <td>50819</td>\n",
       "      <td>50819</td>\n",
       "      <td>33186</td>\n",
       "      <td>33186</td>\n",
       "      <td>17022</td>\n",
       "      <td>17022</td>\n",
       "      <td>45795</td>\n",
       "      <td>28523</td>\n",
       "      <td>34626</td>\n",
       "    </tr>\n",
       "  </tbody>\n",
       "</table>\n",
       "<p>4 rows × 31 columns</p>\n",
       "</div>"
      ],
      "text/plain": [
       "        amount_tsh date_recorded                  funder installer wpt_name  \\\n",
       "count      59401.0         59401                   55766     55746    59401   \n",
       "unique       164.0           356                    1897      2145    37400   \n",
       "top            0.0       3/15/11  Government Of Tanzania       DWE     none   \n",
       "freq       30177.0           572                    9084     17402     3563   \n",
       "\n",
       "                basin subvillage  region     lga   ward          ...           \\\n",
       "count           59401      59030   59401   59401  59401          ...            \n",
       "unique             10      19287      21     125   2092          ...            \n",
       "top     Lake Victoria   Madukani  Iringa  Njombe  Igosi          ...            \n",
       "freq            10247        508    5294    2503    307          ...            \n",
       "\n",
       "       payment_type water_quality quality_group quantity quantity_group  \\\n",
       "count         59401         59401         59401    59401          59401   \n",
       "unique            8             8             6        5              5   \n",
       "top       never pay          soft          good   enough         enough   \n",
       "freq          25347         50819         50819    33186          33186   \n",
       "\n",
       "        source source_type source_class     waterpoint_type  \\\n",
       "count    59401       59401        59401               59401   \n",
       "unique      10           8            3                   7   \n",
       "top     spring      spring  groundwater  communal standpipe   \n",
       "freq     17022       17022        45795               28523   \n",
       "\n",
       "       waterpoint_type_group  \n",
       "count                  59401  \n",
       "unique                     6  \n",
       "top       communal standpipe  \n",
       "freq                   34626  \n",
       "\n",
       "[4 rows x 31 columns]"
      ]
     },
     "metadata": {},
     "output_type": "display_data"
    }
   ],
   "source": [
    "#Features - Non-Numeric data types\n",
    "display(features.select_dtypes(include=[np.object]).describe())"
   ]
  },
  {
   "cell_type": "code",
   "execution_count": 13,
   "metadata": {},
   "outputs": [
    {
     "data": {
      "text/html": [
       "<div>\n",
       "<style scoped>\n",
       "    .dataframe tbody tr th:only-of-type {\n",
       "        vertical-align: middle;\n",
       "    }\n",
       "\n",
       "    .dataframe tbody tr th {\n",
       "        vertical-align: top;\n",
       "    }\n",
       "\n",
       "    .dataframe thead th {\n",
       "        text-align: right;\n",
       "    }\n",
       "</style>\n",
       "<table border=\"1\" class=\"dataframe\">\n",
       "  <thead>\n",
       "    <tr style=\"text-align: right;\">\n",
       "      <th></th>\n",
       "      <th>id</th>\n",
       "      <th>status_group</th>\n",
       "    </tr>\n",
       "  </thead>\n",
       "  <tbody>\n",
       "    <tr>\n",
       "      <th>count</th>\n",
       "      <td>59400</td>\n",
       "      <td>59400</td>\n",
       "    </tr>\n",
       "    <tr>\n",
       "      <th>unique</th>\n",
       "      <td>59399</td>\n",
       "      <td>4</td>\n",
       "    </tr>\n",
       "    <tr>\n",
       "      <th>top</th>\n",
       "      <td>7464</td>\n",
       "      <td>functional</td>\n",
       "    </tr>\n",
       "    <tr>\n",
       "      <th>freq</th>\n",
       "      <td>2</td>\n",
       "      <td>32259</td>\n",
       "    </tr>\n",
       "  </tbody>\n",
       "</table>\n",
       "</div>"
      ],
      "text/plain": [
       "           id status_group\n",
       "count   59400        59400\n",
       "unique  59399            4\n",
       "top      7464   functional\n",
       "freq        2        32259"
      ]
     },
     "metadata": {},
     "output_type": "display_data"
    }
   ],
   "source": [
    "#Labels - Non-Numeric data types\n",
    "display(labels.select_dtypes(include=[np.object]).describe())"
   ]
  },
  {
   "cell_type": "markdown",
   "metadata": {},
   "source": [
    "<a id='qual'></a>\n",
    "### 2.3 Verify Data Quality & Clean Accordingly  (Task 3)\n",
    "- Correct data types, Errors, Duplicates, Missing values "
   ]
  },
  {
   "cell_type": "markdown",
   "metadata": {},
   "source": [
    "#### 2.3.1 Duplicate records"
   ]
  },
  {
   "cell_type": "code",
   "execution_count": 14,
   "metadata": {
    "collapsed": true
   },
   "outputs": [],
   "source": [
    "def check_drop_dups(df):\n",
    "    '''\n",
    "    Drop duplicate rows from the dataframe. Print shape before and after to show if there were any duplicates\n",
    "    \n",
    "    Parameters:\n",
    "    df: dataframe\n",
    "    \n",
    "    Returns\n",
    "    df: dataframe with any duplicates dropped\n",
    "    '''\n",
    "    \n",
    "    #Print shape before\n",
    "    print('Shape before drop duplicates = {}'.format(df.shape))\n",
    "    #Drop duplicates\n",
    "    df = df.drop_duplicates()\n",
    "    #Print shape after\n",
    "    print('Shape after drop duplicates = {}'.format(df.shape))\n",
    "    \n",
    "    return df"
   ]
  },
  {
   "cell_type": "code",
   "execution_count": 15,
   "metadata": {},
   "outputs": [
    {
     "name": "stdout",
     "output_type": "stream",
     "text": [
      "Shape before drop duplicates = (59401, 40)\n",
      "Shape after drop duplicates = (59401, 40)\n"
     ]
    }
   ],
   "source": [
    "#Apply on features set\n",
    "features = check_drop_dups(features)"
   ]
  },
  {
   "cell_type": "code",
   "execution_count": 16,
   "metadata": {},
   "outputs": [
    {
     "name": "stdout",
     "output_type": "stream",
     "text": [
      "Shape before drop duplicates = (59400, 2)\n",
      "Shape after drop duplicates = (59399, 2)\n"
     ]
    }
   ],
   "source": [
    "#Apply on labels\n",
    "labels = check_drop_dups(labels)"
   ]
  },
  {
   "cell_type": "markdown",
   "metadata": {},
   "source": [
    "#### 2.3.2 Data types \n",
    "- Inspect data types and verify they are of the expected type\n",
    "- Check whether __id__ column (column for joining features and labels) is of the same type"
   ]
  },
  {
   "cell_type": "code",
   "execution_count": 17,
   "metadata": {},
   "outputs": [
    {
     "data": {
      "text/plain": [
       "id                         int64\n",
       "amount_tsh                object\n",
       "date_recorded             object\n",
       "funder                    object\n",
       "gps_height               float64\n",
       "installer                 object\n",
       "longitude                float64\n",
       "latitude                 float64\n",
       "wpt_name                  object\n",
       "num_private                int64\n",
       "basin                     object\n",
       "subvillage                object\n",
       "region                    object\n",
       "region_code                int64\n",
       "district_code              int64\n",
       "lga                       object\n",
       "ward                      object\n",
       "population                 int64\n",
       "public_meeting            object\n",
       "recorded_by               object\n",
       "scheme_management         object\n",
       "scheme_name               object\n",
       "permit                    object\n",
       "construction_year          int64\n",
       "extraction_type           object\n",
       "extraction_type_group     object\n",
       "extraction_type_class     object\n",
       "management                object\n",
       "management_group          object\n",
       "payment                   object\n",
       "payment_type              object\n",
       "water_quality             object\n",
       "quality_group             object\n",
       "quantity                  object\n",
       "quantity_group            object\n",
       "source                    object\n",
       "source_type               object\n",
       "source_class              object\n",
       "waterpoint_type           object\n",
       "waterpoint_type_group     object\n",
       "dtype: object"
      ]
     },
     "execution_count": 17,
     "metadata": {},
     "output_type": "execute_result"
    }
   ],
   "source": [
    "features.dtypes"
   ]
  },
  {
   "cell_type": "code",
   "execution_count": 18,
   "metadata": {},
   "outputs": [
    {
     "data": {
      "text/plain": [
       "id              object\n",
       "status_group    object\n",
       "dtype: object"
      ]
     },
     "execution_count": 18,
     "metadata": {},
     "output_type": "execute_result"
    }
   ],
   "source": [
    "labels.dtypes"
   ]
  },
  {
   "cell_type": "markdown",
   "metadata": {},
   "source": [
    "__Note__: __id__ of type __int64__ in features dataset and type __object__ in labels dataset"
   ]
  },
  {
   "cell_type": "markdown",
   "metadata": {},
   "source": [
    "#### Handling of datatypes (infer type)"
   ]
  },
  {
   "cell_type": "markdown",
   "metadata": {},
   "source": [
    "- Convert amount_tsh from object to numeric"
   ]
  },
  {
   "cell_type": "code",
   "execution_count": 19,
   "metadata": {
    "collapsed": true
   },
   "outputs": [],
   "source": [
    "col = 'amount_tsh'\n",
    "features = (features.drop(col, axis=1)\n",
    "         .join(features[col].apply(pd.to_numeric, errors='coerce')))"
   ]
  },
  {
   "cell_type": "code",
   "execution_count": 20,
   "metadata": {},
   "outputs": [
    {
     "data": {
      "text/plain": [
       "dtype('float64')"
      ]
     },
     "execution_count": 20,
     "metadata": {},
     "output_type": "execute_result"
    }
   ],
   "source": [
    "features[col].dtypes"
   ]
  },
  {
   "cell_type": "markdown",
   "metadata": {},
   "source": [
    "#### Handling of different datatypes (and Corrupt Values)\n",
    "\n",
    "- Handling of the different datatypes and corrupt values in the features and labels datasets \n",
    "- The __id__ column, the column for joining features and label, needed to be of the same type to join the two dataframes\n",
    "- As seen above __id__ was of type __int64__ in the features set and of type __object_ in the labels set\n",
    "- However When an attempt was made to convert the id from an object to an int type, it was discovered that there was a corrupted/non-numeric id.\n",
    "- As it would not be possible to merge this with the features dataset, this record was dealth with as follows;\n",
    "\n",
    "    - The 'id' column in the labels dataframe was converted from an object to numeric type with the errors coerced to null values\n",
    "    - The null id values were then dropped from the id column\n",
    "    "
   ]
  },
  {
   "cell_type": "code",
   "execution_count": 21,
   "metadata": {},
   "outputs": [
    {
     "data": {
      "text/plain": [
       "id              object\n",
       "status_group    object\n",
       "dtype: object"
      ]
     },
     "execution_count": 21,
     "metadata": {},
     "output_type": "execute_result"
    }
   ],
   "source": [
    "labels.dtypes"
   ]
  },
  {
   "cell_type": "code",
   "execution_count": 22,
   "metadata": {
    "collapsed": true
   },
   "outputs": [],
   "source": [
    "#Convert id column to type numeric (non-numeric values are coerced to null values)\n",
    "col = 'id'\n",
    "labels = (labels.drop(col, axis=1)\n",
    "         .join(labels[col].apply(pd.to_numeric, errors='coerce')))"
   ]
  },
  {
   "cell_type": "code",
   "execution_count": 23,
   "metadata": {},
   "outputs": [
    {
     "data": {
      "text/plain": [
       "status_group     object\n",
       "id              float64\n",
       "dtype: object"
      ]
     },
     "execution_count": 23,
     "metadata": {},
     "output_type": "execute_result"
    }
   ],
   "source": [
    "#Check id is now of type numeric\n",
    "labels.dtypes"
   ]
  },
  {
   "cell_type": "markdown",
   "metadata": {},
   "source": [
    "#### 2.3.3 Errors in records/levels of the features\n",
    "- Inspect levels of categorical values for errors & corrupted data\n",
    "- Replace errors/corrupted values "
   ]
  },
  {
   "cell_type": "code",
   "execution_count": 24,
   "metadata": {
    "collapsed": true
   },
   "outputs": [],
   "source": [
    "def inspect_value_counts_categorical(df):\n",
    "    '''\n",
    "    Inspect value counts of categorical\n",
    "    '''\n",
    "    #1. Value counts of features with gt than 30 levels \n",
    "    print('Features with less than 30 levels')\n",
    "    for idx, col in enumerate(df.select_dtypes(include=[np.object, np.bool]).keys()):\n",
    "        #Value counts of Features with less than 30 levels        \n",
    "        if len(df[col].unique()) < 30:            \n",
    "            print('Column: {}'.format(col))\n",
    "            print(df[col].value_counts())\n",
    "    print('***************')\n",
    "    \n",
    "    #2. Value counts of features with gt than 30 levels    \n",
    "    print('Features with gt than 30 levels')\n",
    "    for idx, col in enumerate(df.select_dtypes(include=[np.object, np.bool]).keys()):\n",
    "        if len(df[col].unique()) > 30:            \n",
    "            print('Column: {}'.format(col))\n",
    "            #Value counts of Features with gt than 30 levels\n",
    "            print(df[col].value_counts())\n"
   ]
  },
  {
   "cell_type": "code",
   "execution_count": 25,
   "metadata": {},
   "outputs": [
    {
     "name": "stdout",
     "output_type": "stream",
     "text": [
      "Features with less than 30 levels\n",
      "Column: basin\n",
      "Lake Victoria              10247\n",
      "Pangani                     8940\n",
      "Rufiji                      7976\n",
      "Internal                    7785\n",
      "Lake Tanganyika             6432\n",
      "Wami / Ruvu                 5987\n",
      "Lake Nyasa                  5086\n",
      "Ruvuma / Southern Coast     4493\n",
      "Lake Rukwa                  2454\n",
      "Lake Victoriia                 1\n",
      "Name: basin, dtype: int64\n",
      "Column: region\n",
      "Iringa           5294\n",
      "Shinyanga        4982\n",
      "Mbeya            4639\n",
      "Kilimanjaro      4379\n",
      "Morogoro         4006\n",
      "Arusha           3350\n",
      "Kagera           3316\n",
      "Mwanza           3102\n",
      "Kigoma           2816\n",
      "Ruvuma           2641\n",
      "Pwani            2635\n",
      "Tanga            2547\n",
      "Dodoma           2201\n",
      "Singida          2093\n",
      "Mara             1969\n",
      "Tabora           1959\n",
      "Rukwa            1808\n",
      "Mtwara           1730\n",
      "Manyara          1583\n",
      "Lindi            1546\n",
      "Dar es Salaam     805\n",
      "Name: region, dtype: int64\n",
      "Column: public_meeting\n",
      "True     51011\n",
      "False     5055\n",
      "Name: public_meeting, dtype: int64\n",
      "Column: recorded_by\n",
      "GeoData Consultants Ltd    59401\n",
      "Name: recorded_by, dtype: int64\n",
      "Column: scheme_management\n",
      "VWC                 36794\n",
      "WUG                  5206\n",
      "Water authority      3153\n",
      "WUA                  2883\n",
      "Water Board          2748\n",
      "Parastatal           1680\n",
      "Private operator     1063\n",
      "Company              1061\n",
      "Other                 766\n",
      "SWC                    97\n",
      "Trust                  72\n",
      "None                    1\n",
      "Name: scheme_management, dtype: int64\n",
      "Column: permit\n",
      "True     38853\n",
      "False    17492\n",
      "Name: permit, dtype: int64\n",
      "Column: extraction_type\n",
      "gravity                      26781\n",
      "nira/tanira                   8154\n",
      "other                         6430\n",
      "submersible                   4764\n",
      "swn 80                        3670\n",
      "mono                          2865\n",
      "india mark ii                 2400\n",
      "afridev                       1770\n",
      "ksb                           1415\n",
      "other - rope pump              451\n",
      "other - swn 81                 229\n",
      "windmill                       117\n",
      "india mark iii                  98\n",
      "cemo                            90\n",
      "other - play pump               85\n",
      "walimi                          48\n",
      "climax                          32\n",
      "other - mkulima/shinyanga        2\n",
      "Name: extraction_type, dtype: int64\n",
      "Column: extraction_type_group\n",
      "gravity            26781\n",
      "nira/tanira         8154\n",
      "other               6430\n",
      "submersible         6179\n",
      "swn 80              3670\n",
      "mono                2865\n",
      "india mark ii       2400\n",
      "afridev             1770\n",
      "rope pump            451\n",
      "other handpump       364\n",
      "other motorpump      122\n",
      "wind-powered         117\n",
      "india mark iii        98\n",
      "Name: extraction_type_group, dtype: int64\n",
      "Column: extraction_type_class\n",
      "gravity            26780\n",
      "handpump           16456\n",
      "other               6430\n",
      "submersible         6179\n",
      "motorpump           2987\n",
      "rope pump            451\n",
      "wind-powered         117\n",
      "infinity stones        1\n",
      "Name: extraction_type_class, dtype: int64\n",
      "Column: management\n",
      "vwc                 40508\n",
      "wug                  6515\n",
      "water board          2933\n",
      "wua                  2535\n",
      "private operator     1971\n",
      "parastatal           1768\n",
      "water authority       904\n",
      "other                 844\n",
      "company               685\n",
      "unknown               561\n",
      "other - school         99\n",
      "trust                  78\n",
      "Name: management, dtype: int64\n",
      "Column: management_group\n",
      "user-group    52491\n",
      "commercial     3638\n",
      "parastatal     1768\n",
      "other           943\n",
      "unknown         561\n",
      "Name: management_group, dtype: int64\n",
      "Column: payment\n",
      "never pay                25348\n",
      "pay per bucket            8985\n",
      "pay monthly               8300\n",
      "unknown                   8158\n",
      "pay when scheme fails     3914\n",
      "pay annually              3642\n",
      "other                     1054\n",
      "Name: payment, dtype: int64\n",
      "Column: payment_type\n",
      "never pay     25347\n",
      "per bucket     8985\n",
      "monthly        8300\n",
      "unknown        8158\n",
      "on failure     3914\n",
      "annually       3642\n",
      "other          1054\n",
      "bitcoin           1\n",
      "Name: payment_type, dtype: int64\n",
      "Column: water_quality\n",
      "soft                  50819\n",
      "salty                  4856\n",
      "unknown                1876\n",
      "milky                   804\n",
      "coloured                490\n",
      "salty abandoned         339\n",
      "fluoride                200\n",
      "fluoride abandoned       17\n",
      "Name: water_quality, dtype: int64\n",
      "Column: quality_group\n",
      "good        50819\n",
      "salty        5195\n",
      "unknown      1876\n",
      "milky         804\n",
      "colored       490\n",
      "fluoride      217\n",
      "Name: quality_group, dtype: int64\n",
      "Column: quantity\n",
      "enough          33186\n",
      "insufficient    15129\n",
      "dry              6247\n",
      "seasonal         4050\n",
      "unknown           789\n",
      "Name: quantity, dtype: int64\n",
      "Column: quantity_group\n",
      "enough          33186\n",
      "insufficient    15129\n",
      "dry              6247\n",
      "seasonal         4050\n",
      "unknown           789\n",
      "Name: quantity_group, dtype: int64\n",
      "Column: source\n",
      "spring                  17022\n",
      "shallow well            16824\n",
      "machine dbh             11075\n",
      "river                    9612\n",
      "rainwater harvesting     2295\n",
      "hand dtw                  874\n",
      "lake                      765\n",
      "dam                       656\n",
      "other                     212\n",
      "unknown                    66\n",
      "Name: source, dtype: int64\n",
      "Column: source_type\n",
      "spring                  17022\n",
      "shallow well            16823\n",
      "borehole                11949\n",
      "river/lake              10377\n",
      "rainwater harvesting     2295\n",
      "dam                       656\n",
      "other                     278\n",
      "guinness                    1\n",
      "Name: source_type, dtype: int64\n",
      "Column: source_class\n",
      "groundwater    45795\n",
      "surface        13328\n",
      "unknown          278\n",
      "Name: source_class, dtype: int64\n",
      "Column: waterpoint_type\n",
      "communal standpipe             28523\n",
      "hand pump                      17488\n",
      "other                           6380\n",
      "communal standpipe multiple     6103\n",
      "improved spring                  784\n",
      "cattle trough                    116\n",
      "dam                                7\n",
      "Name: waterpoint_type, dtype: int64\n",
      "Column: waterpoint_type_group\n",
      "communal standpipe    34626\n",
      "hand pump             17488\n",
      "other                  6380\n",
      "improved spring         784\n",
      "cattle trough           116\n",
      "dam                       7\n",
      "Name: waterpoint_type_group, dtype: int64\n",
      "***************\n",
      "Features with gt than 30 levels\n",
      "Column: date_recorded\n",
      "3/15/11     572\n",
      "3/17/11     558\n",
      "2/3/13      546\n",
      "3/14/11     520\n",
      "3/16/11     513\n",
      "3/18/11     497\n",
      "3/19/11     466\n",
      "2/4/13      464\n",
      "1/29/13     459\n",
      "3/4/11      458\n",
      "2/14/13     445\n",
      "1/24/13     435\n",
      "3/5/11      434\n",
      "2/15/13     429\n",
      "3/15/13     428\n",
      "3/11/11     426\n",
      "1/30/13     421\n",
      "2/16/13     418\n",
      "3/23/11     417\n",
      "3/9/11      416\n",
      "1/18/13     409\n",
      "2/26/13     391\n",
      "3/30/11     391\n",
      "3/19/13     381\n",
      "3/24/11     381\n",
      "2/13/13     380\n",
      "1/23/13     379\n",
      "3/12/11     379\n",
      "3/3/11      378\n",
      "1/28/13     376\n",
      "           ... \n",
      "9/1/11        1\n",
      "9/18/11       1\n",
      "4/5/04        1\n",
      "9/11/11       1\n",
      "9/8/11        1\n",
      "9/28/11       1\n",
      "1/1/13        1\n",
      "12/1/13       1\n",
      "1/21/12       1\n",
      "1/6/13        1\n",
      "9/12/11       1\n",
      "8/31/11       1\n",
      "6/1/04        1\n",
      "8/30/11       1\n",
      "9/17/11       1\n",
      "10/14/02      1\n",
      "9/13/11       1\n",
      "9/25/11       1\n",
      "1/7/04        1\n",
      "9/20/11       1\n",
      "9/16/11       1\n",
      "9/23/11       1\n",
      "1/25/12       1\n",
      "3/6/04        1\n",
      "9/21/11       1\n",
      "9/15/11       1\n",
      "9/5/11        1\n",
      "9/9/11        1\n",
      "9/6/11        1\n",
      "9/19/11       1\n",
      "Name: date_recorded, Length: 356, dtype: int64\n",
      "Column: funder\n",
      "Government Of Tanzania         9084\n",
      "Danida                         3115\n",
      "Hesawa                         2202\n",
      "Rwssp                          1374\n",
      "World Bank                     1349\n",
      "Kkkt                           1287\n",
      "World Vision                   1246\n",
      "Unicef                         1057\n",
      "Tasaf                           877\n",
      "District Council                843\n",
      "Dhv                             829\n",
      "Private Individual              826\n",
      "Dwsp                            811\n",
      "0                               777\n",
      "Norad                           765\n",
      "Germany Republi                 610\n",
      "Tcrs                            602\n",
      "Ministry Of Water               590\n",
      "Water                           583\n",
      "Dwe                             484\n",
      "Netherlands                     470\n",
      "Hifab                           450\n",
      "Adb                             448\n",
      "Lga                             442\n",
      "Amref                           425\n",
      "Fini Water                      393\n",
      "Oxfam                           359\n",
      "Wateraid                        333\n",
      "Rc Church                       321\n",
      "Isf                             316\n",
      "                               ... \n",
      "Makona                            1\n",
      "Vgovernment                       1\n",
      "Village Water Commission          1\n",
      "Shelisheli Commission             1\n",
      "Mbwana Omari                      1\n",
      "Chai Wazir                        1\n",
      "John Gileth                       1\n",
      "Mtambo                            1\n",
      "Mbwiro                            1\n",
      "Hesawza                           1\n",
      "Dqnida                            1\n",
      "Ldcdd                             1\n",
      "Csf                               1\n",
      "Mmanya Abdallah                   1\n",
      "Hhesawa                           1\n",
      "Theo                              1\n",
      "Shule Ya Msingi                   1\n",
      "Ded/rwssp                         1\n",
      "Muniko                            1\n",
      "Seleman Seif                      1\n",
      "Esawa                             1\n",
      "Nssf                              1\n",
      "Rotary Club Kitchener             1\n",
      "Elca                              1\n",
      "Grazie Franco Lucchini            1\n",
      "Kibara Foundation                 1\n",
      "Giovan Disinistra Per Salve       1\n",
      "Masista                           1\n",
      "Rajabu Athumani                   1\n",
      "Ahmadia                           1\n",
      "Name: funder, Length: 1897, dtype: int64\n",
      "Column: installer\n",
      "DWE                          17402\n",
      "Government                    1825\n",
      "RWE                           1206\n",
      "Commu                         1060\n",
      "DANIDA                        1051\n",
      "KKKT                           898\n",
      "Hesawa                         840\n",
      "0                              777\n",
      "TCRS                           707\n",
      "Central government             622\n",
      "CES                            610\n",
      "Community                      553\n",
      "DANID                          552\n",
      "District Council               551\n",
      "HESAWA                         539\n",
      "World vision                   408\n",
      "LGA                            408\n",
      "WEDECO                         397\n",
      "TASAF                          396\n",
      "District council               392\n",
      "Gover                          383\n",
      "AMREF                          329\n",
      "TWESA                          316\n",
      "WU                             301\n",
      "Dmdd                           287\n",
      "ACRA                           278\n",
      "World Vision                   270\n",
      "SEMA                           249\n",
      "DW                             246\n",
      "OXFAM                          234\n",
      "                             ...  \n",
      "GDP                              1\n",
      "AIC KI                           1\n",
      "Manyota primary School           1\n",
      "Prof. Saluati                    1\n",
      "Lindi contractor                 1\n",
      "Kwamdulu estate                  1\n",
      "DAR ES SALAAM ROUND TABLE        1\n",
      "Grail Mission Kiseki bar         1\n",
      "Villagerd                        1\n",
      "Piscop                           1\n",
      "MWAKI CONTRACTO                  1\n",
      "THREE WAY GERMAN                 1\n",
      "Shelisheli commission            1\n",
      "Nyamingu subvillage              1\n",
      "Dar es salaam Technician         1\n",
      "SHIPO CONSTRUCTORS               1\n",
      "Altai Co. ltd                    1\n",
      "Hesawz                           1\n",
      "Msagin                           1\n",
      "Mbwiro                           1\n",
      "SADIKI KANGELO                   1\n",
      "muniko                           1\n",
      "KDPA                             1\n",
      "FINI Water                       1\n",
      "KKKT MAREU                       1\n",
      "TASSAF/TCRS                      1\n",
      "FRANKFURT                        1\n",
      "MACK DONALD CO LTD               1\n",
      "DBSP                             1\n",
      "Baadela                          1\n",
      "Name: installer, Length: 2145, dtype: int64\n",
      "Column: wpt_name\n",
      "none                         3563\n",
      "Shuleni                      1748\n",
      "Zahanati                      830\n",
      "Msikitini                     535\n",
      "Kanisani                      323\n",
      "Bombani                       271\n",
      "Sokoni                        260\n",
      "Ofisini                       254\n",
      "School                        208\n",
      "Shule Ya Msingi               199\n",
      "Shule                         152\n",
      "Sekondari                     146\n",
      "Muungano                      133\n",
      "Mkombozi                      111\n",
      "Madukani                      104\n",
      "Hospital                       94\n",
      "Mbugani                        94\n",
      "Upendo                         93\n",
      "Kituo Cha Afya                 90\n",
      "Mkuyuni                        88\n",
      "Umoja                          84\n",
      "Center                         83\n",
      "Ccm                            81\n",
      "Kisimani                       78\n",
      "Ofisi Ya Kijiji                76\n",
      "Mtakuja                        76\n",
      "Tankini                        73\n",
      "Bwawani                        66\n",
      "Songambele                     66\n",
      "Maendeleo                      64\n",
      "                             ... \n",
      "Kanisani Rau                    1\n",
      "Chamalendi                      1\n",
      "Mama Juma                       1\n",
      "Kwa Konga                       1\n",
      "Kwa Zakaria Mihambo             1\n",
      "Kwa Mzee Kichumbi               1\n",
      "Joyce Samwel                    1\n",
      "Kwa Sekiete                     1\n",
      "Kwa Nambano                     1\n",
      "Kwa Milambo                     1\n",
      "Kwa Mzee Mgazija                1\n",
      "Kwa Bamwimile Mwasekaga         1\n",
      "Kwalisanguru                    1\n",
      "Kwa Werya Mwita                 1\n",
      "Ulomi Nko                       1\n",
      "Shule Ya Msingi Ibura           1\n",
      "Kirongwe Secondary School       1\n",
      "Katalina                        1\n",
      "Kwa Albert Masawe               1\n",
      "Sangamwalugesha Secschool       1\n",
      "Kwa Mzee Yusufu Abdala          1\n",
      "Kwenyeki                        1\n",
      "Kwa Kabomo                      1\n",
      "Kwamlipuka                      1\n",
      "Kwa Valeriani Clemency          1\n",
      "Upendo Akina Na Mama A          1\n",
      "Jewe                            1\n",
      "Kwasembaa                       1\n",
      "Rina                            1\n",
      "Kwa Ameli Msigwa                1\n",
      "Name: wpt_name, Length: 37400, dtype: int64\n",
      "Column: subvillage\n"
     ]
    },
    {
     "name": "stdout",
     "output_type": "stream",
     "text": [
      "Madukani            508\n",
      "Shuleni             506\n",
      "Majengo             502\n",
      "Kati                373\n",
      "Mtakuja             262\n",
      "Sokoni              232\n",
      "M                   187\n",
      "Muungano            172\n",
      "Mbuyuni             164\n",
      "Mlimani             152\n",
      "Songambele          147\n",
      "Miembeni            134\n",
      "Msikitini           134\n",
      "1                   132\n",
      "Kibaoni             114\n",
      "Kanisani            111\n",
      "I                   109\n",
      "Mapinduzi           109\n",
      "Mjini               108\n",
      "Mjimwema            108\n",
      "Mkwajuni            104\n",
      "Mwenge              102\n",
      "Azimio               98\n",
      "Mabatini             98\n",
      "Mbugani              95\n",
      "Mission              95\n",
      "Bwawani              91\n",
      "Bondeni              90\n",
      "Chang'Ombe           88\n",
      "Zahanati             86\n",
      "                   ... \n",
      "Kiku                  1\n",
      "Masudi                1\n",
      "Ngashe                1\n",
      "Samazi                1\n",
      "Bukini                1\n",
      "Ihanamilo             1\n",
      "Liganga               1\n",
      "Barisii               1\n",
      "Creta                 1\n",
      "Mraba                 1\n",
      "Mwajupi               1\n",
      "Kidalu                1\n",
      "Yulansoni             1\n",
      "Kalemela A            1\n",
      "Masonga               1\n",
      "Usimba D              1\n",
      "Sie                   1\n",
      "Kibamonche            1\n",
      "Mwamanimba            1\n",
      "Iguruwi               1\n",
      "Ihumbo                1\n",
      "Bitotoni              1\n",
      "Ntakasangwa           1\n",
      "Bulumbi               1\n",
      "Mwasinong'Hela        1\n",
      "Milemwa A             1\n",
      "Mwanza Ya Madaso      1\n",
      "Urban Kota            1\n",
      "Nkkungi               1\n",
      "Mbyasyo               1\n",
      "Name: subvillage, Length: 19287, dtype: int64\n",
      "Column: lga\n",
      "Njombe              2503\n",
      "Arusha Rural        1252\n",
      "Moshi Rural         1251\n",
      "Bariadi             1177\n",
      "Rungwe              1106\n",
      "Kilosa              1094\n",
      "Kasulu              1047\n",
      "Mbozi               1034\n",
      "Meru                1009\n",
      "Bagamoyo             997\n",
      "Singida Rural        995\n",
      "Kilombero            959\n",
      "Same                 877\n",
      "Kibondo              874\n",
      "Kyela                859\n",
      "Kahama               836\n",
      "Magu                 824\n",
      "Kigoma Rural         824\n",
      "Maswa                809\n",
      "Karagwe              771\n",
      "Mbinga               751\n",
      "Iringa Rural         728\n",
      "Serengeti            716\n",
      "Namtumbo             694\n",
      "Lushoto              694\n",
      "Songea Rural         693\n",
      "Mpanda               679\n",
      "Mvomero              671\n",
      "Ngara                669\n",
      "Ulanga               665\n",
      "                    ... \n",
      "Ileje                231\n",
      "Bahi                 224\n",
      "Kisarawe             223\n",
      "Temeke               215\n",
      "Rorya                210\n",
      "Tarime               209\n",
      "Ngorongoro           201\n",
      "Kiteto               193\n",
      "Shinyanga Urban      191\n",
      "Monduli              189\n",
      "Sumbawanga Urban     180\n",
      "Singida Urban        177\n",
      "Sikonge              170\n",
      "Kilindi              161\n",
      "Nanyumbu             158\n",
      "Tabora Urban         155\n",
      "Liwale               154\n",
      "Ilemela              142\n",
      "Mafia                132\n",
      "Mtwara Urban         124\n",
      "Tanga                 99\n",
      "Morogoro Urban        96\n",
      "Kinondoni             93\n",
      "Bukoba Urban          88\n",
      "Songea Urban          80\n",
      "Moshi Urban           79\n",
      "Kigoma Urban          71\n",
      "Arusha Urban          63\n",
      "Lindi Urban           21\n",
      "Nyamagana              1\n",
      "Name: lga, Length: 125, dtype: int64\n",
      "Column: ward\n",
      "Igosi               307\n",
      "Imalinyi            252\n",
      "Siha Kati           232\n",
      "Mdandu              231\n",
      "Nduruma             217\n",
      "Kitunda             203\n",
      "Mishamo             203\n",
      "Msindo              201\n",
      "Chalinze            196\n",
      "Maji ya Chai        190\n",
      "Usuka               187\n",
      "Ngarenanyuki        172\n",
      "Chanika             171\n",
      "Vikindu             162\n",
      "Mtwango             153\n",
      "Matola              145\n",
      "Zinga/Ikerege       141\n",
      "Maramba             139\n",
      "Wanging'ombe        139\n",
      "Itete               137\n",
      "Magomeni            135\n",
      "Kikatiti            134\n",
      "Ifakara             134\n",
      "Olkokola            133\n",
      "Maposeni            130\n",
      "Igongolo            129\n",
      "Mvomero             129\n",
      "Mlangali            125\n",
      "Nkoma               122\n",
      "Mahongole           121\n",
      "                   ... \n",
      "Machinjioni           1\n",
      "Simbay                1\n",
      "Kirongo               1\n",
      "Burungura             1\n",
      "Rasbura               1\n",
      "Uchindile             1\n",
      "Kihangimahuka         1\n",
      "Mwanga Kaskazini      1\n",
      "Igogo                 1\n",
      "Ikweha                1\n",
      "Kinungu               1\n",
      "Korongoni             1\n",
      "Mitole                1\n",
      "Ifinga                1\n",
      "Kitete                1\n",
      "Izia                  1\n",
      "Matarawe              1\n",
      "Mawenzi               1\n",
      "Sungwisi              1\n",
      "Linda                 1\n",
      "Nyamtinga             1\n",
      "Thawi                 1\n",
      "Chinugulu             1\n",
      "Nsemulwa              1\n",
      "Mkumbi                1\n",
      "Themi                 1\n",
      "Ukata                 1\n",
      "Uwanja wa Ndege       1\n",
      "Kapilula              1\n",
      "Mlimani               1\n",
      "Name: ward, Length: 2092, dtype: int64\n",
      "Column: scheme_name\n",
      "K                                        682\n",
      "None                                     644\n",
      "Borehole                                 546\n",
      "Chalinze wate                            405\n",
      "M                                        400\n",
      "DANIDA                                   380\n",
      "Government                               320\n",
      "Ngana water supplied scheme              270\n",
      "wanging'ombe water supply s              261\n",
      "wanging'ombe supply scheme               234\n",
      "Bagamoyo wate                            229\n",
      "I                                        229\n",
      "Uroki-Bomang'ombe water sup              209\n",
      "N                                        204\n",
      "Kirua kahe gravity water supply trust    193\n",
      "Machumba estate pipe line                185\n",
      "Makwale water supplied sche              166\n",
      "Kijiji                                   161\n",
      "S                                        154\n",
      "Losaa-Kia water supply                   152\n",
      "mtwango water supply scheme              152\n",
      "Handeni Trunk Main(H                     152\n",
      "Mkongoro Two                             147\n",
      "Roman                                    139\n",
      "Mkongoro One                             128\n",
      "Maambreni gravity water supply           125\n",
      "Lyamungo umbwe water supply              120\n",
      "Kirua kahe pumping water trust           113\n",
      "Nabaiye pipe line                        107\n",
      "Ki                                       107\n",
      "                                        ... \n",
      "Sero water scheme                          1\n",
      "MSRRWS                                     1\n",
      "Nameqhuwadiba                              1\n",
      "TM koboko water supply                     1\n",
      "Kwam                                       1\n",
      "BL Kashofu                                 1\n",
      "Ukuu                                       1\n",
      "Waid                                       1\n",
      "Nyabugugo spring source                    1\n",
      "Tanload                                    1\n",
      "Charles Mushi  Branch line                 1\n",
      "Nzera                                      1\n",
      "Kapu chini wster supply                    1\n",
      "Hawe                                       1\n",
      "Sobodo Borehole Scheme                     1\n",
      "Nyachenda water scheme                     1\n",
      "The Desk and chair fondation               1\n",
      "Nywang'hwale                               1\n",
      "Sisal eastate hale s                       1\n",
      "Oloirien water scheme                      1\n",
      "Heshivu water supply                       1\n",
      "Dindimu Water Supply                       1\n",
      "Mang                                       1\n",
      "Kifaru/kituri                              1\n",
      "Burieni water supply                       1\n",
      "BL Somali                                  1\n",
      "Samsria                                    1\n",
      "Kulasi water supply                        1\n",
      "Mtapwa water supply                        1\n",
      "Namahimba water gravity scheme             1\n",
      "Name: scheme_name, Length: 2696, dtype: int64\n"
     ]
    }
   ],
   "source": [
    "#Apply to Features dataset\n",
    "inspect_value_counts_categorical(features)"
   ]
  },
  {
   "cell_type": "code",
   "execution_count": 26,
   "metadata": {},
   "outputs": [
    {
     "name": "stdout",
     "output_type": "stream",
     "text": [
      "Features with less than 30 levels\n",
      "Column: status_group\n",
      "functional                 32259\n",
      "non functional             22823\n",
      "functional needs repair     4316\n",
      "nonfunctional                  1\n",
      "Name: status_group, dtype: int64\n",
      "***************\n",
      "Features with gt than 30 levels\n"
     ]
    }
   ],
   "source": [
    "inspect_value_counts_categorical(labels)"
   ]
  },
  {
   "cell_type": "markdown",
   "metadata": {},
   "source": [
    "#### Observations\n",
    "\n",
    "- Correction 1: The feature '__Basin__' includes the feature level __'Lake Victoria'__ which has 10,247 counts while the feature level __'Lake Victoriia'__ has 1 count. This is assumed to be an error and so 'Lake Victoriia' is replaced with ''Lake Victoria'\n",
    "\n",
    "\n",
    "- Correction 2: The feature 'source_type' has 1 count for the level 'guinness'. This will be renamed as 'other'\n",
    "\n",
    "\n",
    "- The __target variable 'status_group'__ includes the class level __'non functional'__ which has 22,822 counts while the class level __'nonfunctional'__ has 1 count. This is assumed to be an error and so 'nonfunctional' is replaced with 'non functional'"
   ]
  },
  {
   "cell_type": "markdown",
   "metadata": {},
   "source": [
    "#### Solution - Replace values"
   ]
  },
  {
   "cell_type": "code",
   "execution_count": 27,
   "metadata": {
    "collapsed": true
   },
   "outputs": [],
   "source": [
    "def replace_record(df, column_name, old_value, new_value):\n",
    "    '''Replace new value with new value. Print value counts before and after to ensure correct replacement made\n",
    "    Parameters:\n",
    "    df: Original dataframe\n",
    "    column_name: Column in which replacement is being made\n",
    "    old_value: Old value to be replaced \n",
    "    new_value: New value to replace with\n",
    "    \n",
    "    Returns\n",
    "    df: updated dataframe with replacement made \n",
    "    '''\n",
    "    #Value_counts of original\n",
    "    print(df[column_name].value_counts())\n",
    "    \n",
    "    #Replace values\n",
    "    df = df.replace(old_value, new_value)\n",
    "    \n",
    "    print('**************')\n",
    "    #New value counts\n",
    "    print('Updated dataframe with replacement made:')\n",
    "    print(df[column_name].value_counts())\n",
    "    \n",
    "    return df"
   ]
  },
  {
   "cell_type": "code",
   "execution_count": 28,
   "metadata": {},
   "outputs": [
    {
     "name": "stdout",
     "output_type": "stream",
     "text": [
      "Lake Victoria              10247\n",
      "Pangani                     8940\n",
      "Rufiji                      7976\n",
      "Internal                    7785\n",
      "Lake Tanganyika             6432\n",
      "Wami / Ruvu                 5987\n",
      "Lake Nyasa                  5086\n",
      "Ruvuma / Southern Coast     4493\n",
      "Lake Rukwa                  2454\n",
      "Lake Victoriia                 1\n",
      "Name: basin, dtype: int64\n",
      "**************\n",
      "Updated dataframe with replacement made:\n",
      "Lake Victoria              10248\n",
      "Pangani                     8940\n",
      "Rufiji                      7976\n",
      "Internal                    7785\n",
      "Lake Tanganyika             6432\n",
      "Wami / Ruvu                 5987\n",
      "Lake Nyasa                  5086\n",
      "Ruvuma / Southern Coast     4493\n",
      "Lake Rukwa                  2454\n",
      "Name: basin, dtype: int64\n"
     ]
    }
   ],
   "source": [
    "#Correction 1 (Apply replace_record)\n",
    "column_name = 'basin'\n",
    "old_value = 'Lake Victoriia'\n",
    "new_value = 'Lake Victoria'\n",
    "features = replace_record(features, column_name, old_value, new_value)"
   ]
  },
  {
   "cell_type": "code",
   "execution_count": 29,
   "metadata": {},
   "outputs": [
    {
     "name": "stdout",
     "output_type": "stream",
     "text": [
      "spring                  17022\n",
      "shallow well            16823\n",
      "borehole                11949\n",
      "river/lake              10377\n",
      "rainwater harvesting     2295\n",
      "dam                       656\n",
      "other                     278\n",
      "guinness                    1\n",
      "Name: source_type, dtype: int64\n",
      "**************\n",
      "Updated dataframe with replacement made:\n",
      "spring                  17022\n",
      "shallow well            16823\n",
      "borehole                11949\n",
      "river/lake              10377\n",
      "rainwater harvesting     2295\n",
      "dam                       656\n",
      "other                     279\n",
      "Name: source_type, dtype: int64\n"
     ]
    }
   ],
   "source": [
    "#Correction 2 (Apply replace_record)\n",
    "column_name = 'source_type'\n",
    "old_value = 'guinness'\n",
    "new_value = 'other'\n",
    "features = replace_record(features, column_name, old_value, new_value)"
   ]
  },
  {
   "cell_type": "code",
   "execution_count": 30,
   "metadata": {},
   "outputs": [
    {
     "name": "stdout",
     "output_type": "stream",
     "text": [
      "functional                 32259\n",
      "non functional             22823\n",
      "functional needs repair     4316\n",
      "nonfunctional                  1\n",
      "Name: status_group, dtype: int64\n",
      "**************\n",
      "Updated dataframe with replacement made:\n",
      "functional                 32259\n",
      "non functional             22824\n",
      "functional needs repair     4316\n",
      "Name: status_group, dtype: int64\n"
     ]
    }
   ],
   "source": [
    "#Correction 3 (Apply to target variable)\n",
    "column_name = 'status_group'\n",
    "old_value = 'nonfunctional'\n",
    "new_value = 'non functional'\n",
    "labels = replace_record(labels, column_name, old_value, new_value)"
   ]
  },
  {
   "cell_type": "markdown",
   "metadata": {},
   "source": [
    "#### 2.3.4 Missing Values (Identify)"
   ]
  },
  {
   "cell_type": "code",
   "execution_count": 31,
   "metadata": {},
   "outputs": [
    {
     "data": {
      "text/plain": [
       "id                           0\n",
       "date_recorded                0\n",
       "funder                    3635\n",
       "gps_height                   1\n",
       "installer                 3655\n",
       "longitude                    0\n",
       "latitude                     0\n",
       "wpt_name                     0\n",
       "num_private                  0\n",
       "basin                        0\n",
       "subvillage                 371\n",
       "region                       0\n",
       "region_code                  0\n",
       "district_code                0\n",
       "lga                          0\n",
       "ward                         0\n",
       "population                   0\n",
       "public_meeting            3335\n",
       "recorded_by                  0\n",
       "scheme_management         3877\n",
       "scheme_name              28166\n",
       "permit                    3056\n",
       "construction_year            0\n",
       "extraction_type              0\n",
       "extraction_type_group        0\n",
       "extraction_type_class        0\n",
       "management                   0\n",
       "management_group             0\n",
       "payment                      0\n",
       "payment_type                 0\n",
       "water_quality                0\n",
       "quality_group                0\n",
       "quantity                     0\n",
       "quantity_group               0\n",
       "source                       0\n",
       "source_type                  0\n",
       "source_class                 0\n",
       "waterpoint_type              0\n",
       "waterpoint_type_group        0\n",
       "amount_tsh                   1\n",
       "dtype: int64"
      ]
     },
     "execution_count": 31,
     "metadata": {},
     "output_type": "execute_result"
    }
   ],
   "source": [
    "#Features: Count of null values for each column\n",
    "features.isnull().sum()"
   ]
  },
  {
   "cell_type": "code",
   "execution_count": 32,
   "metadata": {},
   "outputs": [
    {
     "data": {
      "text/plain": [
       "status_group    0\n",
       "id              1\n",
       "dtype: int64"
      ]
     },
     "execution_count": 32,
     "metadata": {},
     "output_type": "execute_result"
    }
   ],
   "source": [
    "#Count of null values for each column\n",
    "labels.isnull().sum()"
   ]
  },
  {
   "cell_type": "markdown",
   "metadata": {
    "scrolled": true
   },
   "source": [
    "#### 2.3.6 Clean Missing Data "
   ]
  },
  {
   "cell_type": "markdown",
   "metadata": {},
   "source": [
    "#### Missing data - features (Impute)\n",
    "- Impute numeric values with the mean of the column (Although no numeric columns had null values)\n",
    "- Impute Boolean values with the mode\n",
    "- Impute categorical columns with a constant value (null value) as so they don't affect model results"
   ]
  },
  {
   "cell_type": "code",
   "execution_count": 33,
   "metadata": {
    "collapsed": true
   },
   "outputs": [],
   "source": [
    "def impute_values(data):\n",
    "    \n",
    "    ''' Imputation of missing values\n",
    "    - Impute missing values of numeric colums with the mean value of the column\n",
    "    - Impute missing values of categorical colums with the mode of the column\n",
    "\n",
    "    Parameters:\n",
    "    data\n",
    "\n",
    "    Returns:\n",
    "    data with missing values imputed\n",
    "    '''\n",
    "    #1. Numeric values\n",
    "    # Impute numeric columns with mean\n",
    "    for idx, col in enumerate(data.select_dtypes(include=[np.number]).keys()):\n",
    "        data[col].fillna(data[col].mean(), inplace=True)  \n",
    "    \n",
    "    #2. Boolean values --> Repalce with mode\n",
    "    # Impute numeric columns with mean\n",
    "    for idx, col in enumerate(data.select_dtypes(include=[np.bool]).keys()):\n",
    "        data[col].fillna(data[col].mode(), inplace=True)          \n",
    "    \n",
    "    #3. Categorical/Boolean values\n",
    "    #Impute with constant value\n",
    "    for idx, col in enumerate(data.select_dtypes(include=[np.object, np.bool]).keys()):\n",
    "        data.fillna('null', inplace=True)\n",
    "        data.replace(0.0, 'null')\n",
    "        data.replace(0, 'null')\n",
    "    \n",
    "    \n",
    "    return data"
   ]
  },
  {
   "cell_type": "code",
   "execution_count": 34,
   "metadata": {
    "collapsed": true
   },
   "outputs": [],
   "source": [
    "##Apply\n",
    "features = impute_values(features) "
   ]
  },
  {
   "cell_type": "code",
   "execution_count": 35,
   "metadata": {},
   "outputs": [
    {
     "data": {
      "text/plain": [
       "id                       0\n",
       "date_recorded            0\n",
       "funder                   0\n",
       "gps_height               0\n",
       "installer                0\n",
       "longitude                0\n",
       "latitude                 0\n",
       "wpt_name                 0\n",
       "num_private              0\n",
       "basin                    0\n",
       "subvillage               0\n",
       "region                   0\n",
       "region_code              0\n",
       "district_code            0\n",
       "lga                      0\n",
       "ward                     0\n",
       "population               0\n",
       "public_meeting           0\n",
       "recorded_by              0\n",
       "scheme_management        0\n",
       "scheme_name              0\n",
       "permit                   0\n",
       "construction_year        0\n",
       "extraction_type          0\n",
       "extraction_type_group    0\n",
       "extraction_type_class    0\n",
       "management               0\n",
       "management_group         0\n",
       "payment                  0\n",
       "payment_type             0\n",
       "water_quality            0\n",
       "quality_group            0\n",
       "quantity                 0\n",
       "quantity_group           0\n",
       "source                   0\n",
       "source_type              0\n",
       "source_class             0\n",
       "waterpoint_type          0\n",
       "waterpoint_type_group    0\n",
       "amount_tsh               0\n",
       "dtype: int64"
      ]
     },
     "execution_count": 35,
     "metadata": {},
     "output_type": "execute_result"
    }
   ],
   "source": [
    "#Re-Inspect Data quality/Null count\n",
    "features.isnull().sum()"
   ]
  },
  {
   "cell_type": "markdown",
   "metadata": {},
   "source": [
    "- __Note there are now no missing/null values__"
   ]
  },
  {
   "cell_type": "code",
   "execution_count": 36,
   "metadata": {},
   "outputs": [
    {
     "name": "stdout",
     "output_type": "stream",
     "text": [
      "Features with less than 30 levels\n",
      "Column: basin\n",
      "Lake Victoria              10248\n",
      "Pangani                     8940\n",
      "Rufiji                      7976\n",
      "Internal                    7785\n",
      "Lake Tanganyika             6432\n",
      "Wami / Ruvu                 5987\n",
      "Lake Nyasa                  5086\n",
      "Ruvuma / Southern Coast     4493\n",
      "Lake Rukwa                  2454\n",
      "Name: basin, dtype: int64\n",
      "Column: region\n",
      "Iringa           5294\n",
      "Shinyanga        4982\n",
      "Mbeya            4639\n",
      "Kilimanjaro      4379\n",
      "Morogoro         4006\n",
      "Arusha           3350\n",
      "Kagera           3316\n",
      "Mwanza           3102\n",
      "Kigoma           2816\n",
      "Ruvuma           2641\n",
      "Pwani            2635\n",
      "Tanga            2547\n",
      "Dodoma           2201\n",
      "Singida          2093\n",
      "Mara             1969\n",
      "Tabora           1959\n",
      "Rukwa            1808\n",
      "Mtwara           1730\n",
      "Manyara          1583\n",
      "Lindi            1546\n",
      "Dar es Salaam     805\n",
      "Name: region, dtype: int64\n",
      "Column: public_meeting\n",
      "True     51011\n",
      "False     5055\n",
      "null      3335\n",
      "Name: public_meeting, dtype: int64\n",
      "Column: recorded_by\n",
      "GeoData Consultants Ltd    59401\n",
      "Name: recorded_by, dtype: int64\n",
      "Column: scheme_management\n",
      "VWC                 36794\n",
      "WUG                  5206\n",
      "null                 3877\n",
      "Water authority      3153\n",
      "WUA                  2883\n",
      "Water Board          2748\n",
      "Parastatal           1680\n",
      "Private operator     1063\n",
      "Company              1061\n",
      "Other                 766\n",
      "SWC                    97\n",
      "Trust                  72\n",
      "None                    1\n",
      "Name: scheme_management, dtype: int64\n",
      "Column: permit\n",
      "True     38853\n",
      "False    17492\n",
      "null      3056\n",
      "Name: permit, dtype: int64\n",
      "Column: extraction_type\n",
      "gravity                      26781\n",
      "nira/tanira                   8154\n",
      "other                         6430\n",
      "submersible                   4764\n",
      "swn 80                        3670\n",
      "mono                          2865\n",
      "india mark ii                 2400\n",
      "afridev                       1770\n",
      "ksb                           1415\n",
      "other - rope pump              451\n",
      "other - swn 81                 229\n",
      "windmill                       117\n",
      "india mark iii                  98\n",
      "cemo                            90\n",
      "other - play pump               85\n",
      "walimi                          48\n",
      "climax                          32\n",
      "other - mkulima/shinyanga        2\n",
      "Name: extraction_type, dtype: int64\n",
      "Column: extraction_type_group\n",
      "gravity            26781\n",
      "nira/tanira         8154\n",
      "other               6430\n",
      "submersible         6179\n",
      "swn 80              3670\n",
      "mono                2865\n",
      "india mark ii       2400\n",
      "afridev             1770\n",
      "rope pump            451\n",
      "other handpump       364\n",
      "other motorpump      122\n",
      "wind-powered         117\n",
      "india mark iii        98\n",
      "Name: extraction_type_group, dtype: int64\n",
      "Column: extraction_type_class\n",
      "gravity            26780\n",
      "handpump           16456\n",
      "other               6430\n",
      "submersible         6179\n",
      "motorpump           2987\n",
      "rope pump            451\n",
      "wind-powered         117\n",
      "infinity stones        1\n",
      "Name: extraction_type_class, dtype: int64\n",
      "Column: management\n",
      "vwc                 40508\n",
      "wug                  6515\n",
      "water board          2933\n",
      "wua                  2535\n",
      "private operator     1971\n",
      "parastatal           1768\n",
      "water authority       904\n",
      "other                 844\n",
      "company               685\n",
      "unknown               561\n",
      "other - school         99\n",
      "trust                  78\n",
      "Name: management, dtype: int64\n",
      "Column: management_group\n",
      "user-group    52491\n",
      "commercial     3638\n",
      "parastatal     1768\n",
      "other           943\n",
      "unknown         561\n",
      "Name: management_group, dtype: int64\n",
      "Column: payment\n",
      "never pay                25348\n",
      "pay per bucket            8985\n",
      "pay monthly               8300\n",
      "unknown                   8158\n",
      "pay when scheme fails     3914\n",
      "pay annually              3642\n",
      "other                     1054\n",
      "Name: payment, dtype: int64\n",
      "Column: payment_type\n",
      "never pay     25347\n",
      "per bucket     8985\n",
      "monthly        8300\n",
      "unknown        8158\n",
      "on failure     3914\n",
      "annually       3642\n",
      "other          1054\n",
      "bitcoin           1\n",
      "Name: payment_type, dtype: int64\n",
      "Column: water_quality\n",
      "soft                  50819\n",
      "salty                  4856\n",
      "unknown                1876\n",
      "milky                   804\n",
      "coloured                490\n",
      "salty abandoned         339\n",
      "fluoride                200\n",
      "fluoride abandoned       17\n",
      "Name: water_quality, dtype: int64\n",
      "Column: quality_group\n",
      "good        50819\n",
      "salty        5195\n",
      "unknown      1876\n",
      "milky         804\n",
      "colored       490\n",
      "fluoride      217\n",
      "Name: quality_group, dtype: int64\n",
      "Column: quantity\n",
      "enough          33186\n",
      "insufficient    15129\n",
      "dry              6247\n",
      "seasonal         4050\n",
      "unknown           789\n",
      "Name: quantity, dtype: int64\n",
      "Column: quantity_group\n",
      "enough          33186\n",
      "insufficient    15129\n",
      "dry              6247\n",
      "seasonal         4050\n",
      "unknown           789\n",
      "Name: quantity_group, dtype: int64\n",
      "Column: source\n",
      "spring                  17022\n",
      "shallow well            16824\n",
      "machine dbh             11075\n",
      "river                    9612\n",
      "rainwater harvesting     2295\n",
      "hand dtw                  874\n",
      "lake                      765\n",
      "dam                       656\n",
      "other                     212\n",
      "unknown                    66\n",
      "Name: source, dtype: int64\n",
      "Column: source_type\n",
      "spring                  17022\n",
      "shallow well            16823\n",
      "borehole                11949\n",
      "river/lake              10377\n",
      "rainwater harvesting     2295\n",
      "dam                       656\n",
      "other                     279\n",
      "Name: source_type, dtype: int64\n",
      "Column: source_class\n",
      "groundwater    45795\n",
      "surface        13328\n",
      "unknown          278\n",
      "Name: source_class, dtype: int64\n",
      "Column: waterpoint_type\n",
      "communal standpipe             28523\n",
      "hand pump                      17488\n",
      "other                           6380\n",
      "communal standpipe multiple     6103\n",
      "improved spring                  784\n",
      "cattle trough                    116\n",
      "dam                                7\n",
      "Name: waterpoint_type, dtype: int64\n",
      "Column: waterpoint_type_group\n",
      "communal standpipe    34626\n",
      "hand pump             17488\n",
      "other                  6380\n",
      "improved spring         784\n",
      "cattle trough           116\n",
      "dam                       7\n",
      "Name: waterpoint_type_group, dtype: int64\n",
      "***************\n",
      "Features with gt than 30 levels\n",
      "Column: date_recorded\n",
      "3/15/11     572\n",
      "3/17/11     558\n",
      "2/3/13      546\n",
      "3/14/11     520\n",
      "3/16/11     513\n",
      "3/18/11     497\n",
      "3/19/11     466\n",
      "2/4/13      464\n",
      "1/29/13     459\n",
      "3/4/11      458\n",
      "2/14/13     445\n",
      "1/24/13     435\n",
      "3/5/11      434\n",
      "2/15/13     429\n",
      "3/15/13     428\n",
      "3/11/11     426\n",
      "1/30/13     421\n",
      "2/16/13     418\n",
      "3/23/11     417\n",
      "3/9/11      416\n",
      "1/18/13     409\n",
      "2/26/13     391\n",
      "3/30/11     391\n",
      "3/19/13     381\n",
      "3/24/11     381\n",
      "2/13/13     380\n",
      "1/23/13     379\n",
      "3/12/11     379\n",
      "3/3/11      378\n",
      "1/28/13     376\n",
      "           ... \n",
      "9/1/11        1\n",
      "9/18/11       1\n",
      "4/5/04        1\n",
      "9/11/11       1\n",
      "9/8/11        1\n",
      "9/28/11       1\n",
      "1/1/13        1\n",
      "12/1/13       1\n",
      "1/21/12       1\n",
      "1/6/13        1\n",
      "9/12/11       1\n",
      "8/31/11       1\n",
      "6/1/04        1\n",
      "8/30/11       1\n",
      "9/17/11       1\n",
      "10/14/02      1\n",
      "9/13/11       1\n",
      "9/25/11       1\n",
      "1/7/04        1\n",
      "9/20/11       1\n",
      "9/16/11       1\n",
      "9/23/11       1\n",
      "1/25/12       1\n",
      "3/6/04        1\n",
      "9/21/11       1\n",
      "9/15/11       1\n",
      "9/5/11        1\n",
      "9/9/11        1\n",
      "9/6/11        1\n",
      "9/19/11       1\n",
      "Name: date_recorded, Length: 356, dtype: int64\n",
      "Column: funder\n",
      "Government Of Tanzania         9084\n",
      "null                           3635\n",
      "Danida                         3115\n",
      "Hesawa                         2202\n",
      "Rwssp                          1374\n",
      "World Bank                     1349\n",
      "Kkkt                           1287\n",
      "World Vision                   1246\n",
      "Unicef                         1057\n",
      "Tasaf                           877\n",
      "District Council                843\n",
      "Dhv                             829\n",
      "Private Individual              826\n",
      "Dwsp                            811\n",
      "0                               777\n",
      "Norad                           765\n",
      "Germany Republi                 610\n",
      "Tcrs                            602\n",
      "Ministry Of Water               590\n",
      "Water                           583\n",
      "Dwe                             484\n",
      "Netherlands                     470\n",
      "Hifab                           450\n",
      "Adb                             448\n",
      "Lga                             442\n",
      "Amref                           425\n",
      "Fini Water                      393\n",
      "Oxfam                           359\n",
      "Wateraid                        333\n",
      "Rc Church                       321\n",
      "                               ... \n",
      "Makona                            1\n",
      "Vgovernment                       1\n",
      "Village Water Commission          1\n",
      "Shelisheli Commission             1\n",
      "Mbwana Omari                      1\n",
      "Chai Wazir                        1\n",
      "John Gileth                       1\n",
      "Mtambo                            1\n",
      "Mbwiro                            1\n",
      "Hesawza                           1\n",
      "Dqnida                            1\n",
      "Ldcdd                             1\n",
      "Csf                               1\n",
      "Mmanya Abdallah                   1\n",
      "Hhesawa                           1\n",
      "Theo                              1\n",
      "Shule Ya Msingi                   1\n",
      "Ded/rwssp                         1\n",
      "Muniko                            1\n",
      "Seleman Seif                      1\n",
      "Esawa                             1\n",
      "Nssf                              1\n",
      "Rotary Club Kitchener             1\n",
      "Elca                              1\n",
      "Grazie Franco Lucchini            1\n",
      "Kibara Foundation                 1\n",
      "Giovan Disinistra Per Salve       1\n",
      "Masista                           1\n",
      "Rajabu Athumani                   1\n",
      "Ahmadia                           1\n",
      "Name: funder, Length: 1898, dtype: int64\n",
      "Column: installer\n",
      "DWE                          17402\n",
      "null                          3655\n",
      "Government                    1825\n",
      "RWE                           1206\n",
      "Commu                         1060\n",
      "DANIDA                        1051\n",
      "KKKT                           898\n",
      "Hesawa                         840\n",
      "0                              777\n",
      "TCRS                           707\n",
      "Central government             622\n",
      "CES                            610\n",
      "Community                      553\n",
      "DANID                          552\n",
      "District Council               551\n",
      "HESAWA                         539\n",
      "LGA                            408\n",
      "World vision                   408\n",
      "WEDECO                         397\n",
      "TASAF                          396\n",
      "District council               392\n",
      "Gover                          383\n",
      "AMREF                          329\n",
      "TWESA                          316\n",
      "WU                             301\n",
      "Dmdd                           287\n",
      "ACRA                           278\n",
      "World Vision                   270\n",
      "SEMA                           249\n",
      "DW                             246\n",
      "                             ...  \n",
      "GDP                              1\n",
      "AIC KI                           1\n",
      "Manyota primary School           1\n",
      "Prof. Saluati                    1\n",
      "Lindi contractor                 1\n",
      "Kwamdulu estate                  1\n",
      "DAR ES SALAAM ROUND TABLE        1\n",
      "Grail Mission Kiseki bar         1\n",
      "Villagerd                        1\n",
      "Piscop                           1\n",
      "MWAKI CONTRACTO                  1\n",
      "THREE WAY GERMAN                 1\n",
      "Shelisheli commission            1\n",
      "Nyamingu subvillage              1\n",
      "Dar es salaam Technician         1\n",
      "SHIPO CONSTRUCTORS               1\n",
      "Altai Co. ltd                    1\n",
      "Hesawz                           1\n",
      "Msagin                           1\n",
      "Mbwiro                           1\n",
      "SADIKI KANGELO                   1\n",
      "muniko                           1\n",
      "KDPA                             1\n",
      "FINI Water                       1\n",
      "KKKT MAREU                       1\n",
      "TASSAF/TCRS                      1\n",
      "FRANKFURT                        1\n",
      "MACK DONALD CO LTD               1\n",
      "DBSP                             1\n",
      "Baadela                          1\n",
      "Name: installer, Length: 2146, dtype: int64\n",
      "Column: wpt_name\n",
      "none                         3563\n",
      "Shuleni                      1748\n",
      "Zahanati                      830\n",
      "Msikitini                     535\n",
      "Kanisani                      323\n",
      "Bombani                       271\n",
      "Sokoni                        260\n",
      "Ofisini                       254\n",
      "School                        208\n",
      "Shule Ya Msingi               199\n",
      "Shule                         152\n",
      "Sekondari                     146\n",
      "Muungano                      133\n",
      "Mkombozi                      111\n",
      "Madukani                      104\n",
      "Hospital                       94\n",
      "Mbugani                        94\n",
      "Upendo                         93\n",
      "Kituo Cha Afya                 90\n",
      "Mkuyuni                        88\n",
      "Umoja                          84\n",
      "Center                         83\n",
      "Ccm                            81\n",
      "Kisimani                       78\n",
      "Ofisi Ya Kijiji                76\n",
      "Mtakuja                        76\n",
      "Tankini                        73\n",
      "Bwawani                        66\n",
      "Songambele                     66\n",
      "Maendeleo                      64\n",
      "                             ... \n",
      "Kanisani Rau                    1\n",
      "Chamalendi                      1\n",
      "Mama Juma                       1\n",
      "Kwa Konga                       1\n",
      "Kwa Zakaria Mihambo             1\n",
      "Kwa Mzee Kichumbi               1\n",
      "Joyce Samwel                    1\n",
      "Kwa Sekiete                     1\n",
      "Kwa Nambano                     1\n",
      "Kwa Milambo                     1\n",
      "Kwa Mzee Mgazija                1\n",
      "Kwa Bamwimile Mwasekaga         1\n",
      "Kwalisanguru                    1\n",
      "Kwa Werya Mwita                 1\n",
      "Ulomi Nko                       1\n",
      "Shule Ya Msingi Ibura           1\n",
      "Kirongwe Secondary School       1\n",
      "Katalina                        1\n",
      "Kwa Albert Masawe               1\n",
      "Sangamwalugesha Secschool       1\n",
      "Kwa Mzee Yusufu Abdala          1\n",
      "Kwenyeki                        1\n",
      "Kwa Kabomo                      1\n",
      "Kwamlipuka                      1\n",
      "Kwa Valeriani Clemency          1\n",
      "Upendo Akina Na Mama A          1\n",
      "Jewe                            1\n",
      "Kwasembaa                       1\n",
      "Rina                            1\n",
      "Kwa Ameli Msigwa                1\n",
      "Name: wpt_name, Length: 37400, dtype: int64\n",
      "Column: subvillage\n",
      "Madukani            508\n",
      "Shuleni             506\n",
      "Majengo             502\n",
      "Kati                373\n",
      "null                371\n",
      "Mtakuja             262\n",
      "Sokoni              232\n",
      "M                   187\n",
      "Muungano            172\n",
      "Mbuyuni             164\n",
      "Mlimani             152\n",
      "Songambele          147\n",
      "Miembeni            134\n",
      "Msikitini           134\n",
      "1                   132\n",
      "Kibaoni             114\n",
      "Kanisani            111\n",
      "I                   109\n",
      "Mapinduzi           109\n",
      "Mjimwema            108\n",
      "Mjini               108\n",
      "Mkwajuni            104\n",
      "Mwenge              102\n",
      "Mabatini             98\n",
      "Azimio               98\n",
      "Mbugani              95\n",
      "Mission              95\n",
      "Bwawani              91\n",
      "Bondeni              90\n",
      "Chang'Ombe           88\n",
      "                   ... \n",
      "Beregedi              1\n",
      "Kasherero A           1\n",
      "Mabuga                1\n",
      "Kyatabara             1\n",
      "Nyarutambwe A         1\n",
      "Nagasunga             1\n",
      "Mpandepande           1\n",
      "Kwa Msongo            1\n",
      "Hiyang                1\n",
      "Suki                  1\n",
      "Isagalla B            1\n",
      "Kafuti                1\n",
      "Mwakiponda            1\n",
      "Maseka                1\n",
      "Kakili                1\n",
      "Mighunga              1\n",
      "Mbile                 1\n",
      "Manzege               1\n",
      "Mwanilangali          1\n",
      "Lorimba               1\n",
      "Chikombo              1\n",
      "Kitirima              1\n",
      "Unyonge               1\n",
      "Kiumbene              1\n",
      "Mao Kati              1\n",
      "Bwigasi               1\n",
      "Moklani               1\n",
      "Mwitambu C            1\n",
      "Isemabuna Centre      1\n",
      "Singira               1\n",
      "Name: subvillage, Length: 19288, dtype: int64\n",
      "Column: lga\n",
      "Njombe              2503\n",
      "Arusha Rural        1252\n",
      "Moshi Rural         1251\n",
      "Bariadi             1177\n",
      "Rungwe              1106\n",
      "Kilosa              1094\n",
      "Kasulu              1047\n",
      "Mbozi               1034\n",
      "Meru                1009\n",
      "Bagamoyo             997\n",
      "Singida Rural        995\n",
      "Kilombero            959\n",
      "Same                 877\n",
      "Kibondo              874\n",
      "Kyela                859\n",
      "Kahama               836\n",
      "Magu                 824\n",
      "Kigoma Rural         824\n",
      "Maswa                809\n",
      "Karagwe              771\n",
      "Mbinga               751\n",
      "Iringa Rural         728\n",
      "Serengeti            716\n",
      "Namtumbo             694\n",
      "Lushoto              694\n",
      "Songea Rural         693\n",
      "Mpanda               679\n",
      "Mvomero              671\n",
      "Ngara                669\n",
      "Ulanga               665\n",
      "                    ... \n",
      "Ileje                231\n",
      "Bahi                 224\n",
      "Kisarawe             223\n",
      "Temeke               215\n",
      "Rorya                210\n",
      "Tarime               209\n",
      "Ngorongoro           201\n",
      "Kiteto               193\n",
      "Shinyanga Urban      191\n",
      "Monduli              189\n",
      "Sumbawanga Urban     180\n",
      "Singida Urban        177\n",
      "Sikonge              170\n",
      "Kilindi              161\n",
      "Nanyumbu             158\n",
      "Tabora Urban         155\n",
      "Liwale               154\n",
      "Ilemela              142\n",
      "Mafia                132\n",
      "Mtwara Urban         124\n",
      "Tanga                 99\n",
      "Morogoro Urban        96\n",
      "Kinondoni             93\n",
      "Bukoba Urban          88\n",
      "Songea Urban          80\n",
      "Moshi Urban           79\n",
      "Kigoma Urban          71\n",
      "Arusha Urban          63\n",
      "Lindi Urban           21\n",
      "Nyamagana              1\n",
      "Name: lga, Length: 125, dtype: int64\n",
      "Column: ward\n",
      "Igosi               307\n",
      "Imalinyi            252\n",
      "Siha Kati           232\n",
      "Mdandu              231\n",
      "Nduruma             217\n",
      "Kitunda             203\n",
      "Mishamo             203\n",
      "Msindo              201\n",
      "Chalinze            196\n",
      "Maji ya Chai        190\n",
      "Usuka               187\n",
      "Ngarenanyuki        172\n",
      "Chanika             171\n",
      "Vikindu             162\n",
      "Mtwango             153\n",
      "Matola              145\n",
      "Zinga/Ikerege       141\n",
      "Maramba             139\n",
      "Wanging'ombe        139\n",
      "Itete               137\n",
      "Magomeni            135\n",
      "Kikatiti            134\n",
      "Ifakara             134\n",
      "Olkokola            133\n",
      "Maposeni            130\n",
      "Igongolo            129\n",
      "Mvomero             129\n",
      "Mlangali            125\n",
      "Nkoma               122\n",
      "Mahongole           121\n",
      "                   ... \n",
      "Machinjioni           1\n",
      "Simbay                1\n",
      "Kirongo               1\n",
      "Burungura             1\n",
      "Rasbura               1\n",
      "Uchindile             1\n",
      "Kihangimahuka         1\n",
      "Mwanga Kaskazini      1\n",
      "Igogo                 1\n",
      "Ikweha                1\n",
      "Kinungu               1\n",
      "Korongoni             1\n",
      "Mitole                1\n",
      "Ifinga                1\n",
      "Kitete                1\n",
      "Izia                  1\n",
      "Matarawe              1\n",
      "Mawenzi               1\n",
      "Sungwisi              1\n",
      "Linda                 1\n",
      "Nyamtinga             1\n",
      "Thawi                 1\n",
      "Chinugulu             1\n",
      "Nsemulwa              1\n",
      "Mkumbi                1\n",
      "Themi                 1\n",
      "Ukata                 1\n",
      "Uwanja wa Ndege       1\n",
      "Kapilula              1\n",
      "Mlimani               1\n",
      "Name: ward, Length: 2092, dtype: int64\n",
      "Column: scheme_name\n",
      "null                                     28166\n",
      "K                                          682\n",
      "None                                       644\n",
      "Borehole                                   546\n",
      "Chalinze wate                              405\n",
      "M                                          400\n",
      "DANIDA                                     380\n",
      "Government                                 320\n",
      "Ngana water supplied scheme                270\n",
      "wanging'ombe water supply s                261\n",
      "wanging'ombe supply scheme                 234\n",
      "Bagamoyo wate                              229\n",
      "I                                          229\n",
      "Uroki-Bomang'ombe water sup                209\n",
      "N                                          204\n",
      "Kirua kahe gravity water supply trust      193\n",
      "Machumba estate pipe line                  185\n",
      "Makwale water supplied sche                166\n",
      "Kijiji                                     161\n",
      "S                                          154\n",
      "Losaa-Kia water supply                     152\n",
      "mtwango water supply scheme                152\n",
      "Handeni Trunk Main(H                       152\n",
      "Mkongoro Two                               147\n",
      "Roman                                      139\n",
      "Mkongoro One                               128\n",
      "Maambreni gravity water supply             125\n",
      "Lyamungo umbwe water supply                120\n",
      "Kirua kahe pumping water trust             113\n",
      "Ki                                         107\n",
      "                                         ...  \n",
      "Magula Mwanyumba                             1\n",
      "Sero water scheme                            1\n",
      "MSRRWS                                       1\n",
      "BL Kashofu                                   1\n",
      "Kwam                                         1\n",
      "Sisal eastate hale s                         1\n",
      "Ukuu                                         1\n",
      "Nyabugugo spring source                      1\n",
      "Waid                                         1\n",
      "Tanload                                      1\n",
      "Charles Mushi  Branch line                   1\n",
      "Nzera                                        1\n",
      "Kapu chini wster supply                      1\n",
      "Hawe                                         1\n",
      "Sobodo Borehole Scheme                       1\n",
      "The Desk and chair fondation                 1\n",
      "Nyachenda water scheme                       1\n",
      "Nywang'hwale                                 1\n",
      "Kulasi water supply                          1\n",
      "Heshivu water supply                         1\n",
      "Oloirien water scheme                        1\n",
      "Mang                                         1\n",
      "Dindimu Water Supply                         1\n",
      "Kifaru/kituri                                1\n",
      "Burieni water supply                         1\n",
      "BL Somali                                    1\n",
      "Samsria                                      1\n",
      "Mtapwa water supply                          1\n",
      "Adra                                         1\n",
      "Namahimba water gravity scheme               1\n",
      "Name: scheme_name, Length: 2697, dtype: int64\n"
     ]
    }
   ],
   "source": [
    "#Re-Inspect whether levels (such as zeros) have been replaced with nan values\n",
    "inspect_value_counts_categorical(features)"
   ]
  },
  {
   "cell_type": "markdown",
   "metadata": {},
   "source": [
    "#### Missing data - labels (deletion method)\n",
    "Records with null values in the labels data will be removed as the;\n",
    "    - __id__ column is needed to join to the features dataset\n",
    "    - __status_group__ is the target variable and so a null value cannot be used"
   ]
  },
  {
   "cell_type": "code",
   "execution_count": 37,
   "metadata": {},
   "outputs": [
    {
     "data": {
      "text/plain": [
       "status_group    0\n",
       "id              1\n",
       "dtype: int64"
      ]
     },
     "execution_count": 37,
     "metadata": {},
     "output_type": "execute_result"
    }
   ],
   "source": [
    "#Check if any values were coerced to null values\n",
    "labels.isnull().sum()"
   ]
  },
  {
   "cell_type": "code",
   "execution_count": 38,
   "metadata": {},
   "outputs": [
    {
     "data": {
      "text/plain": [
       "(59399, 2)"
      ]
     },
     "execution_count": 38,
     "metadata": {},
     "output_type": "execute_result"
    }
   ],
   "source": [
    "#Recheck the size BEFORE dropping null values\n",
    "labels.shape"
   ]
  },
  {
   "cell_type": "code",
   "execution_count": 39,
   "metadata": {
    "collapsed": true
   },
   "outputs": [],
   "source": [
    "#Remove the null values\n",
    "labels = labels.dropna()"
   ]
  },
  {
   "cell_type": "code",
   "execution_count": 40,
   "metadata": {},
   "outputs": [
    {
     "data": {
      "text/plain": [
       "(59398, 2)"
      ]
     },
     "execution_count": 40,
     "metadata": {},
     "output_type": "execute_result"
    }
   ],
   "source": [
    "#Recheck the size AFTER dropping null values\n",
    "labels.shape"
   ]
  },
  {
   "cell_type": "code",
   "execution_count": 41,
   "metadata": {
    "scrolled": true
   },
   "outputs": [
    {
     "data": {
      "text/plain": [
       "status_group    0\n",
       "id              0\n",
       "dtype: int64"
      ]
     },
     "execution_count": 41,
     "metadata": {},
     "output_type": "execute_result"
    }
   ],
   "source": [
    "#Confirm no null values\n",
    "labels.isnull().sum()"
   ]
  },
  {
   "cell_type": "markdown",
   "metadata": {},
   "source": [
    "- __Note there are now no missing/null values__"
   ]
  },
  {
   "cell_type": "markdown",
   "metadata": {},
   "source": [
    "<a id='merge'></a>\n",
    "### 2.4 Merge Data\n",
    "- Note that the merge was done here after;\n",
    "- The size of the features and labels was checked\n",
    "- The data types were checked "
   ]
  },
  {
   "cell_type": "markdown",
   "metadata": {
    "collapsed": true
   },
   "source": [
    "##### Possible pitfalls\n",
    "- Column to join on may not be of same type (as accounted for above in 2.3.2)\n",
    "- May perfrom wrong join (for example a right join instead of a left join)"
   ]
  },
  {
   "cell_type": "markdown",
   "metadata": {},
   "source": [
    "#### ii. Merge features and labels into one dataset\n",
    "- A left join will be performed so that we only keep records that have a __target variable__"
   ]
  },
  {
   "cell_type": "code",
   "execution_count": 42,
   "metadata": {},
   "outputs": [
    {
     "data": {
      "text/plain": [
       "(59401, 40)"
      ]
     },
     "execution_count": 42,
     "metadata": {},
     "output_type": "execute_result"
    }
   ],
   "source": [
    "#Recheck size of features before merging\n",
    "features.shape"
   ]
  },
  {
   "cell_type": "code",
   "execution_count": 43,
   "metadata": {},
   "outputs": [
    {
     "data": {
      "text/plain": [
       "(59398, 2)"
      ]
     },
     "execution_count": 43,
     "metadata": {},
     "output_type": "execute_result"
    }
   ],
   "source": [
    "#Recheck size of labels before merging\n",
    "labels.shape"
   ]
  },
  {
   "cell_type": "code",
   "execution_count": 44,
   "metadata": {
    "collapsed": true
   },
   "outputs": [],
   "source": [
    "#Merge two datasets via a left join\n",
    "data = labels.merge(features.drop_duplicates(subset=['id']), how='left')"
   ]
  },
  {
   "cell_type": "code",
   "execution_count": 45,
   "metadata": {},
   "outputs": [
    {
     "data": {
      "text/html": [
       "<div>\n",
       "<style scoped>\n",
       "    .dataframe tbody tr th:only-of-type {\n",
       "        vertical-align: middle;\n",
       "    }\n",
       "\n",
       "    .dataframe tbody tr th {\n",
       "        vertical-align: top;\n",
       "    }\n",
       "\n",
       "    .dataframe thead th {\n",
       "        text-align: right;\n",
       "    }\n",
       "</style>\n",
       "<table border=\"1\" class=\"dataframe\">\n",
       "  <thead>\n",
       "    <tr style=\"text-align: right;\">\n",
       "      <th></th>\n",
       "      <th>status_group</th>\n",
       "      <th>id</th>\n",
       "      <th>date_recorded</th>\n",
       "      <th>funder</th>\n",
       "      <th>gps_height</th>\n",
       "      <th>installer</th>\n",
       "      <th>longitude</th>\n",
       "      <th>latitude</th>\n",
       "      <th>wpt_name</th>\n",
       "      <th>num_private</th>\n",
       "      <th>...</th>\n",
       "      <th>water_quality</th>\n",
       "      <th>quality_group</th>\n",
       "      <th>quantity</th>\n",
       "      <th>quantity_group</th>\n",
       "      <th>source</th>\n",
       "      <th>source_type</th>\n",
       "      <th>source_class</th>\n",
       "      <th>waterpoint_type</th>\n",
       "      <th>waterpoint_type_group</th>\n",
       "      <th>amount_tsh</th>\n",
       "    </tr>\n",
       "  </thead>\n",
       "  <tbody>\n",
       "    <tr>\n",
       "      <th>0</th>\n",
       "      <td>functional</td>\n",
       "      <td>69572.0</td>\n",
       "      <td>3/14/11</td>\n",
       "      <td>Roman</td>\n",
       "      <td>1390.0</td>\n",
       "      <td>Roman</td>\n",
       "      <td>34.938093</td>\n",
       "      <td>-9.856322</td>\n",
       "      <td>none</td>\n",
       "      <td>0</td>\n",
       "      <td>...</td>\n",
       "      <td>soft</td>\n",
       "      <td>good</td>\n",
       "      <td>enough</td>\n",
       "      <td>enough</td>\n",
       "      <td>spring</td>\n",
       "      <td>spring</td>\n",
       "      <td>groundwater</td>\n",
       "      <td>communal standpipe</td>\n",
       "      <td>communal standpipe</td>\n",
       "      <td>6000.0</td>\n",
       "    </tr>\n",
       "    <tr>\n",
       "      <th>1</th>\n",
       "      <td>functional</td>\n",
       "      <td>8776.0</td>\n",
       "      <td>3/6/13</td>\n",
       "      <td>Grumeti</td>\n",
       "      <td>1399.0</td>\n",
       "      <td>GRUMETI</td>\n",
       "      <td>34.698766</td>\n",
       "      <td>-2.147466</td>\n",
       "      <td>Zahanati</td>\n",
       "      <td>0</td>\n",
       "      <td>...</td>\n",
       "      <td>soft</td>\n",
       "      <td>good</td>\n",
       "      <td>insufficient</td>\n",
       "      <td>insufficient</td>\n",
       "      <td>rainwater harvesting</td>\n",
       "      <td>rainwater harvesting</td>\n",
       "      <td>surface</td>\n",
       "      <td>communal standpipe</td>\n",
       "      <td>communal standpipe</td>\n",
       "      <td>0.0</td>\n",
       "    </tr>\n",
       "    <tr>\n",
       "      <th>2</th>\n",
       "      <td>functional</td>\n",
       "      <td>34310.0</td>\n",
       "      <td>2/25/13</td>\n",
       "      <td>Lottery Club</td>\n",
       "      <td>686.0</td>\n",
       "      <td>World vision</td>\n",
       "      <td>37.460664</td>\n",
       "      <td>-3.821329</td>\n",
       "      <td>Kwa Mahundi</td>\n",
       "      <td>0</td>\n",
       "      <td>...</td>\n",
       "      <td>soft</td>\n",
       "      <td>good</td>\n",
       "      <td>enough</td>\n",
       "      <td>enough</td>\n",
       "      <td>dam</td>\n",
       "      <td>dam</td>\n",
       "      <td>surface</td>\n",
       "      <td>communal standpipe multiple</td>\n",
       "      <td>communal standpipe</td>\n",
       "      <td>25.0</td>\n",
       "    </tr>\n",
       "  </tbody>\n",
       "</table>\n",
       "<p>3 rows × 41 columns</p>\n",
       "</div>"
      ],
      "text/plain": [
       "  status_group       id date_recorded        funder  gps_height     installer  \\\n",
       "0   functional  69572.0       3/14/11         Roman      1390.0         Roman   \n",
       "1   functional   8776.0        3/6/13       Grumeti      1399.0       GRUMETI   \n",
       "2   functional  34310.0       2/25/13  Lottery Club       686.0  World vision   \n",
       "\n",
       "   longitude  latitude     wpt_name  num_private    ...     water_quality  \\\n",
       "0  34.938093 -9.856322         none            0    ...              soft   \n",
       "1  34.698766 -2.147466     Zahanati            0    ...              soft   \n",
       "2  37.460664 -3.821329  Kwa Mahundi            0    ...              soft   \n",
       "\n",
       "  quality_group      quantity  quantity_group                source  \\\n",
       "0          good        enough          enough                spring   \n",
       "1          good  insufficient    insufficient  rainwater harvesting   \n",
       "2          good        enough          enough                   dam   \n",
       "\n",
       "            source_type source_class              waterpoint_type  \\\n",
       "0                spring  groundwater           communal standpipe   \n",
       "1  rainwater harvesting      surface           communal standpipe   \n",
       "2                   dam      surface  communal standpipe multiple   \n",
       "\n",
       "  waterpoint_type_group amount_tsh  \n",
       "0    communal standpipe     6000.0  \n",
       "1    communal standpipe        0.0  \n",
       "2    communal standpipe       25.0  \n",
       "\n",
       "[3 rows x 41 columns]"
      ]
     },
     "execution_count": 45,
     "metadata": {},
     "output_type": "execute_result"
    }
   ],
   "source": [
    "#Reinspect\n",
    "data.head(3)"
   ]
  },
  {
   "cell_type": "code",
   "execution_count": 46,
   "metadata": {},
   "outputs": [
    {
     "data": {
      "text/plain": [
       "(59398, 41)"
      ]
     },
     "execution_count": 46,
     "metadata": {},
     "output_type": "execute_result"
    }
   ],
   "source": [
    "#Verify shape\n",
    "data.shape"
   ]
  },
  {
   "cell_type": "markdown",
   "metadata": {},
   "source": [
    "- __Verify shape__: The shape is as expected after the join as;\n",
    "\n",
    "    - Number of rows =  number of records/rows of the labels dataframe. I.e each record has a target variable\n",
    "    - Number of columns = num_columns_features + num_columns_labels - 1 (Due to overlap of joining id column)"
   ]
  },
  {
   "cell_type": "markdown",
   "metadata": {
    "collapsed": true
   },
   "source": [
    "## 2.5 Explore Data"
   ]
  },
  {
   "cell_type": "markdown",
   "metadata": {},
   "source": [
    "<a id='data_visualisations'></a>\n",
    "#### 2.3.1 Data Visuaisations "
   ]
  },
  {
   "cell_type": "markdown",
   "metadata": {},
   "source": [
    "- Visualise\n",
    "    - Plot histograms for numeric columns to show frequencies \n",
    "    - Plot bar plots for categorical/boolean columns to show group breakdown"
   ]
  },
  {
   "cell_type": "code",
   "execution_count": 47,
   "metadata": {
    "collapsed": true
   },
   "outputs": [],
   "source": [
    "def data_vis_numeric(df):\n",
    "    '''Visulation of features \n",
    "    - Plot histograms for numeric columns to show frequencies \n",
    "    \n",
    "    Parameters:\n",
    "    dataframe of features to visualize \n",
    "\n",
    "    Returns:\n",
    "    Returns no value (displays relevant plots )\n",
    "    \n",
    "    '''\n",
    "    # Plot histograms for numeric columns\n",
    "    for idx, col in enumerate(df.select_dtypes(include=[np.number]).keys()):\n",
    "        df[col].plot.hist(title = col)\n",
    "        plt.show()"
   ]
  },
  {
   "cell_type": "code",
   "execution_count": 48,
   "metadata": {},
   "outputs": [
    {
     "name": "stdout",
     "output_type": "stream",
     "text": [
      "Visulation of features \n",
      "    - Plot histograms for numeric columns to show frequencies \n",
      "    \n",
      "    Parameters:\n",
      "    dataframe of features to visualize \n",
      "\n",
      "    Returns:\n",
      "    Returns no value (displays relevant plots )\n",
      "    \n",
      "    \n"
     ]
    }
   ],
   "source": [
    "print(data_vis_numeric.__doc__)"
   ]
  },
  {
   "cell_type": "code",
   "execution_count": 108,
   "metadata": {
    "collapsed": true
   },
   "outputs": [],
   "source": [
    "def data_vis_categorical(df):\n",
    "    '''Visulation of features \n",
    "    - Plot bar plots for categorical/boolean columns to show group breakdown \n",
    "    \n",
    "    Parameters:\n",
    "    dataframe of features to visualize \n",
    "\n",
    "    Returns:\n",
    "    Returns no value (displays relevant plots )\n",
    "    \n",
    "    '''\n",
    "    # Plot bar plots  for categorical/boolean columns        \n",
    "    for idx, col in enumerate(df.select_dtypes(include=[np.object, np.bool]).keys()):\n",
    "        # Only draw bar plots for variables with less than 30 levels\n",
    "        if len(df[col].unique()) < 30:\n",
    "            df[col].value_counts().plot.bar(title = col)\n",
    "            plt.show()"
   ]
  },
  {
   "cell_type": "code",
   "execution_count": 51,
   "metadata": {},
   "outputs": [
    {
     "name": "stdout",
     "output_type": "stream",
     "text": [
      "Visulation of features \n",
      "    - Plot bar plots for categorical/boolean columns to show group breakdown \n",
      "    \n",
      "    Parameters:\n",
      "    dataframe of features to visualize \n",
      "\n",
      "    Returns:\n",
      "    Returns no value (displays relevant plots )\n",
      "    \n",
      "    \n"
     ]
    }
   ],
   "source": [
    "print(data_vis_categorical.__doc__)"
   ]
  },
  {
   "cell_type": "markdown",
   "metadata": {},
   "source": [
    "#### Plot numeric columns"
   ]
  },
  {
   "cell_type": "code",
   "execution_count": 52,
   "metadata": {},
   "outputs": [
    {
     "data": {
      "image/png": "[encoded data removed]",
      "text/plain": [
       "<matplotlib.figure.Figure at 0x7f66a9d66978>"
      ]
     },
     "metadata": {},
     "output_type": "display_data"
    },
    {
     "data": {
      "image/png": "[encoded data removed]",
      "text/plain": [
       "<matplotlib.figure.Figure at 0x7f66a9840ba8>"
      ]
     },
     "metadata": {},
     "output_type": "display_data"
    },
    {
     "data": {
      "image/png": "[encoded data removed]",
      "text/plain": [
       "<matplotlib.figure.Figure at 0x7f66a98b7c88>"
      ]
     },
     "metadata": {},
     "output_type": "display_data"
    },
    {
     "data": {
      "image/png": "[encoded data removed]",
      "text/plain": [
       "<matplotlib.figure.Figure at 0x7f66a9da5c88>"
      ]
     },
     "metadata": {},
     "output_type": "display_data"
    },
    {
     "data": {
      "image/png": "[encoded data removed]",
      "text/plain": [
       "<matplotlib.figure.Figure at 0x7f66a9c70c50>"
      ]
     },
     "metadata": {},
     "output_type": "display_data"
    },
    {
     "data": {
      "image/png": "[encoded data removed]",
      "text/plain": [
       "<matplotlib.figure.Figure at 0x7f66a9c757f0>"
      ]
     },
     "metadata": {},
     "output_type": "display_data"
    },
    {
     "data": {
      "image/png": "[encoded data removed]",
      "text/plain": [
       "<matplotlib.figure.Figure at 0x7f66a9cd8320>"
      ]
     },
     "metadata": {},
     "output_type": "display_data"
    },
    {
     "data": {
      "image/png": "[encoded data removed]",
      "text/plain": [
       "<matplotlib.figure.Figure at 0x7f66a9df9630>"
      ]
     },
     "metadata": {},
     "output_type": "display_data"
    },
    {
     "data": {
      "image/png": "[encoded data removed]",
      "text/plain": [
       "<matplotlib.figure.Figure at 0x7f66a5715ac8>"
      ]
     },
     "metadata": {},
     "output_type": "display_data"
    },
    {
     "data": {
      "image/png": "[encoded data removed]",
      "text/plain": [
       "<matplotlib.figure.Figure at 0x7f66a9c9c160>"
      ]
     },
     "metadata": {},
     "output_type": "display_data"
    }
   ],
   "source": [
    "data_vis_numeric(data)"
   ]
  },
  {
   "cell_type": "markdown",
   "metadata": {},
   "source": [
    "#### Plot categorical columns"
   ]
  },
  {
   "cell_type": "code",
   "execution_count": 53,
   "metadata": {},
   "outputs": [
    {
     "data": {
      "image/png": "[encoded data removed]",
      "text/plain": [
       "<matplotlib.figure.Figure at 0x7f66a9b601d0>"
      ]
     },
     "metadata": {},
     "output_type": "display_data"
    },
    {
     "data": {
      "image/png": "[encoded data removed]",
      "text/plain": [
       "<matplotlib.figure.Figure at 0x7f66a9ac3320>"
      ]
     },
     "metadata": {},
     "output_type": "display_data"
    },
    {
     "data": {
      "image/png": "[encoded data removed]",
      "text/plain": [
       "<matplotlib.figure.Figure at 0x7f66a9a414e0>"
      ]
     },
     "metadata": {},
     "output_type": "display_data"
    },
    {
     "data": {
      "image/png": "[encoded data removed]",
      "text/plain": [
       "<matplotlib.figure.Figure at 0x7f66a9bcb438>"
      ]
     },
     "metadata": {},
     "output_type": "display_data"
    },
    {
     "data": {
      "image/png": "[encoded data removed]",
      "text/plain": [
       "<matplotlib.figure.Figure at 0x7f66a9a33d68>"
      ]
     },
     "metadata": {},
     "output_type": "display_data"
    },
    {
     "data": {
      "image/png": "[encoded data removed]",
      "text/plain": [
       "<matplotlib.figure.Figure at 0x7f66a9a26390>"
      ]
     },
     "metadata": {},
     "output_type": "display_data"
    },
    {
     "data": {
      "image/png": "[encoded data removed]",
      "text/plain": [
       "<matplotlib.figure.Figure at 0x7f66a99f8828>"
      ]
     },
     "metadata": {},
     "output_type": "display_data"
    },
    {
     "data": {
      "image/png": "[encoded data removed]",
      "text/plain": [
       "<matplotlib.figure.Figure at 0x7f66a98870f0>"
      ]
     },
     "metadata": {},
     "output_type": "display_data"
    },
    {
     "data": {
      "image/png": "[encoded data removed]",
      "text/plain": [
       "<matplotlib.figure.Figure at 0x7f66a9e2e9b0>"
      ]
     },
     "metadata": {},
     "output_type": "display_data"
    },
    {
     "data": {
      "image/png": "[encoded data removed]",
      "text/plain": [
       "<matplotlib.figure.Figure at 0x7f66a9ae6fd0>"
      ]
     },
     "metadata": {},
     "output_type": "display_data"
    },
    {
     "data": {
      "image/png": "[encoded data removed]",
      "text/plain": [
       "<matplotlib.figure.Figure at 0x7f66a9b06898>"
      ]
     },
     "metadata": {},
     "output_type": "display_data"
    },
    {
     "data": {
      "image/png": "[encoded data removed]",
      "text/plain": [
       "<matplotlib.figure.Figure at 0x7f66a9d04978>"
      ]
     },
     "metadata": {},
     "output_type": "display_data"
    },
    {
     "data": {
      "image/png": "[encoded data removed]",
      "text/plain": [
       "<matplotlib.figure.Figure at 0x7f66a9db9e48>"
      ]
     },
     "metadata": {},
     "output_type": "display_data"
    },
    {
     "data": {
      "image/png": "[encoded data removed]",
      "text/plain": [
       "<matplotlib.figure.Figure at 0x7f66a9cfceb8>"
      ]
     },
     "metadata": {},
     "output_type": "display_data"
    },
    {
     "data": {
      "image/png": "[encoded data removed]",
      "text/plain": [
       "<matplotlib.figure.Figure at 0x7f66a98af128>"
      ]
     },
     "metadata": {},
     "output_type": "display_data"
    },
    {
     "data": {
      "image/png": "[encoded data removed]",
      "text/plain": [
       "<matplotlib.figure.Figure at 0x7f66a9ac09b0>"
      ]
     },
     "metadata": {},
     "output_type": "display_data"
    },
    {
     "data": {
      "image/png": "[encoded data removed]",
      "text/plain": [
       "<matplotlib.figure.Figure at 0x7f66a9cf3d30>"
      ]
     },
     "metadata": {},
     "output_type": "display_data"
    },
    {
     "data": {
      "image/png": "[encoded data removed]",
      "text/plain": [
       "<matplotlib.figure.Figure at 0x7f66a99876d8>"
      ]
     },
     "metadata": {},
     "output_type": "display_data"
    },
    {
     "data": {
      "image/png": "[encoded data removed]",
      "text/plain": [
       "<matplotlib.figure.Figure at 0x7f66a9dda240>"
      ]
     },
     "metadata": {},
     "output_type": "display_data"
    },
    {
     "data": {
      "image/png": "[encoded data removed]",
      "text/plain": [
       "<matplotlib.figure.Figure at 0x7f66a9c2c240>"
      ]
     },
     "metadata": {},
     "output_type": "display_data"
    },
    {
     "data": {
      "image/png": "[encoded data removed]",
      "text/plain": [
       "<matplotlib.figure.Figure at 0x7f66a56cabe0>"
      ]
     },
     "metadata": {},
     "output_type": "display_data"
    },
    {
     "data": {
      "image/png": "[encoded data removed]",
      "text/plain": [
       "<matplotlib.figure.Figure at 0x7f66a9c35e48>"
      ]
     },
     "metadata": {},
     "output_type": "display_data"
    },
    {
     "data": {
      "image/png": "[encoded data removed]",
      "text/plain": [
       "<matplotlib.figure.Figure at 0x7f66a994f748>"
      ]
     },
     "metadata": {},
     "output_type": "display_data"
    }
   ],
   "source": [
    "data_vis_categorical(data)"
   ]
  },
  {
   "cell_type": "code",
   "execution_count": 109,
   "metadata": {},
   "outputs": [],
   "source": [
    "data_vis_categorical(data)"
   ]
  },
  {
   "cell_type": "markdown",
   "metadata": {},
   "source": [
    "#### ******Last thing - maybe don't include \n",
    "** convert amount_tsh to numeric"
   ]
  },
  {
   "cell_type": "markdown",
   "metadata": {},
   "source": [
    "#### Data Visualisation with respect to target variable (status_group)"
   ]
  },
  {
   "cell_type": "code",
   "execution_count": 49,
   "metadata": {
    "collapsed": true
   },
   "outputs": [],
   "source": [
    "def data_visualisation_target(df, target_feat):\n",
    "    \n",
    "    '''\n",
    "    !££%adf32489741\n",
    "    ******\n",
    "    Visual breakdown \n",
    "    \n",
    "    '''\n",
    "    #Numeric\n",
    "    for c in list(df.select_dtypes(include=[np.number]).keys()):\n",
    "        print(c)\n",
    "        df.hist(column = c, by=target_feat, figsize=(10, 4), sharey=True, sharex=True, layout = (1, 4), normed = True, bins = 20)\n",
    "        plt.show()\n",
    "    \n",
    "    for c in list(df.select_dtypes(include=[np.object]).keys()):\n",
    "        #Only if unique number of values is less than 30\n",
    "        if len(df[c].unique()) < 30:\n",
    "            # Calculate a max value for frequencies\n",
    "            x_max = df[c].value_counts().max()\n",
    "\n",
    "            # Create a canvas\n",
    "            plt.figure(figsize=(10, 5))\n",
    "\n",
    "            # Insert a subplot in a 2 by 2 grid at position 1\n",
    "            plt.subplot(1,4, 1)\n",
    "\n",
    "            print(c)\n",
    "            \n",
    "            for idx, clus in enumerate(df[target_feat].unique()):\n",
    "                plt.subplot(1,4,idx + 1)\n",
    "                df.loc[df[target_feat] == clus, c].value_counts(normalize=True).sort_index().plot(kind = \"barh\", title = \"Target: \" + str(clus))\n",
    "\n",
    "\n",
    "            # Causes the pliots to be spaced properly so axes etc don't overlap\n",
    "            plt.tight_layout()\n",
    "            plt.show()"
   ]
  },
  {
   "cell_type": "code",
   "execution_count": 50,
   "metadata": {},
   "outputs": [
    {
     "name": "stdout",
     "output_type": "stream",
     "text": [
      "id\n"
     ]
    },
    {
     "data": {
      "image/png": "[encoded data removed]",
      "text/plain": [
       "<matplotlib.figure.Figure at 0x7ff47e688f60>"
      ]
     },
     "metadata": {},
     "output_type": "display_data"
    },
    {
     "name": "stdout",
     "output_type": "stream",
     "text": [
      "gps_height\n"
     ]
    },
    {
     "data": {
      "image/png": "[encoded data removed]",
      "text/plain": [
       "<matplotlib.figure.Figure at 0x7ff47ebd18d0>"
      ]
     },
     "metadata": {},
     "output_type": "display_data"
    },
    {
     "name": "stdout",
     "output_type": "stream",
     "text": [
      "longitude\n"
     ]
    },
    {
     "data": {
      "image/png": "[encoded data removed]",
      "text/plain": [
       "<matplotlib.figure.Figure at 0x7ff47e9455c0>"
      ]
     },
     "metadata": {},
     "output_type": "display_data"
    },
    {
     "name": "stdout",
     "output_type": "stream",
     "text": [
      "latitude\n"
     ]
    },
    {
     "data": {
      "image/png": "[encoded data removed]",
      "text/plain": [
       "<matplotlib.figure.Figure at 0x7ff47e615be0>"
      ]
     },
     "metadata": {},
     "output_type": "display_data"
    },
    {
     "name": "stdout",
     "output_type": "stream",
     "text": [
      "num_private\n"
     ]
    },
    {
     "data": {
      "image/png": "[encoded data removed]",
      "text/plain": [
       "<matplotlib.figure.Figure at 0x7ff47e945048>"
      ]
     },
     "metadata": {},
     "output_type": "display_data"
    },
    {
     "name": "stdout",
     "output_type": "stream",
     "text": [
      "region_code\n"
     ]
    },
    {
     "data": {
      "image/png": "[encoded data removed]",
      "text/plain": [
       "<matplotlib.figure.Figure at 0x7ff47e568b70>"
      ]
     },
     "metadata": {},
     "output_type": "display_data"
    },
    {
     "name": "stdout",
     "output_type": "stream",
     "text": [
      "district_code\n"
     ]
    },
    {
     "data": {
      "image/png": "[encoded data removed]",
      "text/plain": [
       "<matplotlib.figure.Figure at 0x7ff484d62f28>"
      ]
     },
     "metadata": {},
     "output_type": "display_data"
    },
    {
     "name": "stdout",
     "output_type": "stream",
     "text": [
      "population\n"
     ]
    },
    {
     "data": {
      "image/png": "[encoded data removed]",
      "text/plain": [
       "<matplotlib.figure.Figure at 0x7ff47eb924e0>"
      ]
     },
     "metadata": {},
     "output_type": "display_data"
    },
    {
     "name": "stdout",
     "output_type": "stream",
     "text": [
      "construction_year\n"
     ]
    },
    {
     "data": {
      "image/png": "[encoded data removed]",
      "text/plain": [
       "<matplotlib.figure.Figure at 0x7ff47e8e4be0>"
      ]
     },
     "metadata": {},
     "output_type": "display_data"
    },
    {
     "name": "stdout",
     "output_type": "stream",
     "text": [
      "amount_tsh\n"
     ]
    },
    {
     "data": {
      "image/png": "[encoded data removed]",
      "text/plain": [
       "<matplotlib.figure.Figure at 0x7ff47e526400>"
      ]
     },
     "metadata": {},
     "output_type": "display_data"
    },
    {
     "name": "stdout",
     "output_type": "stream",
     "text": [
      "status_group\n"
     ]
    },
    {
     "data": {
      "image/png": "[encoded data removed]",
      "text/plain": [
       "<matplotlib.figure.Figure at 0x7ff47e85fe10>"
      ]
     },
     "metadata": {},
     "output_type": "display_data"
    },
    {
     "name": "stdout",
     "output_type": "stream",
     "text": [
      "basin\n"
     ]
    },
    {
     "data": {
      "image/png": "[encoded data removed]",
      "text/plain": [
       "<matplotlib.figure.Figure at 0x7ff47e8994e0>"
      ]
     },
     "metadata": {},
     "output_type": "display_data"
    },
    {
     "name": "stdout",
     "output_type": "stream",
     "text": [
      "region\n"
     ]
    },
    {
     "data": {
      "image/png": "[encoded data removed]",
      "text/plain": [
       "<matplotlib.figure.Figure at 0x7ff47ea3b438>"
      ]
     },
     "metadata": {},
     "output_type": "display_data"
    },
    {
     "name": "stdout",
     "output_type": "stream",
     "text": [
      "public_meeting\n"
     ]
    },
    {
     "ename": "TypeError",
     "evalue": "unorderable types: str() < bool()",
     "output_type": "error",
     "traceback": [
      "\u001b[0;31m---------------------------------------------------------------------------\u001b[0m",
      "\u001b[0;31mTypeError\u001b[0m                                 Traceback (most recent call last)",
      "\u001b[0;32m<ipython-input-50-8ec004fc2dfb>\u001b[0m in \u001b[0;36m<module>\u001b[0;34m()\u001b[0m\n\u001b[0;32m----> 1\u001b[0;31m \u001b[0mdata_visualisation_target\u001b[0m\u001b[0;34m(\u001b[0m\u001b[0mdata\u001b[0m\u001b[0;34m,\u001b[0m \u001b[0;34m'status_group'\u001b[0m\u001b[0;34m)\u001b[0m\u001b[0;34m\u001b[0m\u001b[0m\n\u001b[0m",
      "\u001b[0;32m<ipython-input-49-5ffba8c11bdc>\u001b[0m in \u001b[0;36mdata_visualisation_target\u001b[0;34m(df, target_feat)\u001b[0m\n\u001b[1;32m     29\u001b[0m             \u001b[0;32mfor\u001b[0m \u001b[0midx\u001b[0m\u001b[0;34m,\u001b[0m \u001b[0mclus\u001b[0m \u001b[0;32min\u001b[0m \u001b[0menumerate\u001b[0m\u001b[0;34m(\u001b[0m\u001b[0mdf\u001b[0m\u001b[0;34m[\u001b[0m\u001b[0mtarget_feat\u001b[0m\u001b[0;34m]\u001b[0m\u001b[0;34m.\u001b[0m\u001b[0munique\u001b[0m\u001b[0;34m(\u001b[0m\u001b[0;34m)\u001b[0m\u001b[0;34m)\u001b[0m\u001b[0;34m:\u001b[0m\u001b[0;34m\u001b[0m\u001b[0m\n\u001b[1;32m     30\u001b[0m                 \u001b[0mplt\u001b[0m\u001b[0;34m.\u001b[0m\u001b[0msubplot\u001b[0m\u001b[0;34m(\u001b[0m\u001b[0;36m1\u001b[0m\u001b[0;34m,\u001b[0m\u001b[0;36m4\u001b[0m\u001b[0;34m,\u001b[0m\u001b[0midx\u001b[0m \u001b[0;34m+\u001b[0m \u001b[0;36m1\u001b[0m\u001b[0;34m)\u001b[0m\u001b[0;34m\u001b[0m\u001b[0m\n\u001b[0;32m---> 31\u001b[0;31m                 \u001b[0mdf\u001b[0m\u001b[0;34m.\u001b[0m\u001b[0mloc\u001b[0m\u001b[0;34m[\u001b[0m\u001b[0mdf\u001b[0m\u001b[0;34m[\u001b[0m\u001b[0mtarget_feat\u001b[0m\u001b[0;34m]\u001b[0m \u001b[0;34m==\u001b[0m \u001b[0mclus\u001b[0m\u001b[0;34m,\u001b[0m \u001b[0mc\u001b[0m\u001b[0;34m]\u001b[0m\u001b[0;34m.\u001b[0m\u001b[0mvalue_counts\u001b[0m\u001b[0;34m(\u001b[0m\u001b[0mnormalize\u001b[0m\u001b[0;34m=\u001b[0m\u001b[0;32mTrue\u001b[0m\u001b[0;34m)\u001b[0m\u001b[0;34m.\u001b[0m\u001b[0msort_index\u001b[0m\u001b[0;34m(\u001b[0m\u001b[0;34m)\u001b[0m\u001b[0;34m.\u001b[0m\u001b[0mplot\u001b[0m\u001b[0;34m(\u001b[0m\u001b[0mkind\u001b[0m \u001b[0;34m=\u001b[0m \u001b[0;34m\"barh\"\u001b[0m\u001b[0;34m,\u001b[0m \u001b[0mtitle\u001b[0m \u001b[0;34m=\u001b[0m \u001b[0;34m\"Target: \"\u001b[0m \u001b[0;34m+\u001b[0m \u001b[0mstr\u001b[0m\u001b[0;34m(\u001b[0m\u001b[0mclus\u001b[0m\u001b[0;34m)\u001b[0m\u001b[0;34m)\u001b[0m\u001b[0;34m\u001b[0m\u001b[0m\n\u001b[0m\u001b[1;32m     32\u001b[0m \u001b[0;34m\u001b[0m\u001b[0m\n\u001b[1;32m     33\u001b[0m \u001b[0;34m\u001b[0m\u001b[0m\n",
      "\u001b[0;32m/app/anaconda3/envs/python352/lib/python3.5/site-packages/pandas/core/series.py\u001b[0m in \u001b[0;36msort_index\u001b[0;34m(self, axis, level, ascending, inplace, kind, na_position, sort_remaining)\u001b[0m\n\u001b[1;32m   2641\u001b[0m \u001b[0;34m\u001b[0m\u001b[0m\n\u001b[1;32m   2642\u001b[0m             indexer = nargsort(index, kind=kind, ascending=ascending,\n\u001b[0;32m-> 2643\u001b[0;31m                                na_position=na_position)\n\u001b[0m\u001b[1;32m   2644\u001b[0m \u001b[0;34m\u001b[0m\u001b[0m\n\u001b[1;32m   2645\u001b[0m         \u001b[0mindexer\u001b[0m \u001b[0;34m=\u001b[0m \u001b[0m_ensure_platform_int\u001b[0m\u001b[0;34m(\u001b[0m\u001b[0mindexer\u001b[0m\u001b[0;34m)\u001b[0m\u001b[0;34m\u001b[0m\u001b[0m\n",
      "\u001b[0;32m/app/anaconda3/envs/python352/lib/python3.5/site-packages/pandas/core/sorting.py\u001b[0m in \u001b[0;36mnargsort\u001b[0;34m(items, kind, ascending, na_position)\u001b[0m\n\u001b[1;32m    253\u001b[0m         \u001b[0mnon_nans\u001b[0m \u001b[0;34m=\u001b[0m \u001b[0mnon_nans\u001b[0m\u001b[0;34m[\u001b[0m\u001b[0;34m:\u001b[0m\u001b[0;34m:\u001b[0m\u001b[0;34m-\u001b[0m\u001b[0;36m1\u001b[0m\u001b[0;34m]\u001b[0m\u001b[0;34m\u001b[0m\u001b[0m\n\u001b[1;32m    254\u001b[0m         \u001b[0mnon_nan_idx\u001b[0m \u001b[0;34m=\u001b[0m \u001b[0mnon_nan_idx\u001b[0m\u001b[0;34m[\u001b[0m\u001b[0;34m:\u001b[0m\u001b[0;34m:\u001b[0m\u001b[0;34m-\u001b[0m\u001b[0;36m1\u001b[0m\u001b[0;34m]\u001b[0m\u001b[0;34m\u001b[0m\u001b[0m\n\u001b[0;32m--> 255\u001b[0;31m     \u001b[0mindexer\u001b[0m \u001b[0;34m=\u001b[0m \u001b[0mnon_nan_idx\u001b[0m\u001b[0;34m[\u001b[0m\u001b[0mnon_nans\u001b[0m\u001b[0;34m.\u001b[0m\u001b[0margsort\u001b[0m\u001b[0;34m(\u001b[0m\u001b[0mkind\u001b[0m\u001b[0;34m=\u001b[0m\u001b[0mkind\u001b[0m\u001b[0;34m)\u001b[0m\u001b[0;34m]\u001b[0m\u001b[0;34m\u001b[0m\u001b[0m\n\u001b[0m\u001b[1;32m    256\u001b[0m     \u001b[0;32mif\u001b[0m \u001b[0;32mnot\u001b[0m \u001b[0mascending\u001b[0m\u001b[0;34m:\u001b[0m\u001b[0;34m\u001b[0m\u001b[0m\n\u001b[1;32m    257\u001b[0m         \u001b[0mindexer\u001b[0m \u001b[0;34m=\u001b[0m \u001b[0mindexer\u001b[0m\u001b[0;34m[\u001b[0m\u001b[0;34m:\u001b[0m\u001b[0;34m:\u001b[0m\u001b[0;34m-\u001b[0m\u001b[0;36m1\u001b[0m\u001b[0;34m]\u001b[0m\u001b[0;34m\u001b[0m\u001b[0m\n",
      "\u001b[0;31mTypeError\u001b[0m: unorderable types: str() < bool()"
     ]
    }
   ],
   "source": [
    "data_visualisation_target(data, 'status_group')"
   ]
  },
  {
   "cell_type": "markdown",
   "metadata": {},
   "source": [
    "<a id='corr'></a>\n",
    "#### 2.3.2 Data Correlation"
   ]
  },
  {
   "cell_type": "code",
   "execution_count": 51,
   "metadata": {},
   "outputs": [
    {
     "data": {
      "text/html": [
       "<style  type=\"text/css\" >\n",
       "    #T_9d5aa8e0_3a9f_11e9_bf49_0050568f1c7erow0_col0 {\n",
       "            background-color:  #4479bb;\n",
       "            max-width:  80px;\n",
       "            font-size:  10pt;\n",
       "        }    #T_9d5aa8e0_3a9f_11e9_bf49_0050568f1c7erow0_col1 {\n",
       "            background-color:  #d73c5b;\n",
       "            max-width:  80px;\n",
       "            font-size:  10pt;\n",
       "        }    #T_9d5aa8e0_3a9f_11e9_bf49_0050568f1c7erow0_col2 {\n",
       "            background-color:  #d73d5c;\n",
       "            max-width:  80px;\n",
       "            font-size:  10pt;\n",
       "        }    #T_9d5aa8e0_3a9f_11e9_bf49_0050568f1c7erow0_col3 {\n",
       "            background-color:  #d73d5c;\n",
       "            max-width:  80px;\n",
       "            font-size:  10pt;\n",
       "        }    #T_9d5aa8e0_3a9f_11e9_bf49_0050568f1c7erow0_col4 {\n",
       "            background-color:  #d73c5b;\n",
       "            max-width:  80px;\n",
       "            font-size:  10pt;\n",
       "        }    #T_9d5aa8e0_3a9f_11e9_bf49_0050568f1c7erow0_col5 {\n",
       "            background-color:  #d73c5b;\n",
       "            max-width:  80px;\n",
       "            font-size:  10pt;\n",
       "        }    #T_9d5aa8e0_3a9f_11e9_bf49_0050568f1c7erow0_col6 {\n",
       "            background-color:  #d73c5b;\n",
       "            max-width:  80px;\n",
       "            font-size:  10pt;\n",
       "        }    #T_9d5aa8e0_3a9f_11e9_bf49_0050568f1c7erow0_col7 {\n",
       "            background-color:  #d73c5b;\n",
       "            max-width:  80px;\n",
       "            font-size:  10pt;\n",
       "        }    #T_9d5aa8e0_3a9f_11e9_bf49_0050568f1c7erow0_col8 {\n",
       "            background-color:  #d73c5b;\n",
       "            max-width:  80px;\n",
       "            font-size:  10pt;\n",
       "        }    #T_9d5aa8e0_3a9f_11e9_bf49_0050568f1c7erow0_col9 {\n",
       "            background-color:  #d73c5b;\n",
       "            max-width:  80px;\n",
       "            font-size:  10pt;\n",
       "        }    #T_9d5aa8e0_3a9f_11e9_bf49_0050568f1c7erow1_col0 {\n",
       "            background-color:  #e27288;\n",
       "            max-width:  80px;\n",
       "            font-size:  10pt;\n",
       "        }    #T_9d5aa8e0_3a9f_11e9_bf49_0050568f1c7erow1_col1 {\n",
       "            background-color:  #4479bb;\n",
       "            max-width:  80px;\n",
       "            font-size:  10pt;\n",
       "        }    #T_9d5aa8e0_3a9f_11e9_bf49_0050568f1c7erow1_col2 {\n",
       "            background-color:  #eca1b0;\n",
       "            max-width:  80px;\n",
       "            font-size:  10pt;\n",
       "        }    #T_9d5aa8e0_3a9f_11e9_bf49_0050568f1c7erow1_col3 {\n",
       "            background-color:  #e06880;\n",
       "            max-width:  80px;\n",
       "            font-size:  10pt;\n",
       "        }    #T_9d5aa8e0_3a9f_11e9_bf49_0050568f1c7erow1_col4 {\n",
       "            background-color:  #e3768c;\n",
       "            max-width:  80px;\n",
       "            font-size:  10pt;\n",
       "        }    #T_9d5aa8e0_3a9f_11e9_bf49_0050568f1c7erow1_col5 {\n",
       "            background-color:  #d73c5b;\n",
       "            max-width:  80px;\n",
       "            font-size:  10pt;\n",
       "        }    #T_9d5aa8e0_3a9f_11e9_bf49_0050568f1c7erow1_col6 {\n",
       "            background-color:  #d83e5d;\n",
       "            max-width:  80px;\n",
       "            font-size:  10pt;\n",
       "        }    #T_9d5aa8e0_3a9f_11e9_bf49_0050568f1c7erow1_col7 {\n",
       "            background-color:  #eb9dac;\n",
       "            max-width:  80px;\n",
       "            font-size:  10pt;\n",
       "        }    #T_9d5aa8e0_3a9f_11e9_bf49_0050568f1c7erow1_col8 {\n",
       "            background-color:  #a9c1e0;\n",
       "            max-width:  80px;\n",
       "            font-size:  10pt;\n",
       "        }    #T_9d5aa8e0_3a9f_11e9_bf49_0050568f1c7erow1_col9 {\n",
       "            background-color:  #e78c9e;\n",
       "            max-width:  80px;\n",
       "            font-size:  10pt;\n",
       "        }    #T_9d5aa8e0_3a9f_11e9_bf49_0050568f1c7erow2_col0 {\n",
       "            background-color:  #eda8b6;\n",
       "            max-width:  80px;\n",
       "            font-size:  10pt;\n",
       "        }    #T_9d5aa8e0_3a9f_11e9_bf49_0050568f1c7erow2_col1 {\n",
       "            background-color:  #f5cfd7;\n",
       "            max-width:  80px;\n",
       "            font-size:  10pt;\n",
       "        }    #T_9d5aa8e0_3a9f_11e9_bf49_0050568f1c7erow2_col2 {\n",
       "            background-color:  #4479bb;\n",
       "            max-width:  80px;\n",
       "            font-size:  10pt;\n",
       "        }    #T_9d5aa8e0_3a9f_11e9_bf49_0050568f1c7erow2_col3 {\n",
       "            background-color:  #d73c5b;\n",
       "            max-width:  80px;\n",
       "            font-size:  10pt;\n",
       "        }    #T_9d5aa8e0_3a9f_11e9_bf49_0050568f1c7erow2_col4 {\n",
       "            background-color:  #eeaebb;\n",
       "            max-width:  80px;\n",
       "            font-size:  10pt;\n",
       "        }    #T_9d5aa8e0_3a9f_11e9_bf49_0050568f1c7erow2_col5 {\n",
       "            background-color:  #efb1be;\n",
       "            max-width:  80px;\n",
       "            font-size:  10pt;\n",
       "        }    #T_9d5aa8e0_3a9f_11e9_bf49_0050568f1c7erow2_col6 {\n",
       "            background-color:  #f5cfd7;\n",
       "            max-width:  80px;\n",
       "            font-size:  10pt;\n",
       "        }    #T_9d5aa8e0_3a9f_11e9_bf49_0050568f1c7erow2_col7 {\n",
       "            background-color:  #f2bdc8;\n",
       "            max-width:  80px;\n",
       "            font-size:  10pt;\n",
       "        }    #T_9d5aa8e0_3a9f_11e9_bf49_0050568f1c7erow2_col8 {\n",
       "            background-color:  #d9e4f1;\n",
       "            max-width:  80px;\n",
       "            font-size:  10pt;\n",
       "        }    #T_9d5aa8e0_3a9f_11e9_bf49_0050568f1c7erow2_col9 {\n",
       "            background-color:  #eeaebb;\n",
       "            max-width:  80px;\n",
       "            font-size:  10pt;\n",
       "        }    #T_9d5aa8e0_3a9f_11e9_bf49_0050568f1c7erow3_col0 {\n",
       "            background-color:  #eda8b6;\n",
       "            max-width:  80px;\n",
       "            font-size:  10pt;\n",
       "        }    #T_9d5aa8e0_3a9f_11e9_bf49_0050568f1c7erow3_col1 {\n",
       "            background-color:  #ec9faf;\n",
       "            max-width:  80px;\n",
       "            font-size:  10pt;\n",
       "        }    #T_9d5aa8e0_3a9f_11e9_bf49_0050568f1c7erow3_col2 {\n",
       "            background-color:  #d73c5b;\n",
       "            max-width:  80px;\n",
       "            font-size:  10pt;\n",
       "        }    #T_9d5aa8e0_3a9f_11e9_bf49_0050568f1c7erow3_col3 {\n",
       "            background-color:  #4479bb;\n",
       "            max-width:  80px;\n",
       "            font-size:  10pt;\n",
       "        }    #T_9d5aa8e0_3a9f_11e9_bf49_0050568f1c7erow3_col4 {\n",
       "            background-color:  #eeaab7;\n",
       "            max-width:  80px;\n",
       "            font-size:  10pt;\n",
       "        }    #T_9d5aa8e0_3a9f_11e9_bf49_0050568f1c7erow3_col5 {\n",
       "            background-color:  #e26f86;\n",
       "            max-width:  80px;\n",
       "            font-size:  10pt;\n",
       "        }    #T_9d5aa8e0_3a9f_11e9_bf49_0050568f1c7erow3_col6 {\n",
       "            background-color:  #e3748a;\n",
       "            max-width:  80px;\n",
       "            font-size:  10pt;\n",
       "        }    #T_9d5aa8e0_3a9f_11e9_bf49_0050568f1c7erow3_col7 {\n",
       "            background-color:  #eca3b1;\n",
       "            max-width:  80px;\n",
       "            font-size:  10pt;\n",
       "        }    #T_9d5aa8e0_3a9f_11e9_bf49_0050568f1c7erow3_col8 {\n",
       "            background-color:  #e16981;\n",
       "            max-width:  80px;\n",
       "            font-size:  10pt;\n",
       "        }    #T_9d5aa8e0_3a9f_11e9_bf49_0050568f1c7erow3_col9 {\n",
       "            background-color:  #ea9aaa;\n",
       "            max-width:  80px;\n",
       "            font-size:  10pt;\n",
       "        }    #T_9d5aa8e0_3a9f_11e9_bf49_0050568f1c7erow4_col0 {\n",
       "            background-color:  #d8415f;\n",
       "            max-width:  80px;\n",
       "            font-size:  10pt;\n",
       "        }    #T_9d5aa8e0_3a9f_11e9_bf49_0050568f1c7erow4_col1 {\n",
       "            background-color:  #d94462;\n",
       "            max-width:  80px;\n",
       "            font-size:  10pt;\n",
       "        }    #T_9d5aa8e0_3a9f_11e9_bf49_0050568f1c7erow4_col2 {\n",
       "            background-color:  #da4b68;\n",
       "            max-width:  80px;\n",
       "            font-size:  10pt;\n",
       "        }    #T_9d5aa8e0_3a9f_11e9_bf49_0050568f1c7erow4_col3 {\n",
       "            background-color:  #d94462;\n",
       "            max-width:  80px;\n",
       "            font-size:  10pt;\n",
       "        }    #T_9d5aa8e0_3a9f_11e9_bf49_0050568f1c7erow4_col4 {\n",
       "            background-color:  #4479bb;\n",
       "            max-width:  80px;\n",
       "            font-size:  10pt;\n",
       "        }    #T_9d5aa8e0_3a9f_11e9_bf49_0050568f1c7erow4_col5 {\n",
       "            background-color:  #d73c5b;\n",
       "            max-width:  80px;\n",
       "            font-size:  10pt;\n",
       "        }    #T_9d5aa8e0_3a9f_11e9_bf49_0050568f1c7erow4_col6 {\n",
       "            background-color:  #d8405e;\n",
       "            max-width:  80px;\n",
       "            font-size:  10pt;\n",
       "        }    #T_9d5aa8e0_3a9f_11e9_bf49_0050568f1c7erow4_col7 {\n",
       "            background-color:  #d94462;\n",
       "            max-width:  80px;\n",
       "            font-size:  10pt;\n",
       "        }    #T_9d5aa8e0_3a9f_11e9_bf49_0050568f1c7erow4_col8 {\n",
       "            background-color:  #da4b68;\n",
       "            max-width:  80px;\n",
       "            font-size:  10pt;\n",
       "        }    #T_9d5aa8e0_3a9f_11e9_bf49_0050568f1c7erow4_col9 {\n",
       "            background-color:  #d94261;\n",
       "            max-width:  80px;\n",
       "            font-size:  10pt;\n",
       "        }    #T_9d5aa8e0_3a9f_11e9_bf49_0050568f1c7erow5_col0 {\n",
       "            background-color:  #e47c91;\n",
       "            max-width:  80px;\n",
       "            font-size:  10pt;\n",
       "        }    #T_9d5aa8e0_3a9f_11e9_bf49_0050568f1c7erow5_col1 {\n",
       "            background-color:  #d94563;\n",
       "            max-width:  80px;\n",
       "            font-size:  10pt;\n",
       "        }    #T_9d5aa8e0_3a9f_11e9_bf49_0050568f1c7erow5_col2 {\n",
       "            background-color:  #e7879b;\n",
       "            max-width:  80px;\n",
       "            font-size:  10pt;\n",
       "        }    #T_9d5aa8e0_3a9f_11e9_bf49_0050568f1c7erow5_col3 {\n",
       "            background-color:  #d73c5b;\n",
       "            max-width:  80px;\n",
       "            font-size:  10pt;\n",
       "        }    #T_9d5aa8e0_3a9f_11e9_bf49_0050568f1c7erow5_col4 {\n",
       "            background-color:  #e3788d;\n",
       "            max-width:  80px;\n",
       "            font-size:  10pt;\n",
       "        }    #T_9d5aa8e0_3a9f_11e9_bf49_0050568f1c7erow5_col5 {\n",
       "            background-color:  #4479bb;\n",
       "            max-width:  80px;\n",
       "            font-size:  10pt;\n",
       "        }    #T_9d5aa8e0_3a9f_11e9_bf49_0050568f1c7erow5_col6 {\n",
       "            background-color:  #a0bbdc;\n",
       "            max-width:  80px;\n",
       "            font-size:  10pt;\n",
       "        }    #T_9d5aa8e0_3a9f_11e9_bf49_0050568f1c7erow5_col7 {\n",
       "            background-color:  #ea9aaa;\n",
       "            max-width:  80px;\n",
       "            font-size:  10pt;\n",
       "        }    #T_9d5aa8e0_3a9f_11e9_bf49_0050568f1c7erow5_col8 {\n",
       "            background-color:  #e68699;\n",
       "            max-width:  80px;\n",
       "            font-size:  10pt;\n",
       "        }    #T_9d5aa8e0_3a9f_11e9_bf49_0050568f1c7erow5_col9 {\n",
       "            background-color:  #e3748a;\n",
       "            max-width:  80px;\n",
       "            font-size:  10pt;\n",
       "        }    #T_9d5aa8e0_3a9f_11e9_bf49_0050568f1c7erow6_col0 {\n",
       "            background-color:  #e3788d;\n",
       "            max-width:  80px;\n",
       "            font-size:  10pt;\n",
       "        }    #T_9d5aa8e0_3a9f_11e9_bf49_0050568f1c7erow6_col1 {\n",
       "            background-color:  #d94462;\n",
       "            max-width:  80px;\n",
       "            font-size:  10pt;\n",
       "        }    #T_9d5aa8e0_3a9f_11e9_bf49_0050568f1c7erow6_col2 {\n",
       "            background-color:  #eda7b5;\n",
       "            max-width:  80px;\n",
       "            font-size:  10pt;\n",
       "        }    #T_9d5aa8e0_3a9f_11e9_bf49_0050568f1c7erow6_col3 {\n",
       "            background-color:  #d73c5b;\n",
       "            max-width:  80px;\n",
       "            font-size:  10pt;\n",
       "        }    #T_9d5aa8e0_3a9f_11e9_bf49_0050568f1c7erow6_col4 {\n",
       "            background-color:  #e3768c;\n",
       "            max-width:  80px;\n",
       "            font-size:  10pt;\n",
       "        }    #T_9d5aa8e0_3a9f_11e9_bf49_0050568f1c7erow6_col5 {\n",
       "            background-color:  #a2bcdd;\n",
       "            max-width:  80px;\n",
       "            font-size:  10pt;\n",
       "        }    #T_9d5aa8e0_3a9f_11e9_bf49_0050568f1c7erow6_col6 {\n",
       "            background-color:  #4479bb;\n",
       "            max-width:  80px;\n",
       "            font-size:  10pt;\n",
       "        }    #T_9d5aa8e0_3a9f_11e9_bf49_0050568f1c7erow6_col7 {\n",
       "            background-color:  #e78c9e;\n",
       "            max-width:  80px;\n",
       "            font-size:  10pt;\n",
       "        }    #T_9d5aa8e0_3a9f_11e9_bf49_0050568f1c7erow6_col8 {\n",
       "            background-color:  #e7879b;\n",
       "            max-width:  80px;\n",
       "            font-size:  10pt;\n",
       "        }    #T_9d5aa8e0_3a9f_11e9_bf49_0050568f1c7erow6_col9 {\n",
       "            background-color:  #e27087;\n",
       "            max-width:  80px;\n",
       "            font-size:  10pt;\n",
       "        }    #T_9d5aa8e0_3a9f_11e9_bf49_0050568f1c7erow7_col0 {\n",
       "            background-color:  #d8415f;\n",
       "            max-width:  80px;\n",
       "            font-size:  10pt;\n",
       "        }    #T_9d5aa8e0_3a9f_11e9_bf49_0050568f1c7erow7_col1 {\n",
       "            background-color:  #e27389;\n",
       "            max-width:  80px;\n",
       "            font-size:  10pt;\n",
       "        }    #T_9d5aa8e0_3a9f_11e9_bf49_0050568f1c7erow7_col2 {\n",
       "            background-color:  #df627b;\n",
       "            max-width:  80px;\n",
       "            font-size:  10pt;\n",
       "        }    #T_9d5aa8e0_3a9f_11e9_bf49_0050568f1c7erow7_col3 {\n",
       "            background-color:  #d73c5b;\n",
       "            max-width:  80px;\n",
       "            font-size:  10pt;\n",
       "        }    #T_9d5aa8e0_3a9f_11e9_bf49_0050568f1c7erow7_col4 {\n",
       "            background-color:  #d94462;\n",
       "            max-width:  80px;\n",
       "            font-size:  10pt;\n",
       "        }    #T_9d5aa8e0_3a9f_11e9_bf49_0050568f1c7erow7_col5 {\n",
       "            background-color:  #e0657d;\n",
       "            max-width:  80px;\n",
       "            font-size:  10pt;\n",
       "        }    #T_9d5aa8e0_3a9f_11e9_bf49_0050568f1c7erow7_col6 {\n",
       "            background-color:  #dd5a74;\n",
       "            max-width:  80px;\n",
       "            font-size:  10pt;\n",
       "        }    #T_9d5aa8e0_3a9f_11e9_bf49_0050568f1c7erow7_col7 {\n",
       "            background-color:  #4479bb;\n",
       "            max-width:  80px;\n",
       "            font-size:  10pt;\n",
       "        }    #T_9d5aa8e0_3a9f_11e9_bf49_0050568f1c7erow7_col8 {\n",
       "            background-color:  #ec9faf;\n",
       "            max-width:  80px;\n",
       "            font-size:  10pt;\n",
       "        }    #T_9d5aa8e0_3a9f_11e9_bf49_0050568f1c7erow7_col9 {\n",
       "            background-color:  #da4865;\n",
       "            max-width:  80px;\n",
       "            font-size:  10pt;\n",
       "        }    #T_9d5aa8e0_3a9f_11e9_bf49_0050568f1c7erow8_col0 {\n",
       "            background-color:  #e68396;\n",
       "            max-width:  80px;\n",
       "            font-size:  10pt;\n",
       "        }    #T_9d5aa8e0_3a9f_11e9_bf49_0050568f1c7erow8_col1 {\n",
       "            background-color:  #a4bede;\n",
       "            max-width:  80px;\n",
       "            font-size:  10pt;\n",
       "        }    #T_9d5aa8e0_3a9f_11e9_bf49_0050568f1c7erow8_col2 {\n",
       "            background-color:  #f2f2f2;\n",
       "            max-width:  80px;\n",
       "            font-size:  10pt;\n",
       "        }    #T_9d5aa8e0_3a9f_11e9_bf49_0050568f1c7erow8_col3 {\n",
       "            background-color:  #d73c5b;\n",
       "            max-width:  80px;\n",
       "            font-size:  10pt;\n",
       "        }    #T_9d5aa8e0_3a9f_11e9_bf49_0050568f1c7erow8_col4 {\n",
       "            background-color:  #e78a9d;\n",
       "            max-width:  80px;\n",
       "            font-size:  10pt;\n",
       "        }    #T_9d5aa8e0_3a9f_11e9_bf49_0050568f1c7erow8_col5 {\n",
       "            background-color:  #e78c9e;\n",
       "            max-width:  80px;\n",
       "            font-size:  10pt;\n",
       "        }    #T_9d5aa8e0_3a9f_11e9_bf49_0050568f1c7erow8_col6 {\n",
       "            background-color:  #e991a3;\n",
       "            max-width:  80px;\n",
       "            font-size:  10pt;\n",
       "        }    #T_9d5aa8e0_3a9f_11e9_bf49_0050568f1c7erow8_col7 {\n",
       "            background-color:  #f6d1d8;\n",
       "            max-width:  80px;\n",
       "            font-size:  10pt;\n",
       "        }    #T_9d5aa8e0_3a9f_11e9_bf49_0050568f1c7erow8_col8 {\n",
       "            background-color:  #4479bb;\n",
       "            max-width:  80px;\n",
       "            font-size:  10pt;\n",
       "        }    #T_9d5aa8e0_3a9f_11e9_bf49_0050568f1c7erow8_col9 {\n",
       "            background-color:  #ea97a8;\n",
       "            max-width:  80px;\n",
       "            font-size:  10pt;\n",
       "        }    #T_9d5aa8e0_3a9f_11e9_bf49_0050568f1c7erow9_col0 {\n",
       "            background-color:  #da4b68;\n",
       "            max-width:  80px;\n",
       "            font-size:  10pt;\n",
       "        }    #T_9d5aa8e0_3a9f_11e9_bf49_0050568f1c7erow9_col1 {\n",
       "            background-color:  #e06880;\n",
       "            max-width:  80px;\n",
       "            font-size:  10pt;\n",
       "        }    #T_9d5aa8e0_3a9f_11e9_bf49_0050568f1c7erow9_col2 {\n",
       "            background-color:  #dc5570;\n",
       "            max-width:  80px;\n",
       "            font-size:  10pt;\n",
       "        }    #T_9d5aa8e0_3a9f_11e9_bf49_0050568f1c7erow9_col3 {\n",
       "            background-color:  #d73c5b;\n",
       "            max-width:  80px;\n",
       "            font-size:  10pt;\n",
       "        }    #T_9d5aa8e0_3a9f_11e9_bf49_0050568f1c7erow9_col4 {\n",
       "            background-color:  #db4e6a;\n",
       "            max-width:  80px;\n",
       "            font-size:  10pt;\n",
       "        }    #T_9d5aa8e0_3a9f_11e9_bf49_0050568f1c7erow9_col5 {\n",
       "            background-color:  #d94462;\n",
       "            max-width:  80px;\n",
       "            font-size:  10pt;\n",
       "        }    #T_9d5aa8e0_3a9f_11e9_bf49_0050568f1c7erow9_col6 {\n",
       "            background-color:  #d94563;\n",
       "            max-width:  80px;\n",
       "            font-size:  10pt;\n",
       "        }    #T_9d5aa8e0_3a9f_11e9_bf49_0050568f1c7erow9_col7 {\n",
       "            background-color:  #dc526e;\n",
       "            max-width:  80px;\n",
       "            font-size:  10pt;\n",
       "        }    #T_9d5aa8e0_3a9f_11e9_bf49_0050568f1c7erow9_col8 {\n",
       "            background-color:  #e0657d;\n",
       "            max-width:  80px;\n",
       "            font-size:  10pt;\n",
       "        }    #T_9d5aa8e0_3a9f_11e9_bf49_0050568f1c7erow9_col9 {\n",
       "            background-color:  #4479bb;\n",
       "            max-width:  80px;\n",
       "            font-size:  10pt;\n",
       "        }</style>  \n",
       "<table id=\"T_9d5aa8e0_3a9f_11e9_bf49_0050568f1c7e\" > \n",
       "<thead>    <tr> \n",
       "        <th class=\"blank level0\" ></th> \n",
       "        <th class=\"col_heading level0 col0\" >id</th> \n",
       "        <th class=\"col_heading level0 col1\" >gps_height</th> \n",
       "        <th class=\"col_heading level0 col2\" >longitude</th> \n",
       "        <th class=\"col_heading level0 col3\" >latitude</th> \n",
       "        <th class=\"col_heading level0 col4\" >num_private</th> \n",
       "        <th class=\"col_heading level0 col5\" >region_code</th> \n",
       "        <th class=\"col_heading level0 col6\" >district_code</th> \n",
       "        <th class=\"col_heading level0 col7\" >population</th> \n",
       "        <th class=\"col_heading level0 col8\" >construction_year</th> \n",
       "        <th class=\"col_heading level0 col9\" >amount_tsh</th> \n",
       "    </tr></thead> \n",
       "<tbody>    <tr> \n",
       "        <th id=\"T_9d5aa8e0_3a9f_11e9_bf49_0050568f1c7elevel0_row0\" class=\"row_heading level0 row0\" >id</th> \n",
       "        <td id=\"T_9d5aa8e0_3a9f_11e9_bf49_0050568f1c7erow0_col0\" class=\"data row0 col0\" >1</td> \n",
       "        <td id=\"T_9d5aa8e0_3a9f_11e9_bf49_0050568f1c7erow0_col1\" class=\"data row0 col1\" >-0.0047</td> \n",
       "        <td id=\"T_9d5aa8e0_3a9f_11e9_bf49_0050568f1c7erow0_col2\" class=\"data row0 col2\" >-0.0012</td> \n",
       "        <td id=\"T_9d5aa8e0_3a9f_11e9_bf49_0050568f1c7erow0_col3\" class=\"data row0 col3\" >0.0016</td> \n",
       "        <td id=\"T_9d5aa8e0_3a9f_11e9_bf49_0050568f1c7erow0_col4\" class=\"data row0 col4\" >-0.0026</td> \n",
       "        <td id=\"T_9d5aa8e0_3a9f_11e9_bf49_0050568f1c7erow0_col5\" class=\"data row0 col5\" >-0.003</td> \n",
       "        <td id=\"T_9d5aa8e0_3a9f_11e9_bf49_0050568f1c7erow0_col6\" class=\"data row0 col6\" >-0.003</td> \n",
       "        <td id=\"T_9d5aa8e0_3a9f_11e9_bf49_0050568f1c7erow0_col7\" class=\"data row0 col7\" >-0.0028</td> \n",
       "        <td id=\"T_9d5aa8e0_3a9f_11e9_bf49_0050568f1c7erow0_col8\" class=\"data row0 col8\" >-0.002</td> \n",
       "        <td id=\"T_9d5aa8e0_3a9f_11e9_bf49_0050568f1c7erow0_col9\" class=\"data row0 col9\" >-0.0053</td> \n",
       "    </tr>    <tr> \n",
       "        <th id=\"T_9d5aa8e0_3a9f_11e9_bf49_0050568f1c7elevel0_row1\" class=\"row_heading level0 row1\" >gps_height</th> \n",
       "        <td id=\"T_9d5aa8e0_3a9f_11e9_bf49_0050568f1c7erow1_col0\" class=\"data row1 col0\" >-0.0047</td> \n",
       "        <td id=\"T_9d5aa8e0_3a9f_11e9_bf49_0050568f1c7erow1_col1\" class=\"data row1 col1\" >1</td> \n",
       "        <td id=\"T_9d5aa8e0_3a9f_11e9_bf49_0050568f1c7erow1_col2\" class=\"data row1 col2\" >0.15</td> \n",
       "        <td id=\"T_9d5aa8e0_3a9f_11e9_bf49_0050568f1c7erow1_col3\" class=\"data row1 col3\" >-0.036</td> \n",
       "        <td id=\"T_9d5aa8e0_3a9f_11e9_bf49_0050568f1c7erow1_col4\" class=\"data row1 col4\" >0.0072</td> \n",
       "        <td id=\"T_9d5aa8e0_3a9f_11e9_bf49_0050568f1c7erow1_col5\" class=\"data row1 col5\" >-0.18</td> \n",
       "        <td id=\"T_9d5aa8e0_3a9f_11e9_bf49_0050568f1c7erow1_col6\" class=\"data row1 col6\" >-0.17</td> \n",
       "        <td id=\"T_9d5aa8e0_3a9f_11e9_bf49_0050568f1c7erow1_col7\" class=\"data row1 col7\" >0.14</td> \n",
       "        <td id=\"T_9d5aa8e0_3a9f_11e9_bf49_0050568f1c7erow1_col8\" class=\"data row1 col8\" >0.66</td> \n",
       "        <td id=\"T_9d5aa8e0_3a9f_11e9_bf49_0050568f1c7erow1_col9\" class=\"data row1 col9\" >0.077</td> \n",
       "    </tr>    <tr> \n",
       "        <th id=\"T_9d5aa8e0_3a9f_11e9_bf49_0050568f1c7elevel0_row2\" class=\"row_heading level0 row2\" >longitude</th> \n",
       "        <td id=\"T_9d5aa8e0_3a9f_11e9_bf49_0050568f1c7erow2_col0\" class=\"data row2 col0\" >-0.0012</td> \n",
       "        <td id=\"T_9d5aa8e0_3a9f_11e9_bf49_0050568f1c7erow2_col1\" class=\"data row2 col1\" >0.15</td> \n",
       "        <td id=\"T_9d5aa8e0_3a9f_11e9_bf49_0050568f1c7erow2_col2\" class=\"data row2 col2\" >1</td> \n",
       "        <td id=\"T_9d5aa8e0_3a9f_11e9_bf49_0050568f1c7erow2_col3\" class=\"data row2 col3\" >-0.43</td> \n",
       "        <td id=\"T_9d5aa8e0_3a9f_11e9_bf49_0050568f1c7erow2_col4\" class=\"data row2 col4\" >0.024</td> \n",
       "        <td id=\"T_9d5aa8e0_3a9f_11e9_bf49_0050568f1c7erow2_col5\" class=\"data row2 col5\" >0.034</td> \n",
       "        <td id=\"T_9d5aa8e0_3a9f_11e9_bf49_0050568f1c7erow2_col6\" class=\"data row2 col6\" >0.15</td> \n",
       "        <td id=\"T_9d5aa8e0_3a9f_11e9_bf49_0050568f1c7erow2_col7\" class=\"data row2 col7\" >0.087</td> \n",
       "        <td id=\"T_9d5aa8e0_3a9f_11e9_bf49_0050568f1c7erow2_col8\" class=\"data row2 col8\" >0.4</td> \n",
       "        <td id=\"T_9d5aa8e0_3a9f_11e9_bf49_0050568f1c7erow2_col9\" class=\"data row2 col9\" >0.022</td> \n",
       "    </tr>    <tr> \n",
       "        <th id=\"T_9d5aa8e0_3a9f_11e9_bf49_0050568f1c7elevel0_row3\" class=\"row_heading level0 row3\" >latitude</th> \n",
       "        <td id=\"T_9d5aa8e0_3a9f_11e9_bf49_0050568f1c7erow3_col0\" class=\"data row3 col0\" >0.0016</td> \n",
       "        <td id=\"T_9d5aa8e0_3a9f_11e9_bf49_0050568f1c7erow3_col1\" class=\"data row3 col1\" >-0.036</td> \n",
       "        <td id=\"T_9d5aa8e0_3a9f_11e9_bf49_0050568f1c7erow3_col2\" class=\"data row3 col2\" >-0.43</td> \n",
       "        <td id=\"T_9d5aa8e0_3a9f_11e9_bf49_0050568f1c7erow3_col3\" class=\"data row3 col3\" >1</td> \n",
       "        <td id=\"T_9d5aa8e0_3a9f_11e9_bf49_0050568f1c7erow3_col4\" class=\"data row3 col4\" >0.0068</td> \n",
       "        <td id=\"T_9d5aa8e0_3a9f_11e9_bf49_0050568f1c7erow3_col5\" class=\"data row3 col5\" >-0.22</td> \n",
       "        <td id=\"T_9d5aa8e0_3a9f_11e9_bf49_0050568f1c7erow3_col6\" class=\"data row3 col6\" >-0.2</td> \n",
       "        <td id=\"T_9d5aa8e0_3a9f_11e9_bf49_0050568f1c7erow3_col7\" class=\"data row3 col7\" >-0.022</td> \n",
       "        <td id=\"T_9d5aa8e0_3a9f_11e9_bf49_0050568f1c7erow3_col8\" class=\"data row3 col8\" >-0.25</td> \n",
       "        <td id=\"T_9d5aa8e0_3a9f_11e9_bf49_0050568f1c7erow3_col9\" class=\"data row3 col9\" >-0.053</td> \n",
       "    </tr>    <tr> \n",
       "        <th id=\"T_9d5aa8e0_3a9f_11e9_bf49_0050568f1c7elevel0_row4\" class=\"row_heading level0 row4\" >num_private</th> \n",
       "        <td id=\"T_9d5aa8e0_3a9f_11e9_bf49_0050568f1c7erow4_col0\" class=\"data row4 col0\" >-0.0026</td> \n",
       "        <td id=\"T_9d5aa8e0_3a9f_11e9_bf49_0050568f1c7erow4_col1\" class=\"data row4 col1\" >0.0072</td> \n",
       "        <td id=\"T_9d5aa8e0_3a9f_11e9_bf49_0050568f1c7erow4_col2\" class=\"data row4 col2\" >0.024</td> \n",
       "        <td id=\"T_9d5aa8e0_3a9f_11e9_bf49_0050568f1c7erow4_col3\" class=\"data row4 col3\" >0.0068</td> \n",
       "        <td id=\"T_9d5aa8e0_3a9f_11e9_bf49_0050568f1c7erow4_col4\" class=\"data row4 col4\" >1</td> \n",
       "        <td id=\"T_9d5aa8e0_3a9f_11e9_bf49_0050568f1c7erow4_col5\" class=\"data row4 col5\" >-0.02</td> \n",
       "        <td id=\"T_9d5aa8e0_3a9f_11e9_bf49_0050568f1c7erow4_col6\" class=\"data row4 col6\" >-0.0045</td> \n",
       "        <td id=\"T_9d5aa8e0_3a9f_11e9_bf49_0050568f1c7erow4_col7\" class=\"data row4 col7\" >0.0038</td> \n",
       "        <td id=\"T_9d5aa8e0_3a9f_11e9_bf49_0050568f1c7erow4_col8\" class=\"data row4 col8\" >0.026</td> \n",
       "        <td id=\"T_9d5aa8e0_3a9f_11e9_bf49_0050568f1c7erow4_col9\" class=\"data row4 col9\" >0.0029</td> \n",
       "    </tr>    <tr> \n",
       "        <th id=\"T_9d5aa8e0_3a9f_11e9_bf49_0050568f1c7elevel0_row5\" class=\"row_heading level0 row5\" >region_code</th> \n",
       "        <td id=\"T_9d5aa8e0_3a9f_11e9_bf49_0050568f1c7erow5_col0\" class=\"data row5 col0\" >-0.003</td> \n",
       "        <td id=\"T_9d5aa8e0_3a9f_11e9_bf49_0050568f1c7erow5_col1\" class=\"data row5 col1\" >-0.18</td> \n",
       "        <td id=\"T_9d5aa8e0_3a9f_11e9_bf49_0050568f1c7erow5_col2\" class=\"data row5 col2\" >0.034</td> \n",
       "        <td id=\"T_9d5aa8e0_3a9f_11e9_bf49_0050568f1c7erow5_col3\" class=\"data row5 col3\" >-0.22</td> \n",
       "        <td id=\"T_9d5aa8e0_3a9f_11e9_bf49_0050568f1c7erow5_col4\" class=\"data row5 col4\" >-0.02</td> \n",
       "        <td id=\"T_9d5aa8e0_3a9f_11e9_bf49_0050568f1c7erow5_col5\" class=\"data row5 col5\" >1</td> \n",
       "        <td id=\"T_9d5aa8e0_3a9f_11e9_bf49_0050568f1c7erow5_col6\" class=\"data row5 col6\" >0.68</td> \n",
       "        <td id=\"T_9d5aa8e0_3a9f_11e9_bf49_0050568f1c7erow5_col7\" class=\"data row5 col7\" >0.094</td> \n",
       "        <td id=\"T_9d5aa8e0_3a9f_11e9_bf49_0050568f1c7erow5_col8\" class=\"data row5 col8\" >0.032</td> \n",
       "        <td id=\"T_9d5aa8e0_3a9f_11e9_bf49_0050568f1c7erow5_col9\" class=\"data row5 col9\" >-0.027</td> \n",
       "    </tr>    <tr> \n",
       "        <th id=\"T_9d5aa8e0_3a9f_11e9_bf49_0050568f1c7elevel0_row6\" class=\"row_heading level0 row6\" >district_code</th> \n",
       "        <td id=\"T_9d5aa8e0_3a9f_11e9_bf49_0050568f1c7erow6_col0\" class=\"data row6 col0\" >-0.003</td> \n",
       "        <td id=\"T_9d5aa8e0_3a9f_11e9_bf49_0050568f1c7erow6_col1\" class=\"data row6 col1\" >-0.17</td> \n",
       "        <td id=\"T_9d5aa8e0_3a9f_11e9_bf49_0050568f1c7erow6_col2\" class=\"data row6 col2\" >0.15</td> \n",
       "        <td id=\"T_9d5aa8e0_3a9f_11e9_bf49_0050568f1c7erow6_col3\" class=\"data row6 col3\" >-0.2</td> \n",
       "        <td id=\"T_9d5aa8e0_3a9f_11e9_bf49_0050568f1c7erow6_col4\" class=\"data row6 col4\" >-0.0045</td> \n",
       "        <td id=\"T_9d5aa8e0_3a9f_11e9_bf49_0050568f1c7erow6_col5\" class=\"data row6 col5\" >0.68</td> \n",
       "        <td id=\"T_9d5aa8e0_3a9f_11e9_bf49_0050568f1c7erow6_col6\" class=\"data row6 col6\" >1</td> \n",
       "        <td id=\"T_9d5aa8e0_3a9f_11e9_bf49_0050568f1c7erow6_col7\" class=\"data row6 col7\" >0.062</td> \n",
       "        <td id=\"T_9d5aa8e0_3a9f_11e9_bf49_0050568f1c7erow6_col8\" class=\"data row6 col8\" >0.048</td> \n",
       "        <td id=\"T_9d5aa8e0_3a9f_11e9_bf49_0050568f1c7erow6_col9\" class=\"data row6 col9\" >-0.024</td> \n",
       "    </tr>    <tr> \n",
       "        <th id=\"T_9d5aa8e0_3a9f_11e9_bf49_0050568f1c7elevel0_row7\" class=\"row_heading level0 row7\" >population</th> \n",
       "        <td id=\"T_9d5aa8e0_3a9f_11e9_bf49_0050568f1c7erow7_col0\" class=\"data row7 col0\" >-0.0028</td> \n",
       "        <td id=\"T_9d5aa8e0_3a9f_11e9_bf49_0050568f1c7erow7_col1\" class=\"data row7 col1\" >0.14</td> \n",
       "        <td id=\"T_9d5aa8e0_3a9f_11e9_bf49_0050568f1c7erow7_col2\" class=\"data row7 col2\" >0.087</td> \n",
       "        <td id=\"T_9d5aa8e0_3a9f_11e9_bf49_0050568f1c7erow7_col3\" class=\"data row7 col3\" >-0.022</td> \n",
       "        <td id=\"T_9d5aa8e0_3a9f_11e9_bf49_0050568f1c7erow7_col4\" class=\"data row7 col4\" >0.0038</td> \n",
       "        <td id=\"T_9d5aa8e0_3a9f_11e9_bf49_0050568f1c7erow7_col5\" class=\"data row7 col5\" >0.094</td> \n",
       "        <td id=\"T_9d5aa8e0_3a9f_11e9_bf49_0050568f1c7erow7_col6\" class=\"data row7 col6\" >0.062</td> \n",
       "        <td id=\"T_9d5aa8e0_3a9f_11e9_bf49_0050568f1c7erow7_col7\" class=\"data row7 col7\" >1</td> \n",
       "        <td id=\"T_9d5aa8e0_3a9f_11e9_bf49_0050568f1c7erow7_col8\" class=\"data row7 col8\" >0.26</td> \n",
       "        <td id=\"T_9d5aa8e0_3a9f_11e9_bf49_0050568f1c7erow7_col9\" class=\"data row7 col9\" >0.016</td> \n",
       "    </tr>    <tr> \n",
       "        <th id=\"T_9d5aa8e0_3a9f_11e9_bf49_0050568f1c7elevel0_row8\" class=\"row_heading level0 row8\" >construction_year</th> \n",
       "        <td id=\"T_9d5aa8e0_3a9f_11e9_bf49_0050568f1c7erow8_col0\" class=\"data row8 col0\" >-0.002</td> \n",
       "        <td id=\"T_9d5aa8e0_3a9f_11e9_bf49_0050568f1c7erow8_col1\" class=\"data row8 col1\" >0.66</td> \n",
       "        <td id=\"T_9d5aa8e0_3a9f_11e9_bf49_0050568f1c7erow8_col2\" class=\"data row8 col2\" >0.4</td> \n",
       "        <td id=\"T_9d5aa8e0_3a9f_11e9_bf49_0050568f1c7erow8_col3\" class=\"data row8 col3\" >-0.25</td> \n",
       "        <td id=\"T_9d5aa8e0_3a9f_11e9_bf49_0050568f1c7erow8_col4\" class=\"data row8 col4\" >0.026</td> \n",
       "        <td id=\"T_9d5aa8e0_3a9f_11e9_bf49_0050568f1c7erow8_col5\" class=\"data row8 col5\" >0.032</td> \n",
       "        <td id=\"T_9d5aa8e0_3a9f_11e9_bf49_0050568f1c7erow8_col6\" class=\"data row8 col6\" >0.048</td> \n",
       "        <td id=\"T_9d5aa8e0_3a9f_11e9_bf49_0050568f1c7erow8_col7\" class=\"data row8 col7\" >0.26</td> \n",
       "        <td id=\"T_9d5aa8e0_3a9f_11e9_bf49_0050568f1c7erow8_col8\" class=\"data row8 col8\" >1</td> \n",
       "        <td id=\"T_9d5aa8e0_3a9f_11e9_bf49_0050568f1c7erow8_col9\" class=\"data row8 col9\" >0.068</td> \n",
       "    </tr>    <tr> \n",
       "        <th id=\"T_9d5aa8e0_3a9f_11e9_bf49_0050568f1c7elevel0_row9\" class=\"row_heading level0 row9\" >amount_tsh</th> \n",
       "        <td id=\"T_9d5aa8e0_3a9f_11e9_bf49_0050568f1c7erow9_col0\" class=\"data row9 col0\" >-0.0053</td> \n",
       "        <td id=\"T_9d5aa8e0_3a9f_11e9_bf49_0050568f1c7erow9_col1\" class=\"data row9 col1\" >0.077</td> \n",
       "        <td id=\"T_9d5aa8e0_3a9f_11e9_bf49_0050568f1c7erow9_col2\" class=\"data row9 col2\" >0.022</td> \n",
       "        <td id=\"T_9d5aa8e0_3a9f_11e9_bf49_0050568f1c7erow9_col3\" class=\"data row9 col3\" >-0.053</td> \n",
       "        <td id=\"T_9d5aa8e0_3a9f_11e9_bf49_0050568f1c7erow9_col4\" class=\"data row9 col4\" >0.0029</td> \n",
       "        <td id=\"T_9d5aa8e0_3a9f_11e9_bf49_0050568f1c7erow9_col5\" class=\"data row9 col5\" >-0.027</td> \n",
       "        <td id=\"T_9d5aa8e0_3a9f_11e9_bf49_0050568f1c7erow9_col6\" class=\"data row9 col6\" >-0.024</td> \n",
       "        <td id=\"T_9d5aa8e0_3a9f_11e9_bf49_0050568f1c7erow9_col7\" class=\"data row9 col7\" >0.016</td> \n",
       "        <td id=\"T_9d5aa8e0_3a9f_11e9_bf49_0050568f1c7erow9_col8\" class=\"data row9 col8\" >0.068</td> \n",
       "        <td id=\"T_9d5aa8e0_3a9f_11e9_bf49_0050568f1c7erow9_col9\" class=\"data row9 col9\" >1</td> \n",
       "    </tr></tbody> \n",
       "</table> "
      ],
      "text/plain": [
       "<pandas.io.formats.style.Styler at 0x7ff484d3d588>"
      ]
     },
     "execution_count": 51,
     "metadata": {},
     "output_type": "execute_result"
    }
   ],
   "source": [
    "#Correlation\n",
    "correlation = data.corr()\n",
    "corr_map = sns.diverging_palette(5, 250, as_cmap=True)\n",
    "\n",
    "correlation.style.background_gradient(corr_map, axis=1)\\\n",
    "    .set_properties(**{'max-width': '80px', 'font-size': '10pt'})\\\n",
    "    .set_precision(2)"
   ]
  },
  {
   "cell_type": "markdown",
   "metadata": {},
   "source": [
    "#### Comment on correlations\n",
    "- Most numeric features are not correlated.\n",
    "\n",
    "- __'district_code'__ and __'region_code'__ have a __high positive correlation (0.68)__\n",
    "- __'Construction_year'__ and __'gps_height'__ have a relatively __high positive correlation (0.66)__\n",
    "\n",
    "- __'Longitude'__ and __'latitude'__ have a __medium positive correlation (-0.43)__"
   ]
  },
  {
   "cell_type": "markdown",
   "metadata": {},
   "source": [
    "#### Possible solutions to correlated variables\n",
    "- Correlated variables/Multicolinearity could be dealth with using the following methods;\n",
    "\n",
    "    - __Removal of highly correlated predictors from the model:__\n",
    "        Remove one of the predictors for example (gps_height and latitude)\n",
    "    \n",
    "    - __Principal Components Analysis__ could be used to cut the number of predictors to a smaller set of uncorrelated components\n",
    "    \n",
    "#### Solution\n",
    "- In 'Feature Selection' 'region_code' will be removed as it is analagous/the coded version of 'region'\n",
    "- If time permits the final model will be fit with\n",
    "    - Both latitude and longitude included\n",
    "    - Latitude only, longitude only\n",
    "    - With PCA applied (combing latitude and longitude to one variable)"
   ]
  },
  {
   "cell_type": "markdown",
   "metadata": {},
   "source": [
    "<a id='data_prep'></a>\n",
    "# Section 3: Data Preparation "
   ]
  },
  {
   "cell_type": "markdown",
   "metadata": {},
   "source": [
    "#### 3.1.1 Data Construction - Boolean variables"
   ]
  },
  {
   "cell_type": "code",
   "execution_count": 52,
   "metadata": {
    "collapsed": true
   },
   "outputs": [],
   "source": [
    "def format_boolean_cols(data, col):\n",
    "    'Format boolean values'\n",
    "    \n",
    "    #1. Replace null values\n",
    "    print(data[col].value_counts())\n",
    "    data[col].replace('null', data[col].mode().values[0], inplace=True)\n",
    "    print(data[col].value_counts())\n",
    "    \n",
    "    #Replace True,False with 1,0\n",
    "    data[col].replace(True, 1, inplace=True)\n",
    "    data[col].replace(False, 0, inplace=True)\n",
    "    print('*****')\n",
    "    print('Final value counts:')\n",
    "    print(data[col].value_counts())\n",
    "    \n",
    "    return data"
   ]
  },
  {
   "cell_type": "code",
   "execution_count": 53,
   "metadata": {},
   "outputs": [
    {
     "name": "stdout",
     "output_type": "stream",
     "text": [
      "True     51009\n",
      "False     5054\n",
      "null      3335\n",
      "Name: public_meeting, dtype: int64\n",
      "True     54344\n",
      "False     5054\n",
      "Name: public_meeting, dtype: int64\n",
      "*****\n",
      "Final value counts:\n",
      "1.0    54344\n",
      "0.0     5054\n",
      "Name: public_meeting, dtype: int64\n"
     ]
    }
   ],
   "source": [
    "#Boolean 1: public_meeting\n",
    "col = 'public_meeting'\n",
    "data = format_boolean_cols(data, col)"
   ]
  },
  {
   "cell_type": "code",
   "execution_count": 54,
   "metadata": {},
   "outputs": [
    {
     "name": "stdout",
     "output_type": "stream",
     "text": [
      "True     38851\n",
      "False    17491\n",
      "null      3056\n",
      "Name: permit, dtype: int64\n",
      "True     41907\n",
      "False    17491\n",
      "Name: permit, dtype: int64\n",
      "*****\n",
      "Final value counts:\n",
      "1.0    41907\n",
      "0.0    17491\n",
      "Name: permit, dtype: int64\n"
     ]
    }
   ],
   "source": [
    "#Boolean 1: public_meeting\n",
    "col = 'permit'\n",
    "data = format_boolean_cols(data, col)"
   ]
  },
  {
   "cell_type": "markdown",
   "metadata": {},
   "source": [
    "<a id='construct_categorical'></a>\n",
    "#### 3.1.2 Data Construction - Categorical Variables"
   ]
  },
  {
   "cell_type": "code",
   "execution_count": 55,
   "metadata": {
    "collapsed": true
   },
   "outputs": [],
   "source": [
    "def list_cat_cols(df):\n",
    "    '''Get list of categorical columns\n",
    "    '''\n",
    "    list_cols = []\n",
    "    for idx, col in enumerate(df.select_dtypes(include=[np.object]).keys()):\n",
    "            list_cols.append(col)\n",
    "    \n",
    "    return list_cols"
   ]
  },
  {
   "cell_type": "code",
   "execution_count": null,
   "metadata": {},
   "outputs": [],
   "source": [
    "#List_cols\n",
    "list_cat_cols = list_cat_cols(data) #data_day1\n",
    "list_cat_cols"
   ]
  },
  {
   "cell_type": "code",
   "execution_count": 57,
   "metadata": {
    "collapsed": true
   },
   "outputs": [],
   "source": [
    "def infer_category_type(data, list_cat_cols):\n",
    "    '''\n",
    "    Convert categorical variables from type object to category\n",
    "    Parameters\n",
    "    data:\n",
    "    \n",
    "    Returns\n",
    "    data: With categorical columns as type category\n",
    "    '''\n",
    "    \n",
    "    for column_name in list_cat_cols:\n",
    "        data[column_name] = data[column_name].astype('category')\n",
    "        \n",
    "    return data"
   ]
  },
  {
   "cell_type": "code",
   "execution_count": 58,
   "metadata": {
    "collapsed": true
   },
   "outputs": [],
   "source": [
    "#Apply\n",
    "data = infer_category_type(data, list_cat_cols)"
   ]
  },
  {
   "cell_type": "code",
   "execution_count": 59,
   "metadata": {},
   "outputs": [
    {
     "data": {
      "text/plain": [
       "status_group             category\n",
       "id                        float64\n",
       "date_recorded            category\n",
       "funder                   category\n",
       "gps_height                float64\n",
       "installer                category\n",
       "longitude                 float64\n",
       "latitude                  float64\n",
       "wpt_name                 category\n",
       "num_private                 int64\n",
       "basin                    category\n",
       "subvillage               category\n",
       "region                   category\n",
       "region_code                 int64\n",
       "district_code               int64\n",
       "lga                      category\n",
       "ward                     category\n",
       "population                  int64\n",
       "public_meeting            float64\n",
       "recorded_by              category\n",
       "scheme_management        category\n",
       "scheme_name              category\n",
       "permit                    float64\n",
       "construction_year           int64\n",
       "extraction_type          category\n",
       "extraction_type_group    category\n",
       "extraction_type_class    category\n",
       "management               category\n",
       "management_group         category\n",
       "payment                  category\n",
       "payment_type             category\n",
       "water_quality            category\n",
       "quality_group            category\n",
       "quantity                 category\n",
       "quantity_group           category\n",
       "source                   category\n",
       "source_type              category\n",
       "source_class             category\n",
       "waterpoint_type          category\n",
       "waterpoint_type_group    category\n",
       "amount_tsh                float64\n",
       "dtype: object"
      ]
     },
     "execution_count": 59,
     "metadata": {},
     "output_type": "execute_result"
    }
   ],
   "source": [
    "#Apply\n",
    "data = infer_category_type(data, list_cat_cols)\n",
    "data.dtypes"
   ]
  },
  {
   "cell_type": "markdown",
   "metadata": {},
   "source": [
    "#### Label Encoder of Categorical variables"
   ]
  },
  {
   "cell_type": "code",
   "execution_count": 60,
   "metadata": {
    "collapsed": true
   },
   "outputs": [],
   "source": [
    "def label_enocder(data, list_cat_cols):\n",
    "    '''\n",
    "    Apply Label encoder to the categorical columns (list_cat_cols) in data\n",
    "    \n",
    "    '''\n",
    "    \n",
    "    #Create Label Encoder \n",
    "    for column_name in list_cat_cols:\n",
    "        #Apply label encoder to each column\n",
    "        data[column_name] = preprocessing.LabelEncoder().fit_transform(data[column_name])\n",
    "    \n",
    "    return data"
   ]
  },
  {
   "cell_type": "code",
   "execution_count": 61,
   "metadata": {
    "collapsed": true
   },
   "outputs": [],
   "source": [
    "#List columns label encode \n",
    "list_le_cols = ['funder','installer','wpt_name','basin','subvillage','region','lga','ward','recorded_by','scheme_management','scheme_name','extraction_type','extraction_type_group','extraction_type_class',\n",
    " 'management',\n",
    " 'management_group',\n",
    " 'payment',\n",
    " 'payment_type',\n",
    " 'water_quality',\n",
    " 'quality_group',\n",
    " 'quantity',\n",
    " 'quantity_group',\n",
    " 'source',\n",
    " 'source_type',\n",
    " 'source_class',\n",
    " 'waterpoint_type',\n",
    " 'waterpoint_type_group']"
   ]
  },
  {
   "cell_type": "code",
   "execution_count": 62,
   "metadata": {
    "collapsed": true
   },
   "outputs": [],
   "source": [
    "#Apply\n",
    "data = label_enocder(data, list_le_cols)"
   ]
  },
  {
   "cell_type": "code",
   "execution_count": 63,
   "metadata": {},
   "outputs": [
    {
     "name": "stdout",
     "output_type": "stream",
     "text": [
      "(59398, 41)\n"
     ]
    },
    {
     "data": {
      "text/html": [
       "<div>\n",
       "<style scoped>\n",
       "    .dataframe tbody tr th:only-of-type {\n",
       "        vertical-align: middle;\n",
       "    }\n",
       "\n",
       "    .dataframe tbody tr th {\n",
       "        vertical-align: top;\n",
       "    }\n",
       "\n",
       "    .dataframe thead th {\n",
       "        text-align: right;\n",
       "    }\n",
       "</style>\n",
       "<table border=\"1\" class=\"dataframe\">\n",
       "  <thead>\n",
       "    <tr style=\"text-align: right;\">\n",
       "      <th></th>\n",
       "      <th>status_group</th>\n",
       "      <th>id</th>\n",
       "      <th>date_recorded</th>\n",
       "      <th>funder</th>\n",
       "      <th>gps_height</th>\n",
       "      <th>installer</th>\n",
       "      <th>longitude</th>\n",
       "      <th>latitude</th>\n",
       "      <th>wpt_name</th>\n",
       "      <th>num_private</th>\n",
       "      <th>...</th>\n",
       "      <th>water_quality</th>\n",
       "      <th>quality_group</th>\n",
       "      <th>quantity</th>\n",
       "      <th>quantity_group</th>\n",
       "      <th>source</th>\n",
       "      <th>source_type</th>\n",
       "      <th>source_class</th>\n",
       "      <th>waterpoint_type</th>\n",
       "      <th>waterpoint_type_group</th>\n",
       "      <th>amount_tsh</th>\n",
       "    </tr>\n",
       "  </thead>\n",
       "  <tbody>\n",
       "    <tr>\n",
       "      <th>0</th>\n",
       "      <td>functional</td>\n",
       "      <td>69572.0</td>\n",
       "      <td>3/14/11</td>\n",
       "      <td>1369</td>\n",
       "      <td>1390.0</td>\n",
       "      <td>1518</td>\n",
       "      <td>34.938093</td>\n",
       "      <td>-9.856322</td>\n",
       "      <td>37398</td>\n",
       "      <td>0</td>\n",
       "      <td>...</td>\n",
       "      <td>6</td>\n",
       "      <td>2</td>\n",
       "      <td>1</td>\n",
       "      <td>1</td>\n",
       "      <td>8</td>\n",
       "      <td>6</td>\n",
       "      <td>0</td>\n",
       "      <td>1</td>\n",
       "      <td>1</td>\n",
       "      <td>6000.0</td>\n",
       "    </tr>\n",
       "    <tr>\n",
       "      <th>1</th>\n",
       "      <td>functional</td>\n",
       "      <td>8776.0</td>\n",
       "      <td>3/6/13</td>\n",
       "      <td>469</td>\n",
       "      <td>1399.0</td>\n",
       "      <td>545</td>\n",
       "      <td>34.698766</td>\n",
       "      <td>-2.147466</td>\n",
       "      <td>37194</td>\n",
       "      <td>0</td>\n",
       "      <td>...</td>\n",
       "      <td>6</td>\n",
       "      <td>2</td>\n",
       "      <td>2</td>\n",
       "      <td>2</td>\n",
       "      <td>5</td>\n",
       "      <td>3</td>\n",
       "      <td>1</td>\n",
       "      <td>1</td>\n",
       "      <td>1</td>\n",
       "      <td>0.0</td>\n",
       "    </tr>\n",
       "    <tr>\n",
       "      <th>2</th>\n",
       "      <td>functional</td>\n",
       "      <td>34310.0</td>\n",
       "      <td>2/25/13</td>\n",
       "      <td>825</td>\n",
       "      <td>686.0</td>\n",
       "      <td>2048</td>\n",
       "      <td>37.460664</td>\n",
       "      <td>-3.821329</td>\n",
       "      <td>14571</td>\n",
       "      <td>0</td>\n",
       "      <td>...</td>\n",
       "      <td>6</td>\n",
       "      <td>2</td>\n",
       "      <td>1</td>\n",
       "      <td>1</td>\n",
       "      <td>0</td>\n",
       "      <td>1</td>\n",
       "      <td>1</td>\n",
       "      <td>2</td>\n",
       "      <td>1</td>\n",
       "      <td>25.0</td>\n",
       "    </tr>\n",
       "    <tr>\n",
       "      <th>3</th>\n",
       "      <td>non functional</td>\n",
       "      <td>67743.0</td>\n",
       "      <td>1/28/13</td>\n",
       "      <td>1741</td>\n",
       "      <td>263.0</td>\n",
       "      <td>1852</td>\n",
       "      <td>38.486161</td>\n",
       "      <td>-11.155298</td>\n",
       "      <td>37284</td>\n",
       "      <td>0</td>\n",
       "      <td>...</td>\n",
       "      <td>6</td>\n",
       "      <td>2</td>\n",
       "      <td>0</td>\n",
       "      <td>0</td>\n",
       "      <td>3</td>\n",
       "      <td>0</td>\n",
       "      <td>0</td>\n",
       "      <td>2</td>\n",
       "      <td>1</td>\n",
       "      <td>0.0</td>\n",
       "    </tr>\n",
       "    <tr>\n",
       "      <th>4</th>\n",
       "      <td>functional</td>\n",
       "      <td>19728.0</td>\n",
       "      <td>7/13/11</td>\n",
       "      <td>20</td>\n",
       "      <td>0.0</td>\n",
       "      <td>119</td>\n",
       "      <td>31.130847</td>\n",
       "      <td>-1.825359</td>\n",
       "      <td>35528</td>\n",
       "      <td>0</td>\n",
       "      <td>...</td>\n",
       "      <td>6</td>\n",
       "      <td>2</td>\n",
       "      <td>3</td>\n",
       "      <td>3</td>\n",
       "      <td>5</td>\n",
       "      <td>3</td>\n",
       "      <td>1</td>\n",
       "      <td>1</td>\n",
       "      <td>1</td>\n",
       "      <td>0.0</td>\n",
       "    </tr>\n",
       "  </tbody>\n",
       "</table>\n",
       "<p>5 rows × 41 columns</p>\n",
       "</div>"
      ],
      "text/plain": [
       "     status_group       id date_recorded  funder  gps_height  installer  \\\n",
       "0      functional  69572.0       3/14/11    1369      1390.0       1518   \n",
       "1      functional   8776.0        3/6/13     469      1399.0        545   \n",
       "2      functional  34310.0       2/25/13     825       686.0       2048   \n",
       "3  non functional  67743.0       1/28/13    1741       263.0       1852   \n",
       "4      functional  19728.0       7/13/11      20         0.0        119   \n",
       "\n",
       "   longitude   latitude  wpt_name  num_private     ...      water_quality  \\\n",
       "0  34.938093  -9.856322     37398            0     ...                  6   \n",
       "1  34.698766  -2.147466     37194            0     ...                  6   \n",
       "2  37.460664  -3.821329     14571            0     ...                  6   \n",
       "3  38.486161 -11.155298     37284            0     ...                  6   \n",
       "4  31.130847  -1.825359     35528            0     ...                  6   \n",
       "\n",
       "   quality_group  quantity  quantity_group  source  source_type  source_class  \\\n",
       "0              2         1               1       8            6             0   \n",
       "1              2         2               2       5            3             1   \n",
       "2              2         1               1       0            1             1   \n",
       "3              2         0               0       3            0             0   \n",
       "4              2         3               3       5            3             1   \n",
       "\n",
       "   waterpoint_type  waterpoint_type_group  amount_tsh  \n",
       "0                1                      1      6000.0  \n",
       "1                1                      1         0.0  \n",
       "2                2                      1        25.0  \n",
       "3                2                      1         0.0  \n",
       "4                1                      1         0.0  \n",
       "\n",
       "[5 rows x 41 columns]"
      ]
     },
     "execution_count": 63,
     "metadata": {},
     "output_type": "execute_result"
    }
   ],
   "source": [
    "print(data.shape)\n",
    "data.head()"
   ]
  },
  {
   "cell_type": "markdown",
   "metadata": {},
   "source": [
    "### 3.2 Feature Selection\n",
    "To reduce the complexity of the model (reduce overfitting) some of the predictors were removed;\n",
    "\n",
    " __region_code__ was removed as;\n",
    "- It is merely the coded version of __region__\n",
    "- It is higly correlated with __district_code__ and so to avoid multi-collinearity one of the predictors should be removed. Given the first point above, of the two, it was decided to remove  __region_code__\n"
   ]
  },
  {
   "cell_type": "code",
   "execution_count": 69,
   "metadata": {},
   "outputs": [
    {
     "name": "stdout",
     "output_type": "stream",
     "text": [
      "(59398, 41)\n",
      "(59398, 40)\n"
     ]
    }
   ],
   "source": [
    "#Fake \n",
    "print(data.shape)\n",
    "columns_drop = ['region_code']\n",
    "data = data.drop(columns_drop, axis=1)\n",
    "print(data.shape)"
   ]
  },
  {
   "cell_type": "markdown",
   "metadata": {},
   "source": [
    "<a id='final_dataset'></a>\n",
    "### 3.3 Final Dataset"
   ]
  },
  {
   "cell_type": "markdown",
   "metadata": {
    "collapsed": true
   },
   "source": [
    "- The final dataset is shown below"
   ]
  },
  {
   "cell_type": "code",
   "execution_count": 90,
   "metadata": {},
   "outputs": [
    {
     "data": {
      "text/html": [
       "<div>\n",
       "<style scoped>\n",
       "    .dataframe tbody tr th:only-of-type {\n",
       "        vertical-align: middle;\n",
       "    }\n",
       "\n",
       "    .dataframe tbody tr th {\n",
       "        vertical-align: top;\n",
       "    }\n",
       "\n",
       "    .dataframe thead th {\n",
       "        text-align: right;\n",
       "    }\n",
       "</style>\n",
       "<table border=\"1\" class=\"dataframe\">\n",
       "  <thead>\n",
       "    <tr style=\"text-align: right;\">\n",
       "      <th></th>\n",
       "      <th>status_group</th>\n",
       "      <th>id</th>\n",
       "      <th>date_recorded</th>\n",
       "      <th>funder</th>\n",
       "      <th>gps_height</th>\n",
       "      <th>installer</th>\n",
       "      <th>longitude</th>\n",
       "      <th>latitude</th>\n",
       "      <th>wpt_name</th>\n",
       "      <th>num_private</th>\n",
       "      <th>...</th>\n",
       "      <th>water_quality</th>\n",
       "      <th>quality_group</th>\n",
       "      <th>quantity</th>\n",
       "      <th>quantity_group</th>\n",
       "      <th>source</th>\n",
       "      <th>source_type</th>\n",
       "      <th>source_class</th>\n",
       "      <th>waterpoint_type</th>\n",
       "      <th>waterpoint_type_group</th>\n",
       "      <th>amount_tsh</th>\n",
       "    </tr>\n",
       "  </thead>\n",
       "  <tbody>\n",
       "    <tr>\n",
       "      <th>0</th>\n",
       "      <td>functional</td>\n",
       "      <td>69572.0</td>\n",
       "      <td>3/14/11</td>\n",
       "      <td>1369</td>\n",
       "      <td>1390.0</td>\n",
       "      <td>1518</td>\n",
       "      <td>34.938093</td>\n",
       "      <td>-9.856322</td>\n",
       "      <td>37398</td>\n",
       "      <td>0</td>\n",
       "      <td>...</td>\n",
       "      <td>6</td>\n",
       "      <td>2</td>\n",
       "      <td>1</td>\n",
       "      <td>1</td>\n",
       "      <td>8</td>\n",
       "      <td>6</td>\n",
       "      <td>0</td>\n",
       "      <td>1</td>\n",
       "      <td>1</td>\n",
       "      <td>6000.0</td>\n",
       "    </tr>\n",
       "    <tr>\n",
       "      <th>1</th>\n",
       "      <td>functional</td>\n",
       "      <td>8776.0</td>\n",
       "      <td>3/6/13</td>\n",
       "      <td>469</td>\n",
       "      <td>1399.0</td>\n",
       "      <td>545</td>\n",
       "      <td>34.698766</td>\n",
       "      <td>-2.147466</td>\n",
       "      <td>37194</td>\n",
       "      <td>0</td>\n",
       "      <td>...</td>\n",
       "      <td>6</td>\n",
       "      <td>2</td>\n",
       "      <td>2</td>\n",
       "      <td>2</td>\n",
       "      <td>5</td>\n",
       "      <td>3</td>\n",
       "      <td>1</td>\n",
       "      <td>1</td>\n",
       "      <td>1</td>\n",
       "      <td>0.0</td>\n",
       "    </tr>\n",
       "    <tr>\n",
       "      <th>2</th>\n",
       "      <td>functional</td>\n",
       "      <td>34310.0</td>\n",
       "      <td>2/25/13</td>\n",
       "      <td>825</td>\n",
       "      <td>686.0</td>\n",
       "      <td>2048</td>\n",
       "      <td>37.460664</td>\n",
       "      <td>-3.821329</td>\n",
       "      <td>14571</td>\n",
       "      <td>0</td>\n",
       "      <td>...</td>\n",
       "      <td>6</td>\n",
       "      <td>2</td>\n",
       "      <td>1</td>\n",
       "      <td>1</td>\n",
       "      <td>0</td>\n",
       "      <td>1</td>\n",
       "      <td>1</td>\n",
       "      <td>2</td>\n",
       "      <td>1</td>\n",
       "      <td>25.0</td>\n",
       "    </tr>\n",
       "    <tr>\n",
       "      <th>3</th>\n",
       "      <td>non functional</td>\n",
       "      <td>67743.0</td>\n",
       "      <td>1/28/13</td>\n",
       "      <td>1741</td>\n",
       "      <td>263.0</td>\n",
       "      <td>1852</td>\n",
       "      <td>38.486161</td>\n",
       "      <td>-11.155298</td>\n",
       "      <td>37284</td>\n",
       "      <td>0</td>\n",
       "      <td>...</td>\n",
       "      <td>6</td>\n",
       "      <td>2</td>\n",
       "      <td>0</td>\n",
       "      <td>0</td>\n",
       "      <td>3</td>\n",
       "      <td>0</td>\n",
       "      <td>0</td>\n",
       "      <td>2</td>\n",
       "      <td>1</td>\n",
       "      <td>0.0</td>\n",
       "    </tr>\n",
       "    <tr>\n",
       "      <th>4</th>\n",
       "      <td>functional</td>\n",
       "      <td>19728.0</td>\n",
       "      <td>7/13/11</td>\n",
       "      <td>20</td>\n",
       "      <td>0.0</td>\n",
       "      <td>119</td>\n",
       "      <td>31.130847</td>\n",
       "      <td>-1.825359</td>\n",
       "      <td>35528</td>\n",
       "      <td>0</td>\n",
       "      <td>...</td>\n",
       "      <td>6</td>\n",
       "      <td>2</td>\n",
       "      <td>3</td>\n",
       "      <td>3</td>\n",
       "      <td>5</td>\n",
       "      <td>3</td>\n",
       "      <td>1</td>\n",
       "      <td>1</td>\n",
       "      <td>1</td>\n",
       "      <td>0.0</td>\n",
       "    </tr>\n",
       "  </tbody>\n",
       "</table>\n",
       "<p>5 rows × 40 columns</p>\n",
       "</div>"
      ],
      "text/plain": [
       "     status_group       id date_recorded  funder  gps_height  installer  \\\n",
       "0      functional  69572.0       3/14/11    1369      1390.0       1518   \n",
       "1      functional   8776.0        3/6/13     469      1399.0        545   \n",
       "2      functional  34310.0       2/25/13     825       686.0       2048   \n",
       "3  non functional  67743.0       1/28/13    1741       263.0       1852   \n",
       "4      functional  19728.0       7/13/11      20         0.0        119   \n",
       "\n",
       "   longitude   latitude  wpt_name  num_private     ...      water_quality  \\\n",
       "0  34.938093  -9.856322     37398            0     ...                  6   \n",
       "1  34.698766  -2.147466     37194            0     ...                  6   \n",
       "2  37.460664  -3.821329     14571            0     ...                  6   \n",
       "3  38.486161 -11.155298     37284            0     ...                  6   \n",
       "4  31.130847  -1.825359     35528            0     ...                  6   \n",
       "\n",
       "   quality_group  quantity  quantity_group  source  source_type  source_class  \\\n",
       "0              2         1               1       8            6             0   \n",
       "1              2         2               2       5            3             1   \n",
       "2              2         1               1       0            1             1   \n",
       "3              2         0               0       3            0             0   \n",
       "4              2         3               3       5            3             1   \n",
       "\n",
       "   waterpoint_type  waterpoint_type_group  amount_tsh  \n",
       "0                1                      1      6000.0  \n",
       "1                1                      1         0.0  \n",
       "2                2                      1        25.0  \n",
       "3                2                      1         0.0  \n",
       "4                1                      1         0.0  \n",
       "\n",
       "[5 rows x 40 columns]"
      ]
     },
     "execution_count": 90,
     "metadata": {},
     "output_type": "execute_result"
    }
   ],
   "source": [
    "data.head()"
   ]
  },
  {
   "cell_type": "code",
   "execution_count": 91,
   "metadata": {},
   "outputs": [
    {
     "name": "stdout",
     "output_type": "stream",
     "text": [
      "(59398, 40)\n"
     ]
    }
   ],
   "source": [
    "print(data.shape)"
   ]
  },
  {
   "cell_type": "code",
   "execution_count": 108,
   "metadata": {},
   "outputs": [
    {
     "name": "stdout",
     "output_type": "stream",
     "text": [
      "(59398, 40)\n"
     ]
    }
   ],
   "source": [
    "print(data.shape)"
   ]
  },
  {
   "cell_type": "markdown",
   "metadata": {},
   "source": [
    "#### Save so can upload to h20"
   ]
  },
  {
   "cell_type": "code",
   "execution_count": 109,
   "metadata": {
    "collapsed": true
   },
   "outputs": [],
   "source": [
    "data.to_csv('final_data_day2.csv')"
   ]
  },
  {
   "cell_type": "code",
   "execution_count": 117,
   "metadata": {
    "collapsed": true
   },
   "outputs": [],
   "source": [
    "folder = '/mapr/users/hcraddoc/evaluation_feb2019/'\n",
    "file = 'final_data_day2.csv'\n",
    "data.to_csv(folder + file)"
   ]
  },
  {
   "cell_type": "markdown",
   "metadata": {},
   "source": [
    "#### Class balance"
   ]
  },
  {
   "cell_type": "code",
   "execution_count": 64,
   "metadata": {},
   "outputs": [
    {
     "data": {
      "text/plain": [
       "functional                 32259\n",
       "non functional             22823\n",
       "functional needs repair     4316\n",
       "Name: status_group, dtype: int64"
      ]
     },
     "execution_count": 64,
     "metadata": {},
     "output_type": "execute_result"
    }
   ],
   "source": [
    "data[\"status_group\"].value_counts()"
   ]
  },
  {
   "cell_type": "markdown",
   "metadata": {},
   "source": [
    "#### Features, Target_Variable\n",
    "- (split into the features (X) and the target variable (y) are shown below)"
   ]
  },
  {
   "cell_type": "code",
   "execution_count": 70,
   "metadata": {},
   "outputs": [
    {
     "name": "stdout",
     "output_type": "stream",
     "text": [
      "(59398, 37)\n"
     ]
    }
   ],
   "source": [
    "X = data.drop(['status_group', 'id','date_recorded'], axis=1)# X = data.drop('date_recorded', axis=1) \n",
    "print(X.shape)"
   ]
  },
  {
   "cell_type": "code",
   "execution_count": 71,
   "metadata": {},
   "outputs": [
    {
     "data": {
      "text/html": [
       "<div>\n",
       "<style scoped>\n",
       "    .dataframe tbody tr th:only-of-type {\n",
       "        vertical-align: middle;\n",
       "    }\n",
       "\n",
       "    .dataframe tbody tr th {\n",
       "        vertical-align: top;\n",
       "    }\n",
       "\n",
       "    .dataframe thead th {\n",
       "        text-align: right;\n",
       "    }\n",
       "</style>\n",
       "<table border=\"1\" class=\"dataframe\">\n",
       "  <thead>\n",
       "    <tr style=\"text-align: right;\">\n",
       "      <th></th>\n",
       "      <th>funder</th>\n",
       "      <th>gps_height</th>\n",
       "      <th>installer</th>\n",
       "      <th>longitude</th>\n",
       "      <th>latitude</th>\n",
       "      <th>wpt_name</th>\n",
       "      <th>num_private</th>\n",
       "      <th>basin</th>\n",
       "      <th>subvillage</th>\n",
       "      <th>region</th>\n",
       "      <th>...</th>\n",
       "      <th>water_quality</th>\n",
       "      <th>quality_group</th>\n",
       "      <th>quantity</th>\n",
       "      <th>quantity_group</th>\n",
       "      <th>source</th>\n",
       "      <th>source_type</th>\n",
       "      <th>source_class</th>\n",
       "      <th>waterpoint_type</th>\n",
       "      <th>waterpoint_type_group</th>\n",
       "      <th>amount_tsh</th>\n",
       "    </tr>\n",
       "  </thead>\n",
       "  <tbody>\n",
       "    <tr>\n",
       "      <th>0</th>\n",
       "      <td>1369</td>\n",
       "      <td>1390.0</td>\n",
       "      <td>1518</td>\n",
       "      <td>34.938093</td>\n",
       "      <td>-9.856322</td>\n",
       "      <td>37398</td>\n",
       "      <td>0</td>\n",
       "      <td>1</td>\n",
       "      <td>11807</td>\n",
       "      <td>3</td>\n",
       "      <td>...</td>\n",
       "      <td>6</td>\n",
       "      <td>2</td>\n",
       "      <td>1</td>\n",
       "      <td>1</td>\n",
       "      <td>8</td>\n",
       "      <td>6</td>\n",
       "      <td>0</td>\n",
       "      <td>1</td>\n",
       "      <td>1</td>\n",
       "      <td>6000.0</td>\n",
       "    </tr>\n",
       "    <tr>\n",
       "      <th>1</th>\n",
       "      <td>469</td>\n",
       "      <td>1399.0</td>\n",
       "      <td>545</td>\n",
       "      <td>34.698766</td>\n",
       "      <td>-2.147466</td>\n",
       "      <td>37194</td>\n",
       "      <td>0</td>\n",
       "      <td>4</td>\n",
       "      <td>15837</td>\n",
       "      <td>9</td>\n",
       "      <td>...</td>\n",
       "      <td>6</td>\n",
       "      <td>2</td>\n",
       "      <td>2</td>\n",
       "      <td>2</td>\n",
       "      <td>5</td>\n",
       "      <td>3</td>\n",
       "      <td>1</td>\n",
       "      <td>1</td>\n",
       "      <td>1</td>\n",
       "      <td>0.0</td>\n",
       "    </tr>\n",
       "    <tr>\n",
       "      <th>2</th>\n",
       "      <td>825</td>\n",
       "      <td>686.0</td>\n",
       "      <td>2048</td>\n",
       "      <td>37.460664</td>\n",
       "      <td>-3.821329</td>\n",
       "      <td>14571</td>\n",
       "      <td>0</td>\n",
       "      <td>5</td>\n",
       "      <td>9074</td>\n",
       "      <td>8</td>\n",
       "      <td>...</td>\n",
       "      <td>6</td>\n",
       "      <td>2</td>\n",
       "      <td>1</td>\n",
       "      <td>1</td>\n",
       "      <td>0</td>\n",
       "      <td>1</td>\n",
       "      <td>1</td>\n",
       "      <td>2</td>\n",
       "      <td>1</td>\n",
       "      <td>25.0</td>\n",
       "    </tr>\n",
       "    <tr>\n",
       "      <th>3</th>\n",
       "      <td>1741</td>\n",
       "      <td>263.0</td>\n",
       "      <td>1852</td>\n",
       "      <td>38.486161</td>\n",
       "      <td>-11.155298</td>\n",
       "      <td>37284</td>\n",
       "      <td>0</td>\n",
       "      <td>7</td>\n",
       "      <td>8982</td>\n",
       "      <td>12</td>\n",
       "      <td>...</td>\n",
       "      <td>6</td>\n",
       "      <td>2</td>\n",
       "      <td>0</td>\n",
       "      <td>0</td>\n",
       "      <td>3</td>\n",
       "      <td>0</td>\n",
       "      <td>0</td>\n",
       "      <td>2</td>\n",
       "      <td>1</td>\n",
       "      <td>0.0</td>\n",
       "    </tr>\n",
       "    <tr>\n",
       "      <th>4</th>\n",
       "      <td>20</td>\n",
       "      <td>0.0</td>\n",
       "      <td>119</td>\n",
       "      <td>31.130847</td>\n",
       "      <td>-1.825359</td>\n",
       "      <td>35528</td>\n",
       "      <td>0</td>\n",
       "      <td>4</td>\n",
       "      <td>7698</td>\n",
       "      <td>4</td>\n",
       "      <td>...</td>\n",
       "      <td>6</td>\n",
       "      <td>2</td>\n",
       "      <td>3</td>\n",
       "      <td>3</td>\n",
       "      <td>5</td>\n",
       "      <td>3</td>\n",
       "      <td>1</td>\n",
       "      <td>1</td>\n",
       "      <td>1</td>\n",
       "      <td>0.0</td>\n",
       "    </tr>\n",
       "  </tbody>\n",
       "</table>\n",
       "<p>5 rows × 37 columns</p>\n",
       "</div>"
      ],
      "text/plain": [
       "   funder  gps_height  installer  longitude   latitude  wpt_name  num_private  \\\n",
       "0    1369      1390.0       1518  34.938093  -9.856322     37398            0   \n",
       "1     469      1399.0        545  34.698766  -2.147466     37194            0   \n",
       "2     825       686.0       2048  37.460664  -3.821329     14571            0   \n",
       "3    1741       263.0       1852  38.486161 -11.155298     37284            0   \n",
       "4      20         0.0        119  31.130847  -1.825359     35528            0   \n",
       "\n",
       "   basin  subvillage  region     ...      water_quality  quality_group  \\\n",
       "0      1       11807       3     ...                  6              2   \n",
       "1      4       15837       9     ...                  6              2   \n",
       "2      5        9074       8     ...                  6              2   \n",
       "3      7        8982      12     ...                  6              2   \n",
       "4      4        7698       4     ...                  6              2   \n",
       "\n",
       "   quantity  quantity_group  source  source_type  source_class  \\\n",
       "0         1               1       8            6             0   \n",
       "1         2               2       5            3             1   \n",
       "2         1               1       0            1             1   \n",
       "3         0               0       3            0             0   \n",
       "4         3               3       5            3             1   \n",
       "\n",
       "   waterpoint_type  waterpoint_type_group  amount_tsh  \n",
       "0                1                      1      6000.0  \n",
       "1                1                      1         0.0  \n",
       "2                2                      1        25.0  \n",
       "3                2                      1         0.0  \n",
       "4                1                      1         0.0  \n",
       "\n",
       "[5 rows x 37 columns]"
      ]
     },
     "execution_count": 71,
     "metadata": {},
     "output_type": "execute_result"
    }
   ],
   "source": [
    "X.head()"
   ]
  },
  {
   "cell_type": "code",
   "execution_count": 68,
   "metadata": {},
   "outputs": [
    {
     "data": {
      "text/plain": [
       "Index(['funder', 'gps_height', 'installer', 'longitude', 'latitude',\n",
       "       'wpt_name', 'num_private', 'basin', 'subvillage', 'region',\n",
       "       'region_code', 'district_code', 'lga', 'ward', 'population',\n",
       "       'public_meeting', 'recorded_by', 'scheme_management', 'scheme_name',\n",
       "       'permit', 'construction_year', 'extraction_type',\n",
       "       'extraction_type_group', 'extraction_type_class', 'management',\n",
       "       'management_group', 'payment', 'payment_type', 'water_quality',\n",
       "       'quality_group', 'quantity', 'quantity_group', 'source', 'source_type',\n",
       "       'source_class', 'waterpoint_type', 'waterpoint_type_group',\n",
       "       'amount_tsh'],\n",
       "      dtype='object')"
      ]
     },
     "execution_count": 68,
     "metadata": {},
     "output_type": "execute_result"
    }
   ],
   "source": [
    "X.columns"
   ]
  },
  {
   "cell_type": "code",
   "execution_count": 66,
   "metadata": {},
   "outputs": [
    {
     "data": {
      "text/plain": [
       "(59398,)"
      ]
     },
     "execution_count": 66,
     "metadata": {},
     "output_type": "execute_result"
    }
   ],
   "source": [
    "y = data[\"status_group\"]\n",
    "y.shape"
   ]
  },
  {
   "cell_type": "markdown",
   "metadata": {},
   "source": [
    "<a id='model_build'></a>\n",
    "# Section 4: Model Building "
   ]
  },
  {
   "cell_type": "markdown",
   "metadata": {
    "collapsed": true
   },
   "source": [
    "- __4.1 Test Design__\n",
    "- __4.2 Selection of Model type__\n",
    "- __4.3 Hyper parameter tuning__\n",
    "- __4.4 Test final model on test set__"
   ]
  },
  {
   "cell_type": "markdown",
   "metadata": {},
   "source": [
    "### 4.1 Test Design\n",
    "- Split data into train, validation and test sets;\n",
    "\n",
    "\n",
    "- __Training set__: Fit model to training set\n",
    "\n",
    "    \n",
    "- __Validation set__: Use the validation set to select the select best performing model (hyper-parameters tuning etc)\n",
    "\n",
    "\n",
    "- __Test set__: Use test set to get an unbiased evaluation of the final model fit"
   ]
  },
  {
   "cell_type": "code",
   "execution_count": 72,
   "metadata": {},
   "outputs": [
    {
     "name": "stdout",
     "output_type": "stream",
     "text": [
      "Training size = 0.5\n",
      "Validation size = 0.2\n",
      "Test size = 0.3\n"
     ]
    }
   ],
   "source": [
    "#Set sizes\n",
    "train_sizeX = 0.5\n",
    "test_sizeX = 0.3\n",
    "valid_sizeX = round((1.0 - (train_sizeX + test_sizeX)), 3)\n",
    "#Combine train + valid\n",
    "train_valid_size = train_sizeX + valid_sizeX\n",
    "print('Training size = {}'.format(train_sizeX))\n",
    "print('Validation size = {}'.format(valid_sizeX)) \n",
    "print('Test size = {}'.format(test_sizeX))"
   ]
  },
  {
   "cell_type": "code",
   "execution_count": 73,
   "metadata": {},
   "outputs": [
    {
     "name": "stderr",
     "output_type": "stream",
     "text": [
      "/app/anaconda3/envs/python352/lib/python3.5/site-packages/sklearn/model_selection/_split.py:2069: FutureWarning: From version 0.21, test_size will always complement train_size unless both are specified.\n",
      "  FutureWarning)\n"
     ]
    }
   ],
   "source": [
    "#Split Data\n",
    "X_train_plus_valid, X_test, y_train_plus_valid, y_test \\\n",
    "    = train_test_split(X, y, random_state=0, \\\n",
    "                                    train_size = train_sizeX + valid_sizeX)\n",
    "\n",
    "X_train, X_valid, y_train, y_valid \\\n",
    "    = train_test_split(X_train_plus_valid, \\\n",
    "                                        y_train_plus_valid, \\\n",
    "                                        random_state=0, \\\n",
    "                                        train_size = train_sizeX/train_valid_size)"
   ]
  },
  {
   "cell_type": "code",
   "execution_count": 96,
   "metadata": {},
   "outputs": [
    {
     "name": "stdout",
     "output_type": "stream",
     "text": [
      "X shape = (59398, 37),\n",
      "X train shape = (29698, 37),\n",
      "X valid shape = (11880, 37)\n",
      "X test shape = (17820, 37)\n",
      "*****\n",
      "y shape = (59398,),\n",
      "y train shape = (29698,),\n",
      "y valid shape = (11880,)\n",
      "y test shape = (17820,)\n"
     ]
    }
   ],
   "source": [
    "#Print shapes\n",
    "#X shapes\n",
    "print(\"X shape = {},\".format(X.shape))\n",
    "print(\"X train shape = {},\".format(X_train.shape))\n",
    "print(\"X valid shape = {}\".format(X_valid.shape))\n",
    "print(\"X test shape = {}\".format(X_test.shape))\n",
    "print('*****')\n",
    "print(\"y shape = {},\".format(y.shape))\n",
    "print(\"y train shape = {},\".format(y_train.shape))\n",
    "print(\"y valid shape = {}\".format(y_valid.shape))\n",
    "print(\"y test shape = {}\".format(y_test.shape))"
   ]
  },
  {
   "cell_type": "markdown",
   "metadata": {},
   "source": [
    "### 4.2 Selection of Model Type\n",
    "\n",
    "__Modelling technique: Ensemble Methods only__\n",
    "\n",
    "- Only ensemble methods were tested given that they are the aggregate of multiple learning algorithms and therefore generally obtain a better predictive performance than could be obtained from any of the constituent learning algorithms alone\n",
    "\n",
    "- Random Forest, Gradient Boosting, XGBoost were tested\n",
    "\n",
    "__Approach Comparing models__:\n",
    "\n",
    "- Models will be fit on the training set\n",
    "- Predictions will be made on the validation set \n",
    "- Models will be compared using the accuracy given by the mean of the cross-validation models\n",
    "- When comparing models the __default hyper-parameter settings__ will be used\n",
    "- Once the final model is chosen then parameter tuning will be performed\n"
   ]
  },
  {
   "cell_type": "markdown",
   "metadata": {},
   "source": [
    "__Function: to test model on validation data and using cross validation__"
   ]
  },
  {
   "cell_type": "code",
   "execution_count": 127,
   "metadata": {
    "collapsed": true
   },
   "outputs": [],
   "source": [
    "def model_performace_val_cv(model, X, y, X_valid, y_valid):\n",
    "    '''\n",
    "    Compute accuracy on validation set and using cross-validation\n",
    "    \n",
    "    Parameters:\n",
    "    model, X, y, X_valid, y_valid\n",
    "\n",
    "    \n",
    "    '''\n",
    "    print('Model = {}'.format(model))\n",
    "    \n",
    "    #1. Test on validation set\n",
    "    \n",
    "    #Predictions for the test data\n",
    "    y_pred = model.predict(X_valid)\n",
    "    \n",
    "    #Validation accuracy\n",
    "    validation_accuracy = metrics.accuracy_score(y_valid, y_pred)\n",
    "    print(\"Validation Accuracy: \" + str(validation_accuracy))\n",
    "    \n",
    "    #2. Cross validation\n",
    "    cv_scores = cross_val_score(model, X, y, cv=5)\n",
    "    print(\"Cross Validation (CV) accuracies: {}\".format(cv_scores)) \n",
    "    print(\"Mean CV accuracy: {}\".format(cv_scores.mean())) \n",
    "    print(\"Std CV accuracy: {}\".format(cv_scores.std()))"
   ]
  },
  {
   "cell_type": "code",
   "execution_count": 128,
   "metadata": {},
   "outputs": [
    {
     "name": "stdout",
     "output_type": "stream",
     "text": [
      "\n",
      "    Compute accuracy on validation set and using cross-validation\n",
      "    \n",
      "    Parameters:\n",
      "    model, X, y, X_valid, y_valid\n",
      "\n",
      "    \n",
      "    \n"
     ]
    }
   ],
   "source": [
    "print(model_performace_val_cv.__doc__)"
   ]
  },
  {
   "cell_type": "markdown",
   "metadata": {},
   "source": [
    "### 4.2.1 Random Forest\n",
    "\n",
    "- First implement a Random Forest Classifier\n",
    "- Default setting will be used for first iteration when models are being compared"
   ]
  },
  {
   "cell_type": "code",
   "execution_count": 103,
   "metadata": {},
   "outputs": [
    {
     "name": "stderr",
     "output_type": "stream",
     "text": [
      "/app/anaconda3/envs/python352/lib/python3.5/site-packages/sklearn/ensemble/forest.py:248: FutureWarning: The default value of n_estimators will change from 10 in version 0.20 to 100 in 0.22.\n",
      "  \"10 in version 0.20 to 100 in 0.22.\", FutureWarning)\n"
     ]
    },
    {
     "name": "stdout",
     "output_type": "stream",
     "text": [
      "Model = RandomForestClassifier(bootstrap=True, class_weight=None, criterion='gini',\n",
      "            max_depth=None, max_features='auto', max_leaf_nodes=None,\n",
      "            min_impurity_decrease=0.0, min_impurity_split=None,\n",
      "            min_samples_leaf=1, min_samples_split=2,\n",
      "            min_weight_fraction_leaf=0.0, n_estimators=10, n_jobs=None,\n",
      "            oob_score=False, random_state=None, verbose=0,\n",
      "            warm_start=False)\n",
      "Validation Accuracy: 0.790909090909\n",
      "Cross Validation (CV) accuracies: [ 0.80313105  0.79747475  0.80176768  0.79636333  0.79718808]\n",
      "Mean CV accuracy: 0.799184976573035\n",
      "Std CV accuracy: 0.0027245551821553503\n"
     ]
    }
   ],
   "source": [
    "#Model\n",
    "random_forest_classifier = RandomForestClassifier()\n",
    "#Fit to data\n",
    "random_forest_classifier.fit(X_train, y_train)\n",
    "#Assess performance using validation set and cross validation\n",
    "model_performace_val_cv(random_forest_classifier, X, y, X_valid, y_valid)"
   ]
  },
  {
   "cell_type": "markdown",
   "metadata": {},
   "source": [
    "### 4.2.2 Gradient Boosting Model\n",
    "\n",
    "- Implement a Gradient Boosting Classifier\n",
    "- Default setting will be used for first iteration when models are being compared"
   ]
  },
  {
   "cell_type": "code",
   "execution_count": 77,
   "metadata": {},
   "outputs": [
    {
     "name": "stdout",
     "output_type": "stream",
     "text": [
      "Model = GradientBoostingClassifier(criterion='friedman_mse', init=None,\n",
      "              learning_rate=0.1, loss='deviance', max_depth=3,\n",
      "              max_features=None, max_leaf_nodes=None,\n",
      "              min_impurity_decrease=0.0, min_impurity_split=None,\n",
      "              min_samples_leaf=1, min_samples_split=2,\n",
      "              min_weight_fraction_leaf=0.0, n_estimators=100,\n",
      "              n_iter_no_change=None, presort='auto', random_state=None,\n",
      "              subsample=1.0, tol=0.0001, validation_fraction=0.1,\n",
      "              verbose=0, warm_start=False)\n",
      "Validation Accuracy: 0.756734006734\n",
      "Cross Validation (CV) accuracies: [ 0.75195691  0.75117845  0.74814815  0.74913713  0.75879778]\n",
      "Mean CV accuracy: 0.751843683093966\n",
      "Std CV accuracy: 0.0037362326978721354\n"
     ]
    }
   ],
   "source": [
    "#Model\n",
    "gradient_boosting_classifer = GradientBoostingClassifier()\n",
    "#Fit to data\n",
    "gradient_boosting_classifer.fit(X_train, y_train)\n",
    "#Assess performance using validation set and cross validation\n",
    "model_performace_val_cv(gradient_boosting_classifer, X, y, X_valid, y_valid)"
   ]
  },
  {
   "cell_type": "markdown",
   "metadata": {},
   "source": [
    "### 4.2.3 XGboost\n",
    "\n",
    "- Implement XGBoost model\n",
    "- Default setting will be used for first iteration when models are being compared"
   ]
  },
  {
   "cell_type": "code",
   "execution_count": 131,
   "metadata": {},
   "outputs": [
    {
     "name": "stdout",
     "output_type": "stream",
     "text": [
      "Model = XGBClassifier(base_score=0.5, booster='gbtree', colsample_bylevel=1,\n",
      "       colsample_bytree=1, gamma=0, learning_rate=0.1, max_delta_step=0,\n",
      "       max_depth=3, min_child_weight=1, missing=None, n_estimators=100,\n",
      "       n_jobs=1, nthread=None, objective='multi:softprob', random_state=0,\n",
      "       reg_alpha=0, reg_lambda=1, scale_pos_weight=1, seed=None,\n",
      "       silent=True, subsample=1)\n",
      "Validation Accuracy: 0.750757575758\n",
      "Cross Validation (CV) accuracies: [ 0.79698679  0.79587542  0.80109428  0.79897298  0.799377  ]\n",
      "Mean CV accuracy: 0.7984612919224054\n",
      "Std CV accuracy: 0.0018381428702450488\n"
     ]
    }
   ],
   "source": [
    "#Model\n",
    "xgboost_classifer = XGBClassifier()\n",
    "#Fit to data\n",
    "xgboost_classifer.fit(X_train, y_train)\n",
    "#Assess performance using validation set and cross validation\n",
    "model_performace_val_cv(xgboost_classifer, X, y, X_valid, y_valid)"
   ]
  },
  {
   "cell_type": "markdown",
   "metadata": {},
   "source": [
    "## Model Selection: Random Forest\n",
    "\n",
    "- It was decided to implement a Random Forest as the final model given that its validation accuracy was __79.1%__ compared to __75.2%__ for the gradient boosted model and __75.1%__ for the xgboost model "
   ]
  },
  {
   "cell_type": "markdown",
   "metadata": {},
   "source": [
    "### 4.3 Model Selection - Hyperparameter tuning\n",
    "\n",
    "- Now tune the random forest to find the best features"
   ]
  },
  {
   "cell_type": "markdown",
   "metadata": {},
   "source": [
    "__RandomForestClassifier()__\n",
    "\n",
    "n_estimators : The number of trees in the forest.\n",
    "\n",
    "criterion : The function to measure the quality of a split (default=”gini”)\n",
    "\n",
    "max_depth : The maximum depth of the tree"
   ]
  },
  {
   "cell_type": "markdown",
   "metadata": {},
   "source": [
    "#### Hyper-parameter search grid"
   ]
  },
  {
   "cell_type": "code",
   "execution_count": 17,
   "metadata": {
    "collapsed": true
   },
   "outputs": [],
   "source": [
    "#Grid Search\n",
    "param_grid = {'criterion': ['gini', \"entropy\"],\\\n",
    "             'n_estimators': list(range(100, 500, 100)),\\ #100, 200, 300, 400\n",
    "             'max_depth': list(range(3, 20, 5)),\\ #3, 8, 13, 18\n",
    "             }"
   ]
  },
  {
   "cell_type": "markdown",
   "metadata": {},
   "source": [
    "#### Best performing hyper-parameters"
   ]
  },
  {
   "cell_type": "code",
   "execution_count": 18,
   "metadata": {},
   "outputs": [
    {
     "name": "stdout",
     "output_type": "stream",
     "text": [
      "Best parameters set found on development set:\n",
      "{'n_estimators': 300, 'criterion': 'entropy', 'max_depth': 18}\n",
      "0.875857142857\n"
     ]
    }
   ],
   "source": [
    "# Use Grid Search to determine best performing hyper-parameters\n",
    "tuned_random_forest = GridSearchCV(ensemble.RandomForestClassifier(), param_grid, cv=5)\n",
    "tuned_random_forest.fit(X_train, y) #Should have been y_train "
   ]
  },
  {
   "cell_type": "markdown",
   "metadata": {},
   "source": [
    "- Note: Default parameters: n_estimators: 10, criterion:gini, max_depth:None"
   ]
  },
  {
   "cell_type": "markdown",
   "metadata": {},
   "source": [
    "#### Final Model"
   ]
  },
  {
   "cell_type": "code",
   "execution_count": 88,
   "metadata": {},
   "outputs": [
    {
     "data": {
      "text/plain": [
       "RandomForestClassifier(bootstrap=True, class_weight=None, criterion='entropy',\n",
       "            max_depth=18, max_features='auto', max_leaf_nodes=None,\n",
       "            min_impurity_decrease=0.0, min_impurity_split=None,\n",
       "            min_samples_leaf=1, min_samples_split=2,\n",
       "            min_weight_fraction_leaf=0.0, n_estimators=300, n_jobs=None,\n",
       "            oob_score=False, random_state=None, verbose=0,\n",
       "            warm_start=False)"
      ]
     },
     "execution_count": 88,
     "metadata": {},
     "output_type": "execute_result"
    }
   ],
   "source": [
    "final_model = RandomForestClassifier(n_estimators=300, criterion= 'entropy', max_depth=18)\n",
    "final_model.fit(X_train, y_train)"
   ]
  },
  {
   "cell_type": "markdown",
   "metadata": {},
   "source": [
    "### 4.4 Test final model on test set"
   ]
  },
  {
   "cell_type": "markdown",
   "metadata": {},
   "source": [
    "#### 4.4.1 Predictions"
   ]
  },
  {
   "cell_type": "code",
   "execution_count": 89,
   "metadata": {
    "collapsed": true
   },
   "outputs": [],
   "source": [
    "# Make a set of predictions for the test data\n",
    "y_pred = final_model.predict(X_test)"
   ]
  },
  {
   "cell_type": "markdown",
   "metadata": {},
   "source": [
    "#### 4.4.2 Confusion matrix"
   ]
  },
  {
   "cell_type": "code",
   "execution_count": 99,
   "metadata": {},
   "outputs": [
    {
     "name": "stdout",
     "output_type": "stream",
     "text": [
      "Confusion Matrix:\n"
     ]
    },
    {
     "data": {
      "text/html": [
       "<div>\n",
       "<style scoped>\n",
       "    .dataframe tbody tr th:only-of-type {\n",
       "        vertical-align: middle;\n",
       "    }\n",
       "\n",
       "    .dataframe tbody tr th {\n",
       "        vertical-align: top;\n",
       "    }\n",
       "\n",
       "    .dataframe thead th {\n",
       "        text-align: right;\n",
       "    }\n",
       "</style>\n",
       "<table border=\"1\" class=\"dataframe\">\n",
       "  <thead>\n",
       "    <tr style=\"text-align: right;\">\n",
       "      <th>Predicted</th>\n",
       "      <th>functional</th>\n",
       "      <th>functional needs repair</th>\n",
       "      <th>non functional</th>\n",
       "      <th>All</th>\n",
       "    </tr>\n",
       "    <tr>\n",
       "      <th>True</th>\n",
       "      <th></th>\n",
       "      <th></th>\n",
       "      <th></th>\n",
       "      <th></th>\n",
       "    </tr>\n",
       "  </thead>\n",
       "  <tbody>\n",
       "    <tr>\n",
       "      <th>functional</th>\n",
       "      <td>8910</td>\n",
       "      <td>144</td>\n",
       "      <td>664</td>\n",
       "      <td>9718</td>\n",
       "    </tr>\n",
       "    <tr>\n",
       "      <th>functional needs repair</th>\n",
       "      <td>773</td>\n",
       "      <td>360</td>\n",
       "      <td>157</td>\n",
       "      <td>1290</td>\n",
       "    </tr>\n",
       "    <tr>\n",
       "      <th>non functional</th>\n",
       "      <td>1732</td>\n",
       "      <td>69</td>\n",
       "      <td>5011</td>\n",
       "      <td>6812</td>\n",
       "    </tr>\n",
       "    <tr>\n",
       "      <th>All</th>\n",
       "      <td>11415</td>\n",
       "      <td>573</td>\n",
       "      <td>5832</td>\n",
       "      <td>17820</td>\n",
       "    </tr>\n",
       "  </tbody>\n",
       "</table>\n",
       "</div>"
      ],
      "text/plain": [
       "Predicted                functional  functional needs repair  non functional  \\\n",
       "True                                                                           \n",
       "functional                     8910                      144             664   \n",
       "functional needs repair         773                      360             157   \n",
       "non functional                 1732                       69            5011   \n",
       "All                           11415                      573            5832   \n",
       "\n",
       "Predicted                  All  \n",
       "True                            \n",
       "functional                9718  \n",
       "functional needs repair   1290  \n",
       "non functional            6812  \n",
       "All                      17820  "
      ]
     },
     "execution_count": 99,
     "metadata": {},
     "output_type": "execute_result"
    }
   ],
   "source": [
    "print(\"Confusion Matrix:\")\n",
    "pd.crosstab(y_test, y_pred, rownames=['True'], colnames=['Predicted'], margins=True)"
   ]
  },
  {
   "cell_type": "markdown",
   "metadata": {},
   "source": [
    "#### 4.4.2 Performance metrics"
   ]
  },
  {
   "cell_type": "code",
   "execution_count": 130,
   "metadata": {
    "collapsed": true
   },
   "outputs": [],
   "source": [
    "def performance_final_model(y_pred, y_test, final_model):\n",
    "    '''\n",
    "    Display performance of final model inc;\n",
    "    - Accuracy\n",
    "    - Classification report\n",
    "    \n",
    "    '''\n",
    "    \n",
    "    #Accuracy\n",
    "    accuracy = metrics.accuracy_score(y_test, y_pred) \n",
    "    print('\\n')\n",
    "    print(\"Accuracy: \" +  str(accuracy))\n",
    "    \n",
    "    #Classification report\n",
    "    print('\\n')\n",
    "    print(\"Classification Report:\")\n",
    "    print(metrics.classification_report(y_test, y_pred))"
   ]
  },
  {
   "cell_type": "code",
   "execution_count": 131,
   "metadata": {},
   "outputs": [
    {
     "name": "stdout",
     "output_type": "stream",
     "text": [
      "\n",
      "    Display performance of final model inc;\n",
      "    - Accuracy\n",
      "    - Classification report\n",
      "    \n",
      "    \n"
     ]
    }
   ],
   "source": [
    "print(performance_final_model.__doc__)"
   ]
  },
  {
   "cell_type": "code",
   "execution_count": 103,
   "metadata": {},
   "outputs": [
    {
     "name": "stdout",
     "output_type": "stream",
     "text": [
      "\n",
      "\n",
      "Accuracy: 0.80140291807\n",
      "\n",
      "\n",
      "Classification Report:\n",
      "                         precision    recall  f1-score   support\n",
      "\n",
      "             functional       0.78      0.92      0.84      9718\n",
      "functional needs repair       0.63      0.28      0.39      1290\n",
      "         non functional       0.86      0.74      0.79      6812\n",
      "\n",
      "              micro avg       0.80      0.80      0.80     17820\n",
      "              macro avg       0.76      0.64      0.67     17820\n",
      "           weighted avg       0.80      0.80      0.79     17820\n",
      "\n"
     ]
    }
   ],
   "source": [
    "performance_final_model(y_pred, y_test, final_model)"
   ]
  },
  {
   "cell_type": "markdown",
   "metadata": {},
   "source": [
    "### 4.4.4 Feature Importance"
   ]
  },
  {
   "cell_type": "code",
   "execution_count": 124,
   "metadata": {},
   "outputs": [
    {
     "data": {
      "image/png": "[encoded data removed]",
      "text/plain": [
       "<matplotlib.figure.Figure at 0x7ff484d3e0b8>"
      ]
     },
     "metadata": {},
     "output_type": "display_data"
    }
   ],
   "source": [
    "#Feature Importance\n",
    "importances = final_model.feature_importances_\n",
    "features = X.columns\n",
    "indices = np.argsort(importances)\n",
    "\n",
    "#Plot\n",
    "plt.title('Feature Importances')\n",
    "plt.barh(range(len(indices)), importances[indices], color='b', align='center')\n",
    "plt.yticks(range(len(indices)), [features[i] for i in indices])\n",
    "plt.xlabel('Relative Importance')\n",
    "plt.show()"
   ]
  },
  {
   "cell_type": "markdown",
   "metadata": {},
   "source": [
    "__Feature Importance__\n",
    "- Lognitude most important feature followed by quantity group and latitude\n",
    "- recorded_by and num_private least important features"
   ]
  },
  {
   "cell_type": "markdown",
   "metadata": {},
   "source": [
    "### Final Model: Accuracy of final model on test set = 80.14%"
   ]
  },
  {
   "cell_type": "markdown",
   "metadata": {},
   "source": [
    "<a id='eval'></a>\n",
    "# Section 5: Evaluation "
   ]
  },
  {
   "cell_type": "markdown",
   "metadata": {
    "collapsed": true
   },
   "source": [
    "### 5.1 Conclusion"
   ]
  },
  {
   "cell_type": "markdown",
   "metadata": {
    "collapsed": true
   },
   "source": [
    "- Predicted the status of the water pumps using data from Taarifa and the Tanzanian by creating a predictive model\n",
    "\n",
    "\n",
    "   - __Final model: Random Forest model with an accuracy on the test set of 80.14%__\n",
    "    \n",
    "    \n",
    "- Achieved this using the CRISP-DM framework with the following stages;\n",
    "  - Business Understanding\n",
    "  - Data Understanding\n",
    "  - Data Preparation\n",
    "  - Model Building\n",
    "  - Evaluation"
   ]
  },
  {
   "cell_type": "markdown",
   "metadata": {},
   "source": [
    "### References"
   ]
  },
  {
   "cell_type": "markdown",
   "metadata": {
    "collapsed": true
   },
   "source": [
    "- CRISP-DM: https://www.sv-europe.com/crisp-dm-methodology/#evaluation"
   ]
  },
  {
   "cell_type": "markdown",
   "metadata": {},
   "source": [
    "#### Task 8: Given more time\n",
    "- PCA could have been attempted\n",
    "- More thorough Feature selection\n",
    "- Completion of all doc strings for the functions"
   ]
  },
  {
   "cell_type": "code",
   "execution_count": null,
   "metadata": {
    "collapsed": true
   },
   "outputs": [],
   "source": []
  }
 ],
 "metadata": {
  "kernelspec": {
   "display_name": "Python 3",
   "language": "python",
   "name": "python3"
  },
  "language_info": {
   "codemirror_mode": {
    "name": "ipython",
    "version": 3
   },
   "file_extension": ".py",
   "mimetype": "text/x-python",
   "name": "python",
   "nbconvert_exporter": "python",
   "pygments_lexer": "ipython3",
   "version": "3.8.5"
  }
 },
 "nbformat": 4,
 "nbformat_minor": 2
}
